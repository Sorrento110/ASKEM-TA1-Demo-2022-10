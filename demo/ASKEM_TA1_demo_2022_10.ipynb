{
 "cells": [
  {
   "cell_type": "markdown",
   "id": "10292445",
   "metadata": {},
   "source": [
    "# ASKEM TA-1 Demo October 2022\n",
    "\n",
    "## Introduction\n",
    "\n",
    "Clay, others"
   ]
  },
  {
   "cell_type": "markdown",
   "id": "adf84833",
   "metadata": {},
   "source": [
    "## FN Extraction\n",
    "\n",
    "SKEMA (Clay, Enrique, Mihai)\n",
    "\n",
    "- start with code, analyze, extract GrometFN\n",
    "- biLayer (hand-off to TA2)"
   ]
  },
  {
   "cell_type": "markdown",
   "id": "69bfd2a4",
   "metadata": {},
   "source": [
    "### Code labeling\n",
    "\n",
    "Jataware / SKEMA"
   ]
  },
  {
   "cell_type": "markdown",
   "id": "9d10d0a0",
   "metadata": {},
   "source": [
    "## MIRA Ontology Grounding\n",
    "\n",
    "Harvard (Ben); SKEMA (Enrique, Mihai)"
   ]
  },
  {
   "cell_type": "markdown",
   "id": "302172b2",
   "metadata": {},
   "source": [
    "## Metadata\n",
    "\n",
    "UWisc"
   ]
  },
  {
   "cell_type": "markdown",
   "id": "f3a99c19",
   "metadata": {},
   "source": [
    "## Registration\n",
    "\n",
    "UWisc"
   ]
  },
  {
   "cell_type": "markdown",
   "id": "8a25fed4",
   "metadata": {},
   "source": [
    "## Retrieval\n",
    "\n",
    "UWisc\n",
    "\n",
    "- Query"
   ]
  },
  {
   "cell_type": "markdown",
   "id": "c5a4a0a0",
   "metadata": {},
   "source": [
    "## Annotation / Augmentation\n",
    "\n",
    "MIT (Mike)\n",
    "\n",
    "- Find connection between parameter and code (something modeler might care about)\n",
    "- Identify re-parameterization\n",
    "- Registed updated model (and accompanying newly parameterized BiLayer)\n",
    "\n",
    "- Run model\n",
    "- Visualize model"
   ]
  }
 ],
 "metadata": {
  "kernelspec": {
   "display_name": "Python 3 (ipykernel)",
   "language": "python",
   "name": "python3"
  },
  "language_info": {
   "codemirror_mode": {
    "name": "ipython",
    "version": 3
   },
   "file_extension": ".py",
   "mimetype": "text/x-python",
   "name": "python",
   "nbconvert_exporter": "python",
   "pygments_lexer": "ipython3",
   "version": "3.9.7"
  }
 },
 "nbformat": 4,
 "nbformat_minor": 5
}

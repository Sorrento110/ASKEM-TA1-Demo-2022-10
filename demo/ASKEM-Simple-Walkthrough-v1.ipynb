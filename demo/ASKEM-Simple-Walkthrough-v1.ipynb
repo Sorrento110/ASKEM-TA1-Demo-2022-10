{
 "cells": [
  {
   "cell_type": "markdown",
   "metadata": {
    "ExecuteTime": {
     "end_time": "2022-09-29T20:21:52.240018Z",
     "start_time": "2022-09-29T20:21:52.237482Z"
    }
   },
   "source": [
    "# Package Load"
   ]
  },
  {
   "cell_type": "code",
   "execution_count": 29,
   "metadata": {
    "ExecuteTime": {
     "end_time": "2022-10-02T20:34:01.110612Z",
     "start_time": "2022-10-02T20:33:59.523380Z"
    }
   },
   "outputs": [],
   "source": [
    "import ipywidgets as widgets\n",
    "import shutil\n",
    "from ipywidgets import interact\n",
    "from ipywidgets import interactive\n",
    "import json\n",
    "import gpt3 as gpt\n",
    "from openai import OpenAIError\n",
    "from IPython import display\n",
    "from base64 import b64decode\n",
    "from pprint import PrettyPrinter\n",
    "import urllib.parse\n",
    "import gromet as gromet\n",
    "import requests\n",
    "from datetime import datetime\n",
    "import importlib\n",
    "import matplotlib.pyplot as plt\n",
    "import plotly.express as px\n",
    "plt.style.use(\"fivethirtyeight\")\n",
    "import pandas as pd\n",
    "import sys\n",
    "import uuid\n",
    "import os\n",
    "import requests\n",
    "\n",
    "# SKEMA TR pipeline\n",
    "from typing import Any, List, Mapping, Optional\n",
    "from pandas import DataFrame\n"
   ]
  },
  {
   "cell_type": "markdown",
   "metadata": {
    "ExecuteTime": {
     "end_time": "2022-09-29T20:22:37.812137Z",
     "start_time": "2022-09-29T20:22:37.809670Z"
    },
    "code_folding": []
   },
   "source": [
    "# Demo Setup Parameters"
   ]
  },
  {
   "cell_type": "code",
   "execution_count": 30,
   "metadata": {
    "ExecuteTime": {
     "end_time": "2022-10-02T20:34:04.520143Z",
     "start_time": "2022-10-02T20:34:04.515845Z"
    }
   },
   "outputs": [],
   "source": [
    "XDD_GET_URL = \"https://xdddev.chtc.io/askem/object/\"\n",
    "XDD_CREATE_URL = \"https://xdddev.chtc.io/askem/create\"\n",
    "XDD_ARTICLES_URL = \"https://xdd.wisc.edu/api/\"\n",
    "MIT_XDD_KEY = \"81622ba9-b82d-4128-8eb3-bec123d03979\"\n",
    "\n",
    "ppr=PrettyPrinter()\n",
    "\n",
    "\n",
    "#MODEL_BASE = \"src.model\"\n",
    "DYNAMIC_MODEL_DIR = \"dynmodels\"\n",
    "if not os.path.exists(DYNAMIC_MODEL_DIR):\n",
    "    os.mkdir(DYNAMIC_MODEL_DIR)\n",
    "DYNAMIC_MODEL_BASE = DYNAMIC_MODEL_DIR.replace(\"/\", \".\")\n",
    "\n",
    "#originalModelModuleName = MODEL_BASE + \".\" + \"CHIME_SIR_default_model\"\n",
    "#originalModelFileName = MODEL_BASE.replace(\".\", \"/\") + \"/\" + \"CHIME_SIR_default_model\" + \".py\"\n"
   ]
  },
  {
   "cell_type": "markdown",
   "metadata": {},
   "source": [
    "# Demo Functions"
   ]
  },
  {
   "cell_type": "code",
   "execution_count": 31,
   "metadata": {
    "ExecuteTime": {
     "end_time": "2022-10-02T20:34:06.638391Z",
     "start_time": "2022-10-02T20:34:06.634769Z"
    },
    "code_folding": []
   },
   "outputs": [],
   "source": [
    "def storeModelSourceAndLoad(modelSrcTxt, askemMetadata):\n",
    "    newModelFilename = str(uuid.uuid4())\n",
    "    newModelFQFilename = DYNAMIC_MODEL_DIR + \"/\" + newModelFilename + \".py\"\n",
    "    newModelModuleName = DYNAMIC_MODEL_BASE + \".\" + newModelFilename\n",
    "\n",
    "    with open(newModelFQFilename, \"w\") as fout:\n",
    "        for line in modelSrcTxt:\n",
    "            fout.write(line)\n",
    "        fout.close()\n",
    "    \n",
    "    print(\"NEW MODULE NAME\", newModelModuleName)\n",
    "    newModule = importlib.import_module(newModelModuleName)\n",
    "    newModule.__ASKEMMETADATA__ = askemMetadata\n",
    "    return newModule\n",
    "\n",
    "\n",
    "    "
   ]
  },
  {
   "cell_type": "code",
   "execution_count": 32,
   "metadata": {
    "ExecuteTime": {
     "end_time": "2022-10-02T20:34:08.360665Z",
     "start_time": "2022-10-02T20:34:08.353296Z"
    }
   },
   "outputs": [],
   "source": [
    "#\n",
    "# This code will create a clone of the original model (called originalModelModuleName).\n",
    "# It will mutate the new model s.t. if \"constantLineNo\" is >=0, it will replace oldConstant with newConstant\n",
    "# Then it will return a newly-loaded module that reflects these changes, and which the code can invoke\n",
    "#\n",
    "def cloneAndMutateModel(inputModelModule, alterations):\n",
    "    newModelFilename = str(uuid.uuid4())\n",
    "    newModelFQFilename = DYNAMIC_MODEL_DIR + \"/\" + newModelFilename + \".py\"\n",
    "    newModelModuleName = DYNAMIC_MODEL_BASE + \".\" + newModelFilename\n",
    "    \n",
    "    alterationD = {}\n",
    "    for constantLineNo, newConstant in alterations:\n",
    "        alterationD[constantLineNo] = newConstant\n",
    "\n",
    "\n",
    "    with open(inputModelModule.__file__, \"r\") as src:\n",
    "        with open(newModelFQFilename, \"w\") as dst:\n",
    "            for lineno, line in enumerate(src):\n",
    "                if lineno in alterationD:\n",
    "                    newConstant = alterationD[lineno]\n",
    "                    lhs, rhs = line.split(\"=\")\n",
    "                    line = lhs + \" = \" + str(newConstant) + \"\\n\"\n",
    "                dst.write(line)\n",
    "\n",
    "    newModelModule = importlib.import_module(newModelModuleName)\n",
    "\n",
    "    #\n",
    "    # MAKE CHANGES TO METADATA\n",
    "    #\n",
    "    newAskemMetadata = {}\n",
    "    newAskemMetadata[\"ASKEM_ID\"] = uuid.uuid4().hex\n",
    "    newAskemMetadata[\"ASKEM_CLASS\"] = \"Thing\"\n",
    "    newAskemMetadata[\"PROPERTIES\"] = [(\"Name\", \"Altered Model\"),\n",
    "                                    (\"date\", datetime.now().strftime(\"%b %d, %Y %H:%M:%S\")),\n",
    "                                     (\"rawfile\", newModelModule.__file__)]\n",
    "    newAskemMetadata[\"EXTERNAL_URL\"] = \"\"\n",
    "    newAskemMetadata[\"DOMAIN_TAGS\"] = \"\"\n",
    "    newAskemMetadata[\"RAW_DATA\"] = {\"text\": open(newModelModule.__file__).read()}\n",
    "    \n",
    "    newModelModule.__ASKEMMETADATA__ = newAskemMetadata\n",
    "    return newModelModule\n"
   ]
  },
  {
   "cell_type": "code",
   "execution_count": 33,
   "metadata": {
    "ExecuteTime": {
     "end_time": "2022-10-02T20:34:13.948100Z",
     "start_time": "2022-10-02T20:34:13.942704Z"
    }
   },
   "outputs": [],
   "source": [
    "def visualizeChimeTypeModelOutputs(moduleToInvoke):\n",
    "    modelMetadata = moduleToInvoke.__ASKEMMETADATA__\n",
    "    askemId = modelMetadata[\"ASKEM_ID\"]\n",
    "    askemProperties = modelMetadata[\"PROPERTIES\"]\n",
    "    pDict = {}\n",
    "    for k, v in askemProperties:\n",
    "        pDict[k] = v\n",
    "    \n",
    "    d_a, s_a, i_a, r_a, e_a = moduleToInvoke.main()\n",
    "    modelResults = {\"susceptible\": s_a,\n",
    "             \"infected\": i_a,\n",
    "             \"recovered\": r_a,\n",
    "             \"day\": d_a,\n",
    "             \"ever_infected\": e_a}\n",
    "    df = pd.DataFrame(modelResults)\n",
    "    df['day'] = df.index\n",
    "\n",
    "    fig = px.line(df, \n",
    "                  x=\"day\", \n",
    "                  y=[\"susceptible\", \"infected\", \"recovered\"], \n",
    "                  color_discrete_sequence=[\"black\", \"red\", \"green\"],\n",
    "                  title=\"Model '\" + pDict[\"Name\"] + \"' (ASKEM_ID:\" + askemId + \", date:\" + pDict[\"date\"] + \")\")\n",
    "    fig.update_layout(yaxis_title=\"Population\")\n",
    "    fig.update_layout(xaxis_title=\"Day\")\n",
    "    return fig\n"
   ]
  },
  {
   "cell_type": "code",
   "execution_count": 34,
   "metadata": {
    "ExecuteTime": {
     "end_time": "2022-10-02T20:34:15.477153Z",
     "start_time": "2022-10-02T20:34:15.473166Z"
    }
   },
   "outputs": [],
   "source": [
    "def loadModelSourceFromXDD(xddid):\n",
    "    r = requests.get(XDD_GET_URL + xddid)\n",
    "    if r.status_code == 200:\n",
    "        robj = r.json()\n",
    "        if \"success\" in robj:\n",
    "            successObj = robj[\"success\"]\n",
    "            xddObj = successObj[\"data\"][0]\n",
    "\n",
    "            dataObj = xddObj[\"data\"]\n",
    "            metadataObj = xddObj[\"metadata\"]\n",
    "            return dataObj\n",
    "        else:\n",
    "            raise Exception(\"Field 'success' not found in XDD fetched object\" + robj)\n",
    "    else:\n",
    "        raise Exception(\"XDD GET failed\")\n"
   ]
  },
  {
   "cell_type": "code",
   "execution_count": 35,
   "metadata": {
    "ExecuteTime": {
     "end_time": "2022-10-02T20:34:17.137852Z",
     "start_time": "2022-10-02T20:34:17.134603Z"
    }
   },
   "outputs": [],
   "source": [
    "def computeGrometRepr(lmodule):\n",
    "    cast = gromet.run_python_to_cast(lmodule.__file__)\n",
    "    gromet_object = gromet.run_cast_to_gromet_pipeline(cast)\n",
    "    return gromet_object\n"
   ]
  },
  {
   "cell_type": "code",
   "execution_count": 36,
   "metadata": {
    "ExecuteTime": {
     "end_time": "2022-10-02T20:34:18.224322Z",
     "start_time": "2022-10-02T20:34:18.218256Z"
    }
   },
   "outputs": [],
   "source": [
    "def storeGrometInXDD(grometObj, srcModule):\n",
    "    gromet_collection_dict = grometObj.to_dict()\n",
    "    grometJsonRepr = gromet.dictionary_to_gromet_json(gromet.del_nulls(gromet_collection_dict))\n",
    "    \n",
    "    xddObj = {\n",
    "        \"metadata\": \"Blank Metadata Maybe Obsolete\",\n",
    "        \"data\": {\n",
    "            \"ASKEM_ID\": uuid.uuid4().hex,\n",
    "            \"ASKEM_CLASS\": \"Thing\",\n",
    "            \"PROPERTIES\": [(\"Name\", \"Gromet representation of \" + srcModule.__ASKEMMETADATA__[\"ASKEM_ID\"]),\n",
    "                         (\"date\", datetime.now().strftime(\"%b %d, %Y %H:%M:%S\"))],\n",
    "              \"DOMAIN_TAGS\": [],\n",
    "              \"RAW_DATA\": grometJsonRepr,\n",
    "              \"EXTERNAL_URL\": \"\"   \n",
    "        }\n",
    "    }\n",
    "    r = requests.post(XDD_CREATE_URL,\n",
    "                  headers={\"x-api-key\": MIT_XDD_KEY,\n",
    "                          \"Content-Type\": \"application/json\"},\n",
    "                      data=json.dumps(xddObj))  \n",
    "    if r.status_code == 200:\n",
    "        return r.json()[\"success\"][\"data\"][\"success\"][\"registered_ids\"][0]\n",
    "    else:\n",
    "        raise Exception(\"Cannot PUT Gromet Object\")\n",
    "\n"
   ]
  },
  {
   "cell_type": "code",
   "execution_count": 37,
   "metadata": {
    "ExecuteTime": {
     "end_time": "2022-10-02T20:34:20.089418Z",
     "start_time": "2022-10-02T20:34:20.085172Z"
    }
   },
   "outputs": [],
   "source": [
    "def storeAlteredModelInXDD(curModelModule):\n",
    "    askemObj = curModelModule.__ASKEMMETADATA__\n",
    "    xddObj = {\n",
    "        \"metadata\": \"Blank Metadata Maybe Obsolete\",\n",
    "        \"data\": askemObj\n",
    "    }\n",
    "    r = requests.post(XDD_CREATE_URL,\n",
    "                    headers={\"x-api-key\": MIT_XDD_KEY,\n",
    "                          \"Content-Type\": \"application/json\"},\n",
    "                      data=json.dumps(xddObj))  \n",
    "    if r.status_code == 200:\n",
    "        return r.json()[\"success\"][\"data\"][\"success\"][\"registered_ids\"][0]\n",
    "    else:\n",
    "        raise Exception(\"Cannot PUT altered model\")\n"
   ]
  },
  {
   "cell_type": "markdown",
   "metadata": {},
   "source": [
    "## SKEMA Text Reading Functions"
   ]
  },
  {
   "cell_type": "code",
   "execution_count": 38,
   "metadata": {},
   "outputs": [],
   "source": [
    "def get_sentence(mention:Mapping[str, Any], documents:Mapping[str, Any]):\n",
    "    \"\"\" Returns the text containing the mention \"\"\"\n",
    "    doc_id = mention['document']\n",
    "    sentence_ix = mention['sentence']\n",
    "    sentence = documents[doc_id]['sentences'][sentence_ix]\n",
    "    return ' '.join(sentence['words'])\n",
    "\n",
    "\n",
    "def build_groundings(mention:Mapping[str, Any]) -> Optional[str]:\n",
    "    \"\"\" Extracts the grounding ID of the grounding associated to \n",
    "    the current mention \"\"\"\n",
    "    if mention['type'] == \"TextBoundMention\":\n",
    "        groundings = list()\n",
    "        for a in mention['attachments']:\n",
    "            # If score is a field in the attachment, then this is a grounding\n",
    "            if type(a) == list:\n",
    "                for g in a[0]:\n",
    "                    score = \"{:.2f}\".format(g['score'])\n",
    "                    groundings.append(f\"({g['name']}, {g['id']}, {score})\")\n",
    "        if len(groundings) > 0:\n",
    "            return ', '.join(groundings)"
   ]
  },
  {
   "cell_type": "code",
   "execution_count": 39,
   "metadata": {},
   "outputs": [],
   "source": [
    "def annotate_json(file_path:str, endpoint:str = \"http://localhost:9000/cosmos_json_to_mentions\") -> List[Mapping[str, Any]]:\n",
    "    \"\"\" Annotates an existing json file on the server with the text reading pipeline \"\"\"\n",
    "\n",
    "    data = requests.post(endpoint, json={'pathToCosmosJson': file_path}).json()\n",
    "\n",
    "    return data\n",
    "\n",
    "\n",
    "def build_data_frame(mentions:List[Mapping[str, Any]], documents:Mapping[str, Any]) -> DataFrame:\n",
    "    \"\"\" Builds a data frame from the output of text reading \"\"\"\n",
    "\n",
    "    return DataFrame(\n",
    "        {\n",
    "            'text': mention['text'],\n",
    "            'sentence': get_sentence(mention, documents),\n",
    "            'start_token': mention['tokenInterval']['start'],\n",
    "            'end_token': mention['tokenInterval']['end'],\n",
    "            'mention_type': mention['type'],\n",
    "            'label': mention['labels'][0],\n",
    "            'grounding_id': build_groundings(mention),\n",
    "            # 'sentence_ix': mention['sentence'],\n",
    "        }\n",
    "        for mention in mentions\n",
    "    )\n",
    "\n",
    "def text_reading_mentions(file_path:str) -> DataFrame:\n",
    "    \"\"\" Puts together annotation and creating the data frame\"\"\"\n",
    "    return build_data_frame(**annotate_json(file_path))"
   ]
  },
  {
   "cell_type": "code",
   "execution_count": 40,
   "metadata": {},
   "outputs": [],
   "source": [
    "def get_paper_by_doi(doi:str) -> Optional[str]:\n",
    "    \"\"\" Mocks getting the Cosmos output by the paper's DOI \"\"\"\n",
    "    papers = {\n",
    "        \"10.1016/j.chaos.2021.110689\": \"/media/evo870/github/COSMOS-data/output_files/documents_5Febcovid19--COSMOS-data.json\"\n",
    "    }\n",
    "    return papers.get(doi)"
   ]
  },
  {
   "cell_type": "markdown",
   "metadata": {
    "ExecuteTime": {
     "end_time": "2022-09-29T20:25:21.317694Z",
     "start_time": "2022-09-29T20:25:21.315178Z"
    }
   },
   "source": [
    "# TA-1 Demo Starts Here!"
   ]
  },
  {
   "cell_type": "markdown",
   "metadata": {},
   "source": [
    "## Step 0: Indicate XDD identifier for input model source"
   ]
  },
  {
   "cell_type": "code",
   "execution_count": 41,
   "metadata": {
    "ExecuteTime": {
     "end_time": "2022-10-02T20:34:22.774005Z",
     "start_time": "2022-10-02T20:34:22.771500Z"
    }
   },
   "outputs": [],
   "source": [
    "modelSourceXDDId = \"761ff74a-b0e1-48bf-b79a-851e3da6b207\"\n"
   ]
  },
  {
   "cell_type": "markdown",
   "metadata": {
    "ExecuteTime": {
     "end_time": "2022-09-29T20:24:49.281645Z",
     "start_time": "2022-09-29T20:24:49.279162Z"
    }
   },
   "source": [
    "## Step 1: Import model source code from file, run it, and visualize results"
   ]
  },
  {
   "cell_type": "code",
   "execution_count": 42,
   "metadata": {
    "ExecuteTime": {
     "end_time": "2022-10-02T20:34:25.192128Z",
     "start_time": "2022-10-02T20:34:23.949370Z"
    }
   },
   "outputs": [
    {
     "name": "stdout",
     "output_type": "stream",
     "text": [
      "NEW MODULE NAME dynmodels.2f86822e-0c23-743f-405b-ecf458edaff1\n"
     ]
    },
    {
     "data": {
      "application/vnd.plotly.v1+json": {
       "config": {
        "plotlyServerURL": "https://plot.ly"
       },
       "data": [
        {
         "hovertemplate": "variable=susceptible<br>day=%{x}<br>value=%{y}<extra></extra>",
         "legendgroup": "susceptible",
         "line": {
          "color": "black",
          "dash": "solid"
         },
         "marker": {
          "symbol": "circle"
         },
         "mode": "lines",
         "name": "susceptible",
         "orientation": "v",
         "showlegend": true,
         "type": "scatter",
         "x": [
          0,
          1,
          2,
          3,
          4,
          5,
          6,
          7,
          8,
          9,
          10,
          11,
          12,
          13,
          14,
          15,
          16,
          17,
          18,
          19,
          20,
          21,
          22,
          23,
          24,
          25,
          26,
          27,
          28,
          29,
          30,
          31,
          32,
          33,
          34,
          35,
          36,
          37,
          38,
          39,
          40,
          41,
          42,
          43,
          44,
          45,
          46,
          47,
          48,
          49,
          50,
          51,
          52,
          53,
          54,
          55,
          56,
          57,
          58,
          59,
          60,
          61,
          62,
          63,
          64,
          65,
          66,
          67,
          68,
          69,
          70,
          71,
          72,
          73,
          74,
          75,
          76,
          77,
          78,
          79,
          80,
          81,
          82,
          83,
          84,
          85,
          86,
          87,
          88,
          89,
          90,
          91,
          92,
          93,
          94,
          95,
          96,
          97,
          98,
          99,
          100,
          101,
          102,
          103,
          104,
          105,
          106,
          107,
          108,
          109,
          110,
          111,
          112,
          113,
          114,
          115,
          116,
          117,
          118,
          119,
          120
         ],
         "xaxis": "x",
         "y": [
          1000,
          999.9321428571428,
          999.8645326493713,
          999.7971687730479,
          999.7300506234902,
          999.6631775949995,
          999.5965490808849,
          999.5301644734906,
          999.4640231642218,
          999.3981245435701,
          999.3324680011398,
          999.2670529256725,
          999.2018787050729,
          999.1369447264339,
          999.072250376061,
          999.0077950394979,
          998.94357810155,
          998.8795989463102,
          998.8158569571812,
          998.7523515169014,
          998.6890820075678,
          998.4948246712163,
          998.2739158835572,
          998.0227148436019,
          997.7370879932414,
          997.4123436783303,
          997.0431585441902,
          996.6234947384288,
          996.1465069263913,
          995.6044380643941,
          994.98850282865,
          994.2887575708506,
          993.4939556744702,
          992.5913872317169,
          991.5667020660701,
          990.4037153103418,
          989.0841950414607,
          987.5876319032012,
          985.8909912567088,
          983.9684492337418,
          981.7911151854429,
          979.3267444848805,
          976.5394475265095,
          973.3894031462343,
          969.8325876372464,
          965.8205341246971,
          961.3001413288479,
          956.2135556909595,
          950.4981563880564,
          944.0866787451113,
          936.9075176389645,
          928.8852581482732,
          919.9414851532111,
          909.9959257408926,
          898.9679767159681,
          886.7786625377906,
          873.3530546936237,
          858.6231599744523,
          842.5312508250748,
          825.0335652696256,
          806.1042478004072,
          0,
          0,
          0,
          0,
          0,
          0,
          0,
          0,
          0,
          0,
          0,
          0,
          0,
          0,
          0,
          0,
          0,
          0,
          0,
          0,
          0,
          0,
          0,
          0,
          0,
          0,
          0,
          0,
          0,
          0,
          0,
          0,
          0,
          0,
          0,
          0,
          0,
          0,
          0,
          0,
          0,
          0,
          0,
          0,
          0,
          0,
          0,
          0,
          0,
          0,
          0,
          0,
          0,
          0,
          0,
          0,
          0,
          0,
          0,
          0
         ],
         "yaxis": "y"
        },
        {
         "hovertemplate": "variable=infected<br>day=%{x}<br>value=%{y}<extra></extra>",
         "legendgroup": "infected",
         "line": {
          "color": "red",
          "dash": "solid"
         },
         "marker": {
          "symbol": "circle"
         },
         "mode": "lines",
         "name": "infected",
         "orientation": "v",
         "showlegend": true,
         "type": "scatter",
         "x": [
          0,
          1,
          2,
          3,
          4,
          5,
          6,
          7,
          8,
          9,
          10,
          11,
          12,
          13,
          14,
          15,
          16,
          17,
          18,
          19,
          20,
          21,
          22,
          23,
          24,
          25,
          26,
          27,
          28,
          29,
          30,
          31,
          32,
          33,
          34,
          35,
          36,
          37,
          38,
          39,
          40,
          41,
          42,
          43,
          44,
          45,
          46,
          47,
          48,
          49,
          50,
          51,
          52,
          53,
          54,
          55,
          56,
          57,
          58,
          59,
          60,
          61,
          62,
          63,
          64,
          65,
          66,
          67,
          68,
          69,
          70,
          71,
          72,
          73,
          74,
          75,
          76,
          77,
          78,
          79,
          80,
          81,
          82,
          83,
          84,
          85,
          86,
          87,
          88,
          89,
          90,
          91,
          92,
          93,
          94,
          95,
          96,
          97,
          98,
          99,
          100,
          101,
          102,
          103,
          104,
          105,
          106,
          107,
          108,
          109,
          110,
          111,
          112,
          113,
          114,
          115,
          116,
          117,
          118,
          119,
          120
         ],
         "xaxis": "x",
         "y": [
          1,
          0.9964285714285714,
          0.9928653098123178,
          0.9893102354350313,
          0.9857633681757313,
          0.9822247275110827,
          0.9786943325178129,
          0.9751722018751359,
          0.9716583538671775,
          0.9681528063854044,
          0.9646555769310546,
          0.9611666826175719,
          0.95768614017304,
          0.9542139659426211,
          0.9507501758909941,
          0.9472947856047951,
          0.9438478102950587,
          0.9404092647996609,
          0.9369791635857604,
          0.9335575207522444,
          0.9301443500321708,
          1.0579628042385234,
          1.2033028201663016,
          1.3685536586810978,
          1.5564266762786525,
          1.7699976571698364,
          2.012754387226468,
          2.288650022471699,
          2.602162832904001,
          2.958362921122347,
          3.36298651964339,
          3.8225184546110667,
          4.344283318519515,
          4.9365458099498465,
          5.608620560600202,
          6.370991561999893,
          7.2354410050238265,
          8.215186928638749,
          9.325028508799997,
          10.581497066852483,
          12.003009896090752,
          13.61002274693225,
          15.425175223379448,
          17.473421373413306,
          19.78213535572879,
          22.3811792000117,
          25.302916338717313,
          28.58215080955442,
          32.25596791177502,
          36.36344784673642,
          40.94521982097335,
          46.04282075302363,
          51.69782083715552,
          57.95067876110572,
          64.83929358880864,
          72.3972296534996,
          80.65160680813091,
          89.62067246957861,
          99.31110501398611,
          109.71514021129352,
          120.8076619511338,
          0,
          0,
          0,
          0,
          0,
          0,
          0,
          0,
          0,
          0,
          0,
          0,
          0,
          0,
          0,
          0,
          0,
          0,
          0,
          0,
          0,
          0,
          0,
          0,
          0,
          0,
          0,
          0,
          0,
          0,
          0,
          0,
          0,
          0,
          0,
          0,
          0,
          0,
          0,
          0,
          0,
          0,
          0,
          0,
          0,
          0,
          0,
          0,
          0,
          0,
          0,
          0,
          0,
          0,
          0,
          0,
          0,
          0,
          0,
          0
         ],
         "yaxis": "y"
        },
        {
         "hovertemplate": "variable=recovered<br>day=%{x}<br>value=%{y}<extra></extra>",
         "legendgroup": "recovered",
         "line": {
          "color": "green",
          "dash": "solid"
         },
         "marker": {
          "symbol": "circle"
         },
         "mode": "lines",
         "name": "recovered",
         "orientation": "v",
         "showlegend": true,
         "type": "scatter",
         "x": [
          0,
          1,
          2,
          3,
          4,
          5,
          6,
          7,
          8,
          9,
          10,
          11,
          12,
          13,
          14,
          15,
          16,
          17,
          18,
          19,
          20,
          21,
          22,
          23,
          24,
          25,
          26,
          27,
          28,
          29,
          30,
          31,
          32,
          33,
          34,
          35,
          36,
          37,
          38,
          39,
          40,
          41,
          42,
          43,
          44,
          45,
          46,
          47,
          48,
          49,
          50,
          51,
          52,
          53,
          54,
          55,
          56,
          57,
          58,
          59,
          60,
          61,
          62,
          63,
          64,
          65,
          66,
          67,
          68,
          69,
          70,
          71,
          72,
          73,
          74,
          75,
          76,
          77,
          78,
          79,
          80,
          81,
          82,
          83,
          84,
          85,
          86,
          87,
          88,
          89,
          90,
          91,
          92,
          93,
          94,
          95,
          96,
          97,
          98,
          99,
          100,
          101,
          102,
          103,
          104,
          105,
          106,
          107,
          108,
          109,
          110,
          111,
          112,
          113,
          114,
          115,
          116,
          117,
          118,
          119,
          120
         ],
         "xaxis": "x",
         "y": [
          1,
          1.0714285714285714,
          1.1426020408163264,
          1.2135209915172065,
          1.2841860083339942,
          1.3545976774894035,
          1.424756586597338,
          1.4946633246343246,
          1.56431848191112,
          1.63372265004449,
          1.7028764219291617,
          1.7717803917099513,
          1.8404351547540636,
          1.9088413076235664,
          1.9769994480480393,
          2.044910174897396,
          2.1125740881548807,
          2.1799917888902423,
          2.247163879233075,
          2.3140909623463433,
          2.380773642400075,
          2.44721252454523,
          2.522781296276553,
          2.608731497717003,
          2.7064853304799383,
          2.817658664499842,
          2.9440870685834017,
          3.087855239099578,
          3.2513302407046996,
          3.4371990144835567,
          3.648510651706581,
          3.8887239745382516,
          4.161761007010472,
          4.4720669583332935,
          4.8246773733297115,
          5.225293127658297,
          5.680363953515432,
          6.19718116815999,
          6.783980234491331,
          7.450053699405615,
          8.205874918466508,
          9.063232768187275,
          10.035377250111008,
          11.137175480352397,
          12.385277007024776,
          13.798286675291118,
          15.396942332434811,
          17.20429349948605,
          19.245875700168504,
          21.54987340815244,
          24.14726254006218,
          27.071921098703132,
          30.36069400963339,
          34.053395498001635,
          38.19272969522348,
          42.824107808709805,
          47.99533849824549,
          53.75616755596912,
          60.15764416093902,
          67.25129451908089,
          75.088090248459,
          0,
          0,
          0,
          0,
          0,
          0,
          0,
          0,
          0,
          0,
          0,
          0,
          0,
          0,
          0,
          0,
          0,
          0,
          0,
          0,
          0,
          0,
          0,
          0,
          0,
          0,
          0,
          0,
          0,
          0,
          0,
          0,
          0,
          0,
          0,
          0,
          0,
          0,
          0,
          0,
          0,
          0,
          0,
          0,
          0,
          0,
          0,
          0,
          0,
          0,
          0,
          0,
          0,
          0,
          0,
          0,
          0,
          0,
          0,
          0
         ],
         "yaxis": "y"
        }
       ],
       "layout": {
        "legend": {
         "title": {
          "text": "variable"
         },
         "tracegroupgap": 0
        },
        "template": {
         "data": {
          "bar": [
           {
            "error_x": {
             "color": "#2a3f5f"
            },
            "error_y": {
             "color": "#2a3f5f"
            },
            "marker": {
             "line": {
              "color": "#E5ECF6",
              "width": 0.5
             },
             "pattern": {
              "fillmode": "overlay",
              "size": 10,
              "solidity": 0.2
             }
            },
            "type": "bar"
           }
          ],
          "barpolar": [
           {
            "marker": {
             "line": {
              "color": "#E5ECF6",
              "width": 0.5
             },
             "pattern": {
              "fillmode": "overlay",
              "size": 10,
              "solidity": 0.2
             }
            },
            "type": "barpolar"
           }
          ],
          "carpet": [
           {
            "aaxis": {
             "endlinecolor": "#2a3f5f",
             "gridcolor": "white",
             "linecolor": "white",
             "minorgridcolor": "white",
             "startlinecolor": "#2a3f5f"
            },
            "baxis": {
             "endlinecolor": "#2a3f5f",
             "gridcolor": "white",
             "linecolor": "white",
             "minorgridcolor": "white",
             "startlinecolor": "#2a3f5f"
            },
            "type": "carpet"
           }
          ],
          "choropleth": [
           {
            "colorbar": {
             "outlinewidth": 0,
             "ticks": ""
            },
            "type": "choropleth"
           }
          ],
          "contour": [
           {
            "colorbar": {
             "outlinewidth": 0,
             "ticks": ""
            },
            "colorscale": [
             [
              0,
              "#0d0887"
             ],
             [
              0.1111111111111111,
              "#46039f"
             ],
             [
              0.2222222222222222,
              "#7201a8"
             ],
             [
              0.3333333333333333,
              "#9c179e"
             ],
             [
              0.4444444444444444,
              "#bd3786"
             ],
             [
              0.5555555555555556,
              "#d8576b"
             ],
             [
              0.6666666666666666,
              "#ed7953"
             ],
             [
              0.7777777777777778,
              "#fb9f3a"
             ],
             [
              0.8888888888888888,
              "#fdca26"
             ],
             [
              1,
              "#f0f921"
             ]
            ],
            "type": "contour"
           }
          ],
          "contourcarpet": [
           {
            "colorbar": {
             "outlinewidth": 0,
             "ticks": ""
            },
            "type": "contourcarpet"
           }
          ],
          "heatmap": [
           {
            "colorbar": {
             "outlinewidth": 0,
             "ticks": ""
            },
            "colorscale": [
             [
              0,
              "#0d0887"
             ],
             [
              0.1111111111111111,
              "#46039f"
             ],
             [
              0.2222222222222222,
              "#7201a8"
             ],
             [
              0.3333333333333333,
              "#9c179e"
             ],
             [
              0.4444444444444444,
              "#bd3786"
             ],
             [
              0.5555555555555556,
              "#d8576b"
             ],
             [
              0.6666666666666666,
              "#ed7953"
             ],
             [
              0.7777777777777778,
              "#fb9f3a"
             ],
             [
              0.8888888888888888,
              "#fdca26"
             ],
             [
              1,
              "#f0f921"
             ]
            ],
            "type": "heatmap"
           }
          ],
          "heatmapgl": [
           {
            "colorbar": {
             "outlinewidth": 0,
             "ticks": ""
            },
            "colorscale": [
             [
              0,
              "#0d0887"
             ],
             [
              0.1111111111111111,
              "#46039f"
             ],
             [
              0.2222222222222222,
              "#7201a8"
             ],
             [
              0.3333333333333333,
              "#9c179e"
             ],
             [
              0.4444444444444444,
              "#bd3786"
             ],
             [
              0.5555555555555556,
              "#d8576b"
             ],
             [
              0.6666666666666666,
              "#ed7953"
             ],
             [
              0.7777777777777778,
              "#fb9f3a"
             ],
             [
              0.8888888888888888,
              "#fdca26"
             ],
             [
              1,
              "#f0f921"
             ]
            ],
            "type": "heatmapgl"
           }
          ],
          "histogram": [
           {
            "marker": {
             "pattern": {
              "fillmode": "overlay",
              "size": 10,
              "solidity": 0.2
             }
            },
            "type": "histogram"
           }
          ],
          "histogram2d": [
           {
            "colorbar": {
             "outlinewidth": 0,
             "ticks": ""
            },
            "colorscale": [
             [
              0,
              "#0d0887"
             ],
             [
              0.1111111111111111,
              "#46039f"
             ],
             [
              0.2222222222222222,
              "#7201a8"
             ],
             [
              0.3333333333333333,
              "#9c179e"
             ],
             [
              0.4444444444444444,
              "#bd3786"
             ],
             [
              0.5555555555555556,
              "#d8576b"
             ],
             [
              0.6666666666666666,
              "#ed7953"
             ],
             [
              0.7777777777777778,
              "#fb9f3a"
             ],
             [
              0.8888888888888888,
              "#fdca26"
             ],
             [
              1,
              "#f0f921"
             ]
            ],
            "type": "histogram2d"
           }
          ],
          "histogram2dcontour": [
           {
            "colorbar": {
             "outlinewidth": 0,
             "ticks": ""
            },
            "colorscale": [
             [
              0,
              "#0d0887"
             ],
             [
              0.1111111111111111,
              "#46039f"
             ],
             [
              0.2222222222222222,
              "#7201a8"
             ],
             [
              0.3333333333333333,
              "#9c179e"
             ],
             [
              0.4444444444444444,
              "#bd3786"
             ],
             [
              0.5555555555555556,
              "#d8576b"
             ],
             [
              0.6666666666666666,
              "#ed7953"
             ],
             [
              0.7777777777777778,
              "#fb9f3a"
             ],
             [
              0.8888888888888888,
              "#fdca26"
             ],
             [
              1,
              "#f0f921"
             ]
            ],
            "type": "histogram2dcontour"
           }
          ],
          "mesh3d": [
           {
            "colorbar": {
             "outlinewidth": 0,
             "ticks": ""
            },
            "type": "mesh3d"
           }
          ],
          "parcoords": [
           {
            "line": {
             "colorbar": {
              "outlinewidth": 0,
              "ticks": ""
             }
            },
            "type": "parcoords"
           }
          ],
          "pie": [
           {
            "automargin": true,
            "type": "pie"
           }
          ],
          "scatter": [
           {
            "fillpattern": {
             "fillmode": "overlay",
             "size": 10,
             "solidity": 0.2
            },
            "type": "scatter"
           }
          ],
          "scatter3d": [
           {
            "line": {
             "colorbar": {
              "outlinewidth": 0,
              "ticks": ""
             }
            },
            "marker": {
             "colorbar": {
              "outlinewidth": 0,
              "ticks": ""
             }
            },
            "type": "scatter3d"
           }
          ],
          "scattercarpet": [
           {
            "marker": {
             "colorbar": {
              "outlinewidth": 0,
              "ticks": ""
             }
            },
            "type": "scattercarpet"
           }
          ],
          "scattergeo": [
           {
            "marker": {
             "colorbar": {
              "outlinewidth": 0,
              "ticks": ""
             }
            },
            "type": "scattergeo"
           }
          ],
          "scattergl": [
           {
            "marker": {
             "colorbar": {
              "outlinewidth": 0,
              "ticks": ""
             }
            },
            "type": "scattergl"
           }
          ],
          "scattermapbox": [
           {
            "marker": {
             "colorbar": {
              "outlinewidth": 0,
              "ticks": ""
             }
            },
            "type": "scattermapbox"
           }
          ],
          "scatterpolar": [
           {
            "marker": {
             "colorbar": {
              "outlinewidth": 0,
              "ticks": ""
             }
            },
            "type": "scatterpolar"
           }
          ],
          "scatterpolargl": [
           {
            "marker": {
             "colorbar": {
              "outlinewidth": 0,
              "ticks": ""
             }
            },
            "type": "scatterpolargl"
           }
          ],
          "scatterternary": [
           {
            "marker": {
             "colorbar": {
              "outlinewidth": 0,
              "ticks": ""
             }
            },
            "type": "scatterternary"
           }
          ],
          "surface": [
           {
            "colorbar": {
             "outlinewidth": 0,
             "ticks": ""
            },
            "colorscale": [
             [
              0,
              "#0d0887"
             ],
             [
              0.1111111111111111,
              "#46039f"
             ],
             [
              0.2222222222222222,
              "#7201a8"
             ],
             [
              0.3333333333333333,
              "#9c179e"
             ],
             [
              0.4444444444444444,
              "#bd3786"
             ],
             [
              0.5555555555555556,
              "#d8576b"
             ],
             [
              0.6666666666666666,
              "#ed7953"
             ],
             [
              0.7777777777777778,
              "#fb9f3a"
             ],
             [
              0.8888888888888888,
              "#fdca26"
             ],
             [
              1,
              "#f0f921"
             ]
            ],
            "type": "surface"
           }
          ],
          "table": [
           {
            "cells": {
             "fill": {
              "color": "#EBF0F8"
             },
             "line": {
              "color": "white"
             }
            },
            "header": {
             "fill": {
              "color": "#C8D4E3"
             },
             "line": {
              "color": "white"
             }
            },
            "type": "table"
           }
          ]
         },
         "layout": {
          "annotationdefaults": {
           "arrowcolor": "#2a3f5f",
           "arrowhead": 0,
           "arrowwidth": 1
          },
          "autotypenumbers": "strict",
          "coloraxis": {
           "colorbar": {
            "outlinewidth": 0,
            "ticks": ""
           }
          },
          "colorscale": {
           "diverging": [
            [
             0,
             "#8e0152"
            ],
            [
             0.1,
             "#c51b7d"
            ],
            [
             0.2,
             "#de77ae"
            ],
            [
             0.3,
             "#f1b6da"
            ],
            [
             0.4,
             "#fde0ef"
            ],
            [
             0.5,
             "#f7f7f7"
            ],
            [
             0.6,
             "#e6f5d0"
            ],
            [
             0.7,
             "#b8e186"
            ],
            [
             0.8,
             "#7fbc41"
            ],
            [
             0.9,
             "#4d9221"
            ],
            [
             1,
             "#276419"
            ]
           ],
           "sequential": [
            [
             0,
             "#0d0887"
            ],
            [
             0.1111111111111111,
             "#46039f"
            ],
            [
             0.2222222222222222,
             "#7201a8"
            ],
            [
             0.3333333333333333,
             "#9c179e"
            ],
            [
             0.4444444444444444,
             "#bd3786"
            ],
            [
             0.5555555555555556,
             "#d8576b"
            ],
            [
             0.6666666666666666,
             "#ed7953"
            ],
            [
             0.7777777777777778,
             "#fb9f3a"
            ],
            [
             0.8888888888888888,
             "#fdca26"
            ],
            [
             1,
             "#f0f921"
            ]
           ],
           "sequentialminus": [
            [
             0,
             "#0d0887"
            ],
            [
             0.1111111111111111,
             "#46039f"
            ],
            [
             0.2222222222222222,
             "#7201a8"
            ],
            [
             0.3333333333333333,
             "#9c179e"
            ],
            [
             0.4444444444444444,
             "#bd3786"
            ],
            [
             0.5555555555555556,
             "#d8576b"
            ],
            [
             0.6666666666666666,
             "#ed7953"
            ],
            [
             0.7777777777777778,
             "#fb9f3a"
            ],
            [
             0.8888888888888888,
             "#fdca26"
            ],
            [
             1,
             "#f0f921"
            ]
           ]
          },
          "colorway": [
           "#636efa",
           "#EF553B",
           "#00cc96",
           "#ab63fa",
           "#FFA15A",
           "#19d3f3",
           "#FF6692",
           "#B6E880",
           "#FF97FF",
           "#FECB52"
          ],
          "font": {
           "color": "#2a3f5f"
          },
          "geo": {
           "bgcolor": "white",
           "lakecolor": "white",
           "landcolor": "#E5ECF6",
           "showlakes": true,
           "showland": true,
           "subunitcolor": "white"
          },
          "hoverlabel": {
           "align": "left"
          },
          "hovermode": "closest",
          "mapbox": {
           "style": "light"
          },
          "paper_bgcolor": "white",
          "plot_bgcolor": "#E5ECF6",
          "polar": {
           "angularaxis": {
            "gridcolor": "white",
            "linecolor": "white",
            "ticks": ""
           },
           "bgcolor": "#E5ECF6",
           "radialaxis": {
            "gridcolor": "white",
            "linecolor": "white",
            "ticks": ""
           }
          },
          "scene": {
           "xaxis": {
            "backgroundcolor": "#E5ECF6",
            "gridcolor": "white",
            "gridwidth": 2,
            "linecolor": "white",
            "showbackground": true,
            "ticks": "",
            "zerolinecolor": "white"
           },
           "yaxis": {
            "backgroundcolor": "#E5ECF6",
            "gridcolor": "white",
            "gridwidth": 2,
            "linecolor": "white",
            "showbackground": true,
            "ticks": "",
            "zerolinecolor": "white"
           },
           "zaxis": {
            "backgroundcolor": "#E5ECF6",
            "gridcolor": "white",
            "gridwidth": 2,
            "linecolor": "white",
            "showbackground": true,
            "ticks": "",
            "zerolinecolor": "white"
           }
          },
          "shapedefaults": {
           "line": {
            "color": "#2a3f5f"
           }
          },
          "ternary": {
           "aaxis": {
            "gridcolor": "white",
            "linecolor": "white",
            "ticks": ""
           },
           "baxis": {
            "gridcolor": "white",
            "linecolor": "white",
            "ticks": ""
           },
           "bgcolor": "#E5ECF6",
           "caxis": {
            "gridcolor": "white",
            "linecolor": "white",
            "ticks": ""
           }
          },
          "title": {
           "x": 0.05
          },
          "xaxis": {
           "automargin": true,
           "gridcolor": "white",
           "linecolor": "white",
           "ticks": "",
           "title": {
            "standoff": 15
           },
           "zerolinecolor": "white",
           "zerolinewidth": 2
          },
          "yaxis": {
           "automargin": true,
           "gridcolor": "white",
           "linecolor": "white",
           "ticks": "",
           "title": {
            "standoff": 15
           },
           "zerolinecolor": "white",
           "zerolinewidth": 2
          }
         }
        },
        "title": {
         "text": "Model 'Default-CHIME-SIR' (ASKEM_ID:8ace99a46a5340eaa96ac19b5d02526f, date:Sep 30, 2022 00:33:15)"
        },
        "xaxis": {
         "anchor": "y",
         "domain": [
          0,
          1
         ],
         "title": {
          "text": "Day"
         }
        },
        "yaxis": {
         "anchor": "x",
         "domain": [
          0,
          1
         ],
         "title": {
          "text": "Population"
         }
        }
       }
      },
      "text/html": [
       "<div>                            <div id=\"1607d60f-a7d1-8add-a95c-b122fd7374ca\" class=\"plotly-graph-div\" style=\"height:525px; width:100%;\"></div>            <script type=\"text/javascript\">                require([\"plotly\"], function(Plotly) {                    window.PLOTLYENV=window.PLOTLYENV || {};                                    if (document.getElementById(\"1607d60f-a7d1-8add-a95c-b122fd7374ca\")) {                    Plotly.newPlot(                        \"1607d60f-a7d1-8add-a95c-b122fd7374ca\",                        [{\"hovertemplate\":\"variable=susceptible<br>day=%{x}<br>value=%{y}<extra></extra>\",\"legendgroup\":\"susceptible\",\"line\":{\"color\":\"black\",\"dash\":\"solid\"},\"marker\":{\"symbol\":\"circle\"},\"mode\":\"lines\",\"name\":\"susceptible\",\"orientation\":\"v\",\"showlegend\":true,\"x\":[0,1,2,3,4,5,6,7,8,9,10,11,12,13,14,15,16,17,18,19,20,21,22,23,24,25,26,27,28,29,30,31,32,33,34,35,36,37,38,39,40,41,42,43,44,45,46,47,48,49,50,51,52,53,54,55,56,57,58,59,60,61,62,63,64,65,66,67,68,69,70,71,72,73,74,75,76,77,78,79,80,81,82,83,84,85,86,87,88,89,90,91,92,93,94,95,96,97,98,99,100,101,102,103,104,105,106,107,108,109,110,111,112,113,114,115,116,117,118,119,120],\"xaxis\":\"x\",\"y\":[1000.0,999.9321428571428,999.8645326493713,999.7971687730479,999.7300506234902,999.6631775949995,999.5965490808849,999.5301644734906,999.4640231642218,999.3981245435701,999.3324680011398,999.2670529256725,999.2018787050729,999.1369447264339,999.072250376061,999.0077950394979,998.94357810155,998.8795989463102,998.8158569571812,998.7523515169014,998.6890820075678,998.4948246712163,998.2739158835572,998.0227148436019,997.7370879932414,997.4123436783303,997.0431585441902,996.6234947384288,996.1465069263913,995.6044380643941,994.98850282865,994.2887575708506,993.4939556744702,992.5913872317169,991.5667020660701,990.4037153103418,989.0841950414607,987.5876319032012,985.8909912567088,983.9684492337418,981.7911151854429,979.3267444848805,976.5394475265095,973.3894031462343,969.8325876372464,965.8205341246971,961.3001413288479,956.2135556909595,950.4981563880564,944.0866787451113,936.9075176389645,928.8852581482732,919.9414851532111,909.9959257408926,898.9679767159681,886.7786625377906,873.3530546936237,858.6231599744523,842.5312508250748,825.0335652696256,806.1042478004072,0.0,0.0,0.0,0.0,0.0,0.0,0.0,0.0,0.0,0.0,0.0,0.0,0.0,0.0,0.0,0.0,0.0,0.0,0.0,0.0,0.0,0.0,0.0,0.0,0.0,0.0,0.0,0.0,0.0,0.0,0.0,0.0,0.0,0.0,0.0,0.0,0.0,0.0,0.0,0.0,0.0,0.0,0.0,0.0,0.0,0.0,0.0,0.0,0.0,0.0,0.0,0.0,0.0,0.0,0.0,0.0,0.0,0.0,0.0,0.0],\"yaxis\":\"y\",\"type\":\"scatter\"},{\"hovertemplate\":\"variable=infected<br>day=%{x}<br>value=%{y}<extra></extra>\",\"legendgroup\":\"infected\",\"line\":{\"color\":\"red\",\"dash\":\"solid\"},\"marker\":{\"symbol\":\"circle\"},\"mode\":\"lines\",\"name\":\"infected\",\"orientation\":\"v\",\"showlegend\":true,\"x\":[0,1,2,3,4,5,6,7,8,9,10,11,12,13,14,15,16,17,18,19,20,21,22,23,24,25,26,27,28,29,30,31,32,33,34,35,36,37,38,39,40,41,42,43,44,45,46,47,48,49,50,51,52,53,54,55,56,57,58,59,60,61,62,63,64,65,66,67,68,69,70,71,72,73,74,75,76,77,78,79,80,81,82,83,84,85,86,87,88,89,90,91,92,93,94,95,96,97,98,99,100,101,102,103,104,105,106,107,108,109,110,111,112,113,114,115,116,117,118,119,120],\"xaxis\":\"x\",\"y\":[1.0,0.9964285714285714,0.9928653098123178,0.9893102354350313,0.9857633681757313,0.9822247275110827,0.9786943325178129,0.9751722018751359,0.9716583538671775,0.9681528063854044,0.9646555769310546,0.9611666826175719,0.95768614017304,0.9542139659426211,0.9507501758909941,0.9472947856047951,0.9438478102950587,0.9404092647996609,0.9369791635857604,0.9335575207522444,0.9301443500321708,1.0579628042385234,1.2033028201663016,1.3685536586810978,1.5564266762786525,1.7699976571698364,2.012754387226468,2.288650022471699,2.602162832904001,2.958362921122347,3.36298651964339,3.8225184546110667,4.344283318519515,4.9365458099498465,5.608620560600202,6.370991561999893,7.2354410050238265,8.215186928638749,9.325028508799997,10.581497066852483,12.003009896090752,13.61002274693225,15.425175223379448,17.473421373413306,19.78213535572879,22.3811792000117,25.302916338717313,28.58215080955442,32.25596791177502,36.36344784673642,40.94521982097335,46.04282075302363,51.69782083715552,57.95067876110572,64.83929358880864,72.3972296534996,80.65160680813091,89.62067246957861,99.31110501398611,109.71514021129352,120.8076619511338,0.0,0.0,0.0,0.0,0.0,0.0,0.0,0.0,0.0,0.0,0.0,0.0,0.0,0.0,0.0,0.0,0.0,0.0,0.0,0.0,0.0,0.0,0.0,0.0,0.0,0.0,0.0,0.0,0.0,0.0,0.0,0.0,0.0,0.0,0.0,0.0,0.0,0.0,0.0,0.0,0.0,0.0,0.0,0.0,0.0,0.0,0.0,0.0,0.0,0.0,0.0,0.0,0.0,0.0,0.0,0.0,0.0,0.0,0.0,0.0],\"yaxis\":\"y\",\"type\":\"scatter\"},{\"hovertemplate\":\"variable=recovered<br>day=%{x}<br>value=%{y}<extra></extra>\",\"legendgroup\":\"recovered\",\"line\":{\"color\":\"green\",\"dash\":\"solid\"},\"marker\":{\"symbol\":\"circle\"},\"mode\":\"lines\",\"name\":\"recovered\",\"orientation\":\"v\",\"showlegend\":true,\"x\":[0,1,2,3,4,5,6,7,8,9,10,11,12,13,14,15,16,17,18,19,20,21,22,23,24,25,26,27,28,29,30,31,32,33,34,35,36,37,38,39,40,41,42,43,44,45,46,47,48,49,50,51,52,53,54,55,56,57,58,59,60,61,62,63,64,65,66,67,68,69,70,71,72,73,74,75,76,77,78,79,80,81,82,83,84,85,86,87,88,89,90,91,92,93,94,95,96,97,98,99,100,101,102,103,104,105,106,107,108,109,110,111,112,113,114,115,116,117,118,119,120],\"xaxis\":\"x\",\"y\":[1.0,1.0714285714285714,1.1426020408163264,1.2135209915172065,1.2841860083339942,1.3545976774894035,1.424756586597338,1.4946633246343246,1.56431848191112,1.63372265004449,1.7028764219291617,1.7717803917099513,1.8404351547540636,1.9088413076235664,1.9769994480480393,2.044910174897396,2.1125740881548807,2.1799917888902423,2.247163879233075,2.3140909623463433,2.380773642400075,2.44721252454523,2.522781296276553,2.608731497717003,2.7064853304799383,2.817658664499842,2.9440870685834017,3.087855239099578,3.2513302407046996,3.4371990144835567,3.648510651706581,3.8887239745382516,4.161761007010472,4.4720669583332935,4.8246773733297115,5.225293127658297,5.680363953515432,6.19718116815999,6.783980234491331,7.450053699405615,8.205874918466508,9.063232768187275,10.035377250111008,11.137175480352397,12.385277007024776,13.798286675291118,15.396942332434811,17.20429349948605,19.245875700168504,21.54987340815244,24.14726254006218,27.071921098703132,30.36069400963339,34.053395498001635,38.19272969522348,42.824107808709805,47.99533849824549,53.75616755596912,60.15764416093902,67.25129451908089,75.088090248459,0.0,0.0,0.0,0.0,0.0,0.0,0.0,0.0,0.0,0.0,0.0,0.0,0.0,0.0,0.0,0.0,0.0,0.0,0.0,0.0,0.0,0.0,0.0,0.0,0.0,0.0,0.0,0.0,0.0,0.0,0.0,0.0,0.0,0.0,0.0,0.0,0.0,0.0,0.0,0.0,0.0,0.0,0.0,0.0,0.0,0.0,0.0,0.0,0.0,0.0,0.0,0.0,0.0,0.0,0.0,0.0,0.0,0.0,0.0,0.0],\"yaxis\":\"y\",\"type\":\"scatter\"}],                        {\"template\":{\"data\":{\"histogram2dcontour\":[{\"type\":\"histogram2dcontour\",\"colorbar\":{\"outlinewidth\":0,\"ticks\":\"\"},\"colorscale\":[[0.0,\"#0d0887\"],[0.1111111111111111,\"#46039f\"],[0.2222222222222222,\"#7201a8\"],[0.3333333333333333,\"#9c179e\"],[0.4444444444444444,\"#bd3786\"],[0.5555555555555556,\"#d8576b\"],[0.6666666666666666,\"#ed7953\"],[0.7777777777777778,\"#fb9f3a\"],[0.8888888888888888,\"#fdca26\"],[1.0,\"#f0f921\"]]}],\"choropleth\":[{\"type\":\"choropleth\",\"colorbar\":{\"outlinewidth\":0,\"ticks\":\"\"}}],\"histogram2d\":[{\"type\":\"histogram2d\",\"colorbar\":{\"outlinewidth\":0,\"ticks\":\"\"},\"colorscale\":[[0.0,\"#0d0887\"],[0.1111111111111111,\"#46039f\"],[0.2222222222222222,\"#7201a8\"],[0.3333333333333333,\"#9c179e\"],[0.4444444444444444,\"#bd3786\"],[0.5555555555555556,\"#d8576b\"],[0.6666666666666666,\"#ed7953\"],[0.7777777777777778,\"#fb9f3a\"],[0.8888888888888888,\"#fdca26\"],[1.0,\"#f0f921\"]]}],\"heatmap\":[{\"type\":\"heatmap\",\"colorbar\":{\"outlinewidth\":0,\"ticks\":\"\"},\"colorscale\":[[0.0,\"#0d0887\"],[0.1111111111111111,\"#46039f\"],[0.2222222222222222,\"#7201a8\"],[0.3333333333333333,\"#9c179e\"],[0.4444444444444444,\"#bd3786\"],[0.5555555555555556,\"#d8576b\"],[0.6666666666666666,\"#ed7953\"],[0.7777777777777778,\"#fb9f3a\"],[0.8888888888888888,\"#fdca26\"],[1.0,\"#f0f921\"]]}],\"heatmapgl\":[{\"type\":\"heatmapgl\",\"colorbar\":{\"outlinewidth\":0,\"ticks\":\"\"},\"colorscale\":[[0.0,\"#0d0887\"],[0.1111111111111111,\"#46039f\"],[0.2222222222222222,\"#7201a8\"],[0.3333333333333333,\"#9c179e\"],[0.4444444444444444,\"#bd3786\"],[0.5555555555555556,\"#d8576b\"],[0.6666666666666666,\"#ed7953\"],[0.7777777777777778,\"#fb9f3a\"],[0.8888888888888888,\"#fdca26\"],[1.0,\"#f0f921\"]]}],\"contourcarpet\":[{\"type\":\"contourcarpet\",\"colorbar\":{\"outlinewidth\":0,\"ticks\":\"\"}}],\"contour\":[{\"type\":\"contour\",\"colorbar\":{\"outlinewidth\":0,\"ticks\":\"\"},\"colorscale\":[[0.0,\"#0d0887\"],[0.1111111111111111,\"#46039f\"],[0.2222222222222222,\"#7201a8\"],[0.3333333333333333,\"#9c179e\"],[0.4444444444444444,\"#bd3786\"],[0.5555555555555556,\"#d8576b\"],[0.6666666666666666,\"#ed7953\"],[0.7777777777777778,\"#fb9f3a\"],[0.8888888888888888,\"#fdca26\"],[1.0,\"#f0f921\"]]}],\"surface\":[{\"type\":\"surface\",\"colorbar\":{\"outlinewidth\":0,\"ticks\":\"\"},\"colorscale\":[[0.0,\"#0d0887\"],[0.1111111111111111,\"#46039f\"],[0.2222222222222222,\"#7201a8\"],[0.3333333333333333,\"#9c179e\"],[0.4444444444444444,\"#bd3786\"],[0.5555555555555556,\"#d8576b\"],[0.6666666666666666,\"#ed7953\"],[0.7777777777777778,\"#fb9f3a\"],[0.8888888888888888,\"#fdca26\"],[1.0,\"#f0f921\"]]}],\"mesh3d\":[{\"type\":\"mesh3d\",\"colorbar\":{\"outlinewidth\":0,\"ticks\":\"\"}}],\"scatter\":[{\"fillpattern\":{\"fillmode\":\"overlay\",\"size\":10,\"solidity\":0.2},\"type\":\"scatter\"}],\"parcoords\":[{\"type\":\"parcoords\",\"line\":{\"colorbar\":{\"outlinewidth\":0,\"ticks\":\"\"}}}],\"scatterpolargl\":[{\"type\":\"scatterpolargl\",\"marker\":{\"colorbar\":{\"outlinewidth\":0,\"ticks\":\"\"}}}],\"bar\":[{\"error_x\":{\"color\":\"#2a3f5f\"},\"error_y\":{\"color\":\"#2a3f5f\"},\"marker\":{\"line\":{\"color\":\"#E5ECF6\",\"width\":0.5},\"pattern\":{\"fillmode\":\"overlay\",\"size\":10,\"solidity\":0.2}},\"type\":\"bar\"}],\"scattergeo\":[{\"type\":\"scattergeo\",\"marker\":{\"colorbar\":{\"outlinewidth\":0,\"ticks\":\"\"}}}],\"scatterpolar\":[{\"type\":\"scatterpolar\",\"marker\":{\"colorbar\":{\"outlinewidth\":0,\"ticks\":\"\"}}}],\"histogram\":[{\"marker\":{\"pattern\":{\"fillmode\":\"overlay\",\"size\":10,\"solidity\":0.2}},\"type\":\"histogram\"}],\"scattergl\":[{\"type\":\"scattergl\",\"marker\":{\"colorbar\":{\"outlinewidth\":0,\"ticks\":\"\"}}}],\"scatter3d\":[{\"type\":\"scatter3d\",\"line\":{\"colorbar\":{\"outlinewidth\":0,\"ticks\":\"\"}},\"marker\":{\"colorbar\":{\"outlinewidth\":0,\"ticks\":\"\"}}}],\"scattermapbox\":[{\"type\":\"scattermapbox\",\"marker\":{\"colorbar\":{\"outlinewidth\":0,\"ticks\":\"\"}}}],\"scatterternary\":[{\"type\":\"scatterternary\",\"marker\":{\"colorbar\":{\"outlinewidth\":0,\"ticks\":\"\"}}}],\"scattercarpet\":[{\"type\":\"scattercarpet\",\"marker\":{\"colorbar\":{\"outlinewidth\":0,\"ticks\":\"\"}}}],\"carpet\":[{\"aaxis\":{\"endlinecolor\":\"#2a3f5f\",\"gridcolor\":\"white\",\"linecolor\":\"white\",\"minorgridcolor\":\"white\",\"startlinecolor\":\"#2a3f5f\"},\"baxis\":{\"endlinecolor\":\"#2a3f5f\",\"gridcolor\":\"white\",\"linecolor\":\"white\",\"minorgridcolor\":\"white\",\"startlinecolor\":\"#2a3f5f\"},\"type\":\"carpet\"}],\"table\":[{\"cells\":{\"fill\":{\"color\":\"#EBF0F8\"},\"line\":{\"color\":\"white\"}},\"header\":{\"fill\":{\"color\":\"#C8D4E3\"},\"line\":{\"color\":\"white\"}},\"type\":\"table\"}],\"barpolar\":[{\"marker\":{\"line\":{\"color\":\"#E5ECF6\",\"width\":0.5},\"pattern\":{\"fillmode\":\"overlay\",\"size\":10,\"solidity\":0.2}},\"type\":\"barpolar\"}],\"pie\":[{\"automargin\":true,\"type\":\"pie\"}]},\"layout\":{\"autotypenumbers\":\"strict\",\"colorway\":[\"#636efa\",\"#EF553B\",\"#00cc96\",\"#ab63fa\",\"#FFA15A\",\"#19d3f3\",\"#FF6692\",\"#B6E880\",\"#FF97FF\",\"#FECB52\"],\"font\":{\"color\":\"#2a3f5f\"},\"hovermode\":\"closest\",\"hoverlabel\":{\"align\":\"left\"},\"paper_bgcolor\":\"white\",\"plot_bgcolor\":\"#E5ECF6\",\"polar\":{\"bgcolor\":\"#E5ECF6\",\"angularaxis\":{\"gridcolor\":\"white\",\"linecolor\":\"white\",\"ticks\":\"\"},\"radialaxis\":{\"gridcolor\":\"white\",\"linecolor\":\"white\",\"ticks\":\"\"}},\"ternary\":{\"bgcolor\":\"#E5ECF6\",\"aaxis\":{\"gridcolor\":\"white\",\"linecolor\":\"white\",\"ticks\":\"\"},\"baxis\":{\"gridcolor\":\"white\",\"linecolor\":\"white\",\"ticks\":\"\"},\"caxis\":{\"gridcolor\":\"white\",\"linecolor\":\"white\",\"ticks\":\"\"}},\"coloraxis\":{\"colorbar\":{\"outlinewidth\":0,\"ticks\":\"\"}},\"colorscale\":{\"sequential\":[[0.0,\"#0d0887\"],[0.1111111111111111,\"#46039f\"],[0.2222222222222222,\"#7201a8\"],[0.3333333333333333,\"#9c179e\"],[0.4444444444444444,\"#bd3786\"],[0.5555555555555556,\"#d8576b\"],[0.6666666666666666,\"#ed7953\"],[0.7777777777777778,\"#fb9f3a\"],[0.8888888888888888,\"#fdca26\"],[1.0,\"#f0f921\"]],\"sequentialminus\":[[0.0,\"#0d0887\"],[0.1111111111111111,\"#46039f\"],[0.2222222222222222,\"#7201a8\"],[0.3333333333333333,\"#9c179e\"],[0.4444444444444444,\"#bd3786\"],[0.5555555555555556,\"#d8576b\"],[0.6666666666666666,\"#ed7953\"],[0.7777777777777778,\"#fb9f3a\"],[0.8888888888888888,\"#fdca26\"],[1.0,\"#f0f921\"]],\"diverging\":[[0,\"#8e0152\"],[0.1,\"#c51b7d\"],[0.2,\"#de77ae\"],[0.3,\"#f1b6da\"],[0.4,\"#fde0ef\"],[0.5,\"#f7f7f7\"],[0.6,\"#e6f5d0\"],[0.7,\"#b8e186\"],[0.8,\"#7fbc41\"],[0.9,\"#4d9221\"],[1,\"#276419\"]]},\"xaxis\":{\"gridcolor\":\"white\",\"linecolor\":\"white\",\"ticks\":\"\",\"title\":{\"standoff\":15},\"zerolinecolor\":\"white\",\"automargin\":true,\"zerolinewidth\":2},\"yaxis\":{\"gridcolor\":\"white\",\"linecolor\":\"white\",\"ticks\":\"\",\"title\":{\"standoff\":15},\"zerolinecolor\":\"white\",\"automargin\":true,\"zerolinewidth\":2},\"scene\":{\"xaxis\":{\"backgroundcolor\":\"#E5ECF6\",\"gridcolor\":\"white\",\"linecolor\":\"white\",\"showbackground\":true,\"ticks\":\"\",\"zerolinecolor\":\"white\",\"gridwidth\":2},\"yaxis\":{\"backgroundcolor\":\"#E5ECF6\",\"gridcolor\":\"white\",\"linecolor\":\"white\",\"showbackground\":true,\"ticks\":\"\",\"zerolinecolor\":\"white\",\"gridwidth\":2},\"zaxis\":{\"backgroundcolor\":\"#E5ECF6\",\"gridcolor\":\"white\",\"linecolor\":\"white\",\"showbackground\":true,\"ticks\":\"\",\"zerolinecolor\":\"white\",\"gridwidth\":2}},\"shapedefaults\":{\"line\":{\"color\":\"#2a3f5f\"}},\"annotationdefaults\":{\"arrowcolor\":\"#2a3f5f\",\"arrowhead\":0,\"arrowwidth\":1},\"geo\":{\"bgcolor\":\"white\",\"landcolor\":\"#E5ECF6\",\"subunitcolor\":\"white\",\"showland\":true,\"showlakes\":true,\"lakecolor\":\"white\"},\"title\":{\"x\":0.05},\"mapbox\":{\"style\":\"light\"}}},\"xaxis\":{\"anchor\":\"y\",\"domain\":[0.0,1.0],\"title\":{\"text\":\"Day\"}},\"yaxis\":{\"anchor\":\"x\",\"domain\":[0.0,1.0],\"title\":{\"text\":\"Population\"}},\"legend\":{\"title\":{\"text\":\"variable\"},\"tracegroupgap\":0},\"title\":{\"text\":\"Model 'Default-CHIME-SIR' (ASKEM_ID:8ace99a46a5340eaa96ac19b5d02526f, date:Sep 30, 2022 00:33:15)\"}},                        {\"responsive\": true}                    ).then(function(){\n",
       "                            \n",
       "var gd = document.getElementById('1607d60f-a7d1-8add-a95c-b122fd7374ca');\n",
       "var x = new MutationObserver(function (mutations, observer) {{\n",
       "        var display = window.getComputedStyle(gd).display;\n",
       "        if (!display || display === 'none') {{\n",
       "            console.log([gd, 'removed!']);\n",
       "            Plotly.purge(gd);\n",
       "            observer.disconnect();\n",
       "        }}\n",
       "}});\n",
       "\n",
       "// Listen for the removal of the full notebook cells\n",
       "var notebookContainer = gd.closest('#notebook-container');\n",
       "if (notebookContainer) {{\n",
       "    x.observe(notebookContainer, {childList: true});\n",
       "}}\n",
       "\n",
       "// Listen for the clearing of the current output cell\n",
       "var outputEl = gd.closest('.output');\n",
       "if (outputEl) {{\n",
       "    x.observe(outputEl, {childList: true});\n",
       "}}\n",
       "\n",
       "                        })                };                });            </script>        </div>"
      ]
     },
     "metadata": {},
     "output_type": "display_data"
    }
   ],
   "source": [
    "askemObj = loadModelSourceFromXDD(modelSourceXDDId)\n",
    "loadedModelModule = storeModelSourceAndLoad(askemObj[\"RAW_DATA\"][\"text\"], askemObj)\n",
    "visualizeChimeTypeModelOutputs(loadedModelModule)\n"
   ]
  },
  {
   "cell_type": "markdown",
   "metadata": {
    "ExecuteTime": {
     "end_time": "2022-09-29T20:27:02.450824Z",
     "start_time": "2022-09-29T20:27:02.446342Z"
    }
   },
   "source": [
    "## Step 2: Analyze model source code to extract Gromet Function Network (SKEMA Code2FN), then insert Gromet result into XDD\n",
    "\n",
    "A proof of concept has been created to show an in-application IDE in TERArium. This IDE is capable of running the custom VS code extension that we created to annotate code. In addtion, this extension enables the IDE in TERArium to send an entire source-code file to GROMET, receive the resulting GROMET, and highlight code syntax with relevant metadata so the end-user can confirm the GROMET extraction proceeded correctly.\n",
    "\n",
    "Demo Video [TODO]"
   ]
  },
  {
   "cell_type": "code",
   "execution_count": 43,
   "metadata": {
    "ExecuteTime": {
     "end_time": "2022-10-02T20:34:28.385940Z",
     "start_time": "2022-10-02T20:34:27.648280Z"
    }
   },
   "outputs": [
    {
     "data": {
      "text/plain": [
       "'3d7f47f3-b96a-4745-8c55-6c11cf4f0ea9'"
      ]
     },
     "execution_count": 43,
     "metadata": {},
     "output_type": "execute_result"
    }
   ],
   "source": [
    "\n",
    "grometObject = computeGrometRepr(loadedModelModule)\n",
    "grometXDDId = storeGrometInXDD(grometObject, loadedModelModule)\n",
    "grometXDDId\n",
    "\n"
   ]
  },
  {
   "cell_type": "markdown",
   "metadata": {
    "ExecuteTime": {
     "end_time": "2022-09-29T20:27:56.308675Z",
     "start_time": "2022-09-29T20:27:56.305008Z"
    }
   },
   "source": [
    "## Step 3: Load MIRA Epidemiology Domain Ontology Graph\n",
    "\n",
    "We first set up access to the MIRA Epidemiology Domain Knowledge Graph (DKG) web service."
   ]
  },
  {
   "cell_type": "code",
   "execution_count": 44,
   "metadata": {
    "ExecuteTime": {
     "end_time": "2022-10-02T20:34:29.658742Z",
     "start_time": "2022-10-02T20:34:29.653855Z"
    }
   },
   "outputs": [],
   "source": [
    "MIRA_DKG_URL = 'http://34.230.33.149:8771'\n",
    "\n",
    "def get_mira_dkg_term(term, attribs):\n",
    "    res = requests.get(MIRA_DKG_URL + '/api/search', params={'q': term})\n",
    "    term = [entity for entity in res.json() if entity['id'].startswith('askemo')][0]\n",
    "    res = {attrib: term.get(attrib) for attrib in attribs if term.get(attrib) is not None}\n",
    "    return res"
   ]
  },
  {
   "cell_type": "markdown",
   "metadata": {},
   "source": [
    "Next, we choose a set of terms and attributes to pull into a local ontology that we can use to connect to the model. In addition, for some of the terms, we define custom ranges in which their values for this model can be adjusted."
   ]
  },
  {
   "cell_type": "code",
   "execution_count": 45,
   "metadata": {},
   "outputs": [
    {
     "data": {
      "text/plain": [
       "{'population': {'description': 'The number of people who live in an area being modeled.',\n",
       "  'synonyms': [],\n",
       "  'xrefs': [{'id': 'ido:0000509', 'type': 'skos:exactMatch'}],\n",
       "  'suggested_unit': 'person',\n",
       "  'suggested_data_type': 'int',\n",
       "  'physical_min': 0.0,\n",
       "  'typical_min': 1000,\n",
       "  'typical_max': 40000000},\n",
       " 'doubling time': {'description': 'The length of time that an infectious disease requires to double in incidence.',\n",
       "  'synonyms': [{'value': 'doubling rate', 'type': 'skos:relatedMatch'}],\n",
       "  'xrefs': [{'id': 'cemo:epidemic_doubling_time', 'type': 'skos:exactMatch'}],\n",
       "  'suggested_unit': 'day',\n",
       "  'suggested_data_type': 'float',\n",
       "  'physical_min': 0.0},\n",
       " 'recovery time': {'description': 'The length of time an infected individual needs to recover after being infected.',\n",
       "  'synonyms': [{'value': 'mean recovery time', 'type': 'skos:exactMatch'},\n",
       "   {'value': 'recovery rate', 'type': 'skos:relatedMatch'}],\n",
       "  'xrefs': [],\n",
       "  'suggested_unit': 'day',\n",
       "  'suggested_data_type': 'float',\n",
       "  'physical_min': 0.0},\n",
       " 'infectious time': {'description': 'The length of time an infected individual is infectious after being infected.',\n",
       "  'synonyms': [{'value': 'contagious time', 'type': 'skos:exactMatch'},\n",
       "   {'value': 'infectious days', 'type': 'skos:narrowMatch'},\n",
       "   {'value': 'infectious period', 'type': 'skos:exactMatch'}],\n",
       "  'xrefs': [{'id': 'apollosv:00000140', 'type': 'skos:exactMatch'}],\n",
       "  'suggested_unit': 'day',\n",
       "  'suggested_data_type': 'float',\n",
       "  'physical_min': 0.0,\n",
       "  'typical_min': 1.0,\n",
       "  'typical_max': 35.0}}"
      ]
     },
     "execution_count": 45,
     "metadata": {},
     "output_type": "execute_result"
    }
   ],
   "source": [
    "# Terms we want to find in MIRA and specific attributes we want to add to our local ontology\n",
    "terms = ['population', 'doubling time', 'recovery time', 'infectious time']\n",
    "attribs = ['description', 'synonyms', 'xrefs', 'suggested_unit', 'suggested_data_type',\n",
    "           'physical_min', 'physical_max', 'typical_min', 'typical_max']\n",
    "\n",
    "# The local ontology if filled up from the MIRA DKG\n",
    "LOCAL_ONTOLOGY = {\n",
    "    term: get_mira_dkg_term(term, attribs) for term in terms\n",
    "    }\n",
    "\n",
    "# We can also set further local / use-case specific constraints as needed\n",
    "LOCAL_ONTOLOGY['population']['typical_min'] = 1000\n",
    "LOCAL_ONTOLOGY['population']['typical_max'] = 40_000_000\n",
    "\n",
    "LOCAL_ONTOLOGY"
   ]
  },
  {
   "cell_type": "markdown",
   "metadata": {},
   "source": [
    "## Step 4: Domain knowledge graph registration and indexing\n",
    "\n",
    "xDD now has a framework to support ingestion of domain knowledge graphs stored in RDF format. Entities (nodes) from the MIRA knowledge graph have been stored as ASKEM objects (with class=Term), enabling recall within the xDD system:"
   ]
  },
  {
   "cell_type": "code",
   "execution_count": 46,
   "metadata": {},
   "outputs": [
    {
     "name": "stdout",
     "output_type": "stream",
     "text": [
      "[{'ASKEM_CLASS': 'Term',\n",
      "  'ASKEM_ID': 'df8ac7ca-71f7-4a99-96fc-1225831ef7c1',\n",
      "  '_xdd_created': '2022-10-05T20:28:55.095818',\n",
      "  '_xdd_registrant': 4,\n",
      "  'properties': {'description': 'Infectious disease incidence rate where the '\n",
      "                                'infectious disease is COVID-19.',\n",
      "                 'primaryName': 'COVID-19 incidence rate',\n",
      "                 'source': 'https://askem-mira.s3.amazonaws.com/dkg/epi/build/2022-09-29/dkg.ttl.gz',\n",
      "                 'sourceID': 'idocovid19:0001275',\n",
      "                 'synonyms': ['']}},\n",
      " {'ASKEM_CLASS': 'Term',\n",
      "  'ASKEM_ID': '585f7483-80f5-40ba-9589-b510a18a90de',\n",
      "  '_xdd_created': '2022-10-05T20:27:57.178758',\n",
      "  '_xdd_registrant': 4,\n",
      "  'properties': {'description': 'An infectious disease incidence rate that is '\n",
      "                                'typical for an infectious disease in an '\n",
      "                                'organism population. ',\n",
      "                 'primaryName': 'infectious disease endemic rate',\n",
      "                 'source': 'https://askem-mira.s3.amazonaws.com/dkg/epi/build/2022-09-29/dkg.ttl.gz',\n",
      "                 'sourceID': 'ido:0000492',\n",
      "                 'synonyms': ['']}},\n",
      " {'ASKEM_CLASS': 'Term',\n",
      "  'ASKEM_ID': 'cbd368cb-5d97-436a-a1b2-babffa82be4e',\n",
      "  '_xdd_created': '2022-10-05T21:25:22.441665',\n",
      "  '_xdd_registrant': 4,\n",
      "  'properties': {'description': 'This is an AE which incidence rate was equal '\n",
      "                                'to 5.96/1,000 infants, which would result in '\n",
      "                                '2.0 IQ points loss in 34.31% of the newborns.',\n",
      "                 'primaryName': 'mild mental retardation AE',\n",
      "                 'source': 'https://askem-mira.s3.amazonaws.com/dkg/epi/build/2022-09-29/dkg.ttl.gz',\n",
      "                 'sourceID': 'oae:0007599',\n",
      "                 'synonyms': ['']}}]\n"
     ]
    }
   ],
   "source": [
    "url = f\"{XDD_GET_URL}?askem_class=Term&description=incidence rate\"\n",
    "resp = requests.get(url)\n",
    "data = resp.json()\n",
    "result = data[\"success\"][\"data\"][:3]\n",
    "ppr.pprint(result)"
   ]
  },
  {
   "cell_type": "markdown",
   "metadata": {},
   "source": [
    "This knowledge graph is then indexed and projected into the literature -- currently via a naive term-based matching. This enables summarization of label volume across the xDD corpus (or subsets therein). The example below looks at the hyper-focused modeling-specific subset (more info in the next step), accumulating the number of mentions within the literature of each node label within the ingested DKG."
   ]
  },
  {
   "cell_type": "code",
   "execution_count": 47,
   "metadata": {},
   "outputs": [
    {
     "name": "stdout",
     "output_type": "stream",
     "text": [
      "[('COVID-19', 1254),\n",
      " ('time', 742),\n",
      " ('population', 725),\n",
      " ('disease', 707),\n",
      " ('infection', 577),\n",
      " ('All', 414),\n",
      " ('reproduction', 302),\n",
      " ('death', 146),\n",
      " ('effective', 138),\n",
      " ('system', 136),\n",
      " ('cell', 134),\n",
      " ('age', 128),\n",
      " ('Class', 113),\n",
      " ('is about', 109),\n",
      " ('vaccine', 103),\n",
      " ('is active in', 100),\n",
      " ('Severe', 97),\n",
      " ('date', 84),\n",
      " ('group', 83),\n",
      " ('Date', 82),\n",
      " ('consider', 78),\n",
      " ('function', 77),\n",
      " ('function of', 77),\n",
      " ('vaccination', 65),\n",
      " ('license', 64),\n",
      " ('vaccinated', 61),\n",
      " ('effectiveness', 59),\n",
      " ('process', 57),\n",
      " ('A2', 57),\n",
      " ('face', 57),\n",
      " ('prediction', 55),\n",
      " ('E2', 55),\n",
      " ('country', 53),\n",
      " ('antiviral', 53),\n",
      " ('report', 53),\n",
      " ('structure', 49),\n",
      " ('production', 49),\n",
      " ('lung', 49),\n",
      " ('E1', 49),\n",
      " ('duration', 47),\n",
      " ('Restriction', 46),\n",
      " ('incubation period', 41),\n",
      " ('USA', 40),\n",
      " ('Mild', 38),\n",
      " ('infected population', 36),\n",
      " ('infectious disease', 33),\n",
      " ('Frequency', 33),\n",
      " ('frequency', 33),\n",
      " ('dead', 32),\n",
      " ('algorithm', 31),\n",
      " ('id', 31),\n",
      " ('Source', 30),\n",
      " ('immune response', 29),\n",
      " ('pneumonia', 28),\n",
      " ('Pneumonia', 28),\n",
      " ('host', 27),\n",
      " ('connected to', 26),\n",
      " ('infectivity', 26),\n",
      " ('Right', 25),\n",
      " ('pharmaceutical', 24),\n",
      " ('AstraZeneca', 24),\n",
      " ('volume', 23),\n",
      " ('innate immune response', 22),\n",
      " ('occurs in', 21),\n",
      " ('growth', 21),\n",
      " ('epithelium', 20),\n",
      " ('Left', 20),\n",
      " ('core', 20),\n",
      " ('syndrome', 19),\n",
      " ('Severity', 19),\n",
      " ('epithelial cell', 18),\n",
      " ('susceptibility', 18),\n",
      " ('G1', 18),\n",
      " ('dose', 18),\n",
      " ('NH', 18),\n",
      " ('protein', 17),\n",
      " ('cell death', 16),\n",
      " ('Canada', 16),\n",
      " ('tissue', 15),\n",
      " ('is evidence of', 14),\n",
      " ('evidence', 14),\n",
      " ('Healthy', 14),\n",
      " ('part of', 14),\n",
      " ('input of', 13),\n",
      " ('acute', 13),\n",
      " ('description', 13),\n",
      " ('saliva', 12),\n",
      " ('M2', 12),\n",
      " ('role of', 12),\n",
      " ('role', 12),\n",
      " ('organization', 11),\n",
      " ('replication', 11),\n",
      " ('drug', 11),\n",
      " ('Resource', 11),\n",
      " ('application', 10),\n",
      " ('acid', 10),\n",
      " ('enables', 10),\n",
      " ('inflammation', 10),\n",
      " ('poverty', 10),\n",
      " ('unvaccinated', 10),\n",
      " ('macrophage', 9),\n",
      " ('determined by', 9),\n",
      " ('Onset', 9),\n",
      " ('blood', 8),\n",
      " ('Stable', 8),\n",
      " ('Viruses', 8),\n",
      " ('vaccination coverage', 8),\n",
      " ('Nothing', 8),\n",
      " ('Position', 8),\n",
      " ('influenza', 7),\n",
      " ('vaccine efficacy', 7),\n",
      " ('susceptible population', 6),\n",
      " ('transmission period', 6),\n",
      " ('immune system', 6),\n",
      " ('monthly', 6),\n",
      " ('Frequent', 6),\n",
      " ('object', 6),\n",
      " ('shape', 5),\n",
      " ('starts with', 5),\n",
      " ('starts', 5),\n",
      " ('gene', 5),\n",
      " ('pathogen', 5),\n",
      " ('Acute', 5),\n",
      " ('E0', 5),\n",
      " ('GI', 5),\n",
      " ('vaccine dose', 5),\n",
      " ('Chronic', 5),\n",
      " ('Imperial College London', 5),\n",
      " ('universal', 5),\n",
      " ('quality of', 5),\n",
      " ('NP', 5),\n",
      " ('quality', 5),\n",
      " ('Central', 5),\n",
      " ('definition', 5)]\n"
     ]
    }
   ],
   "source": [
    "url = f\"{XDD_ARTICLES_URL}articles?dataset=askem_covid_demo&known_terms=mira_rdf_terms&term_format=full&n_hits=5\"\n",
    "resp = requests.get(url)\n",
    "data = resp.json()\n",
    "from collections import defaultdict\n",
    "term_stats = defaultdict(int)\n",
    "for document in data[\"success\"][\"data\"]:\n",
    "  for dictionary in document['known_terms']:\n",
    "    for _, terms in dictionary.items():\n",
    "      for term in terms:\n",
    "        term_stats[term['term']] += term['n_hits']\n",
    "ppr.pprint(sorted(term_stats.items(), key=lambda i: -i[1]))"
   ]
  },
  {
   "cell_type": "markdown",
   "metadata": {},
   "source": [
    "## Step 5: Literature queries and Relevant Corpus Definitions\n",
    "\n",
    "xDD provides the ability to define _sets_ of documents to process and investigate as a small, targeted corpus. This enables users to reach into the relevant literature to extract text, tables, figures relevant to a query. Embedding models can be trained to enable phrase and document similarity lookups within this targeted set.\n",
    "\n",
    "Two xDD sets have been defined for this demonstration: One very small, hyper-targeted set (33 documents), compiled through collaboration with Ben Gyori and the MITRE starter kit. The second casts a wider net (~9,000 documents), requiring occurrence of both \"covid-19\" (or a synonym) and one of a handful of modeling-related terms [\"infection rate\", \"susceptible population\", \"recovery rate\", ...]\n",
    "\n",
    "### Similar documents\n",
    "Given a DOI of a document (\"Projections and fractional dynamics of COVID-19 with optimal control strategies\" by Nabi et. al), we can quicky recovery semantically similar documents within the covid-19 modeling set:\n"
   ]
  },
  {
   "cell_type": "code",
   "execution_count": 48,
   "metadata": {},
   "outputs": [
    {
     "name": "stdout",
     "output_type": "stream",
     "text": [
      "['Investigation of nonlinear epidemiological models for analyzing and '\n",
      " 'controlling the MERS outbreak in Korea (10.1016/j.jtbi.2017.10.004)',\n",
      " 'Dynamics of a model with quarantine-adjusted incidence and quarantine of '\n",
      " 'susceptible individuals (10.1016/j.jmaa.2012.10.015)',\n",
      " 'Qualitative study of a quarantine/isolation model with multiple disease '\n",
      " 'stages (10.1016/j.amc.2011.07.007)',\n",
      " 'Optimal and sub-optimal quarantine and isolation control in SARS epidemics '\n",
      " '(10.1016/j.mcm.2007.04.003)',\n",
      " 'Forecasting versus projection models in epidemiology: The case of the SARS '\n",
      " 'epidemics (10.1016/j.mehy.2004.09.029)',\n",
      " 'Mathematical modeling of COVID-19 epidemic with effect of awareness programs '\n",
      " '(10.1016/j.idm.2021.01.012)',\n",
      " 'The dynamics of COVID-19 with quarantined and isolation '\n",
      " '(10.1186/s13662-020-02882-9)',\n",
      " 'Modeling the transmission dynamics of the Middle East Respiratory Syndrome '\n",
      " 'Coronavirus (MERS-CoV) with latent immigrants '\n",
      " '(10.1080/09720502.2019.1692429)',\n",
      " 'Design of a nonlinear model for the propagation of COVID-19 and its '\n",
      " 'efficient nonstandard computational implementation '\n",
      " '(10.1016/j.apm.2020.08.082)',\n",
      " 'Dynamics of an SEQIHRS epidemic model with media coverage, quarantine and '\n",
      " 'isolation in a community with pre-existing immunity '\n",
      " '(10.1016/j.jmaa.2014.08.019)']\n"
     ]
    }
   ],
   "source": [
    "url = f\"https://xdd.wisc.edu/sets/xdd-covid-19-modeling/doc2vec/similar?doi=10.1016/j.chaos.2021.110689\"\n",
    "resp = requests.get(url)\n",
    "ppr.pprint([f'{i[\"bibjson\"][\"title\"]} ({i[\"bibjson\"][\"identifier\"][0][\"id\"]})'  for i in resp.json()['data']])"
   ]
  },
  {
   "cell_type": "markdown",
   "metadata": {},
   "source": [
    "### Parameter exploration\n",
    "\n",
    "xDD allows the ability to search for text mentions of entities and parameters and, via COSMOS extractions, mentions within tables, figures, captions, and linked mentions within body text.\n",
    "\n",
    "If a modeler is interested in finding more information about γ (recovery rate). They could look up usage of this parameter within related literature. For example, by explicitly looking it up within the SEIRS publication (\"The SEIRS model for infectious disease dynamics\"):\n"
   ]
  },
  {
   "cell_type": "code",
   "execution_count": 49,
   "metadata": {},
   "outputs": [
    {
     "name": "stdout",
     "output_type": "stream",
     "text": [
      "{'success': {'data': [{'URL': 'http://www.nature.com/articles/s41592-020-0856-2',\n",
      "                       '_gddid': '616aca9567467f7269c432ba',\n",
      "                       'authors': 'Bjørnstad, Ottar N.; Shea, Katriona; '\n",
      "                                  'Krzywinski, Martin; Altman, Naomi',\n",
      "                       'coverDate': '2020 06',\n",
      "                       'doi': '10.1038/s41592-020-0856-2',\n",
      "                       'highlight': [' by the infectious  period 1/γ, the '\n",
      "                                     'basic reproduction number  eRa0c',\n",
      "                                     '), γ (recovery), ω (loss of immunity), α '\n",
      "                                     '(infection-induced death) and µ (birth '\n",
      "                                     'and background death',\n",
      "                                     ' equilibrium values for R0 = 3, 1/γ = 14 '\n",
      "                                     'days, 1/σ = 7 days, 1/ω = 1 year, 1/µ = '\n",
      "                                     '76 years, α = 0 and β',\n",
      "                                     '  thI e infectious period is 1/(γ þ μ þ '\n",
      "                                     'α) and  the probability of the '\n",
      "                                     'indexIcase becoming  infectious',\n",
      "                                     ' different combinations of latency (1/σ '\n",
      "                                     'days) and loss of immunity (1/ω years) '\n",
      "                                     'for R0 = 3, 1/γ = 14 days. TE'],\n",
      "                       'hits': 5,\n",
      "                       'publisher': 'Springer',\n",
      "                       'pubname': 'Nature Methods',\n",
      "                       'title': 'The SEIRS model for infectious disease '\n",
      "                                'dynamics'}],\n",
      "             'license': 'https://creativecommons.org/licenses/by-nc/2.0/',\n",
      "             'v': 1}}\n"
     ]
    }
   ],
   "source": [
    "url = \"https://xdd.wisc.edu/api/articles?title=\" + urllib.parse.quote(\"The SEIRS model for infectious disease dynamics\")\n",
    "# https://xdd.wisc.edu/api/articles?title=The SEIRS model for infectious disease dynamics\n",
    "resp = requests.get(url)\n",
    "docid = resp.json()['success']['data'][0][\"_gddid\"]\n",
    "url = \"https://xdd.wisc.edu/api/snippets?term=\" + urllib.parse.quote(\"γ\") + f\"&docid={docid}&clean\"\n",
    "# https://xdd.wisc.edu/api/snippets?term=γ&docid=616aca9567467f7269c432ba&clean\n",
    "resp = requests.get(url)\n",
    "ppr.pprint(resp.json())"
   ]
  },
  {
   "cell_type": "markdown",
   "metadata": {},
   "source": [
    "Indicating that a recovery time of 1/γ = 14 days may be a reasonable starting point. However, the user can cast a wider net, and seek tables of relevant values from the very-focused modeling literature:"
   ]
  },
  {
   "cell_type": "code",
   "execution_count": 50,
   "metadata": {},
   "outputs": [
    {
     "data": {
      "image/jpeg": "[encoded data removed]",
      "text/plain": [
       "<IPython.core.display.Image object>"
      ]
     },
     "execution_count": 50,
     "metadata": {},
     "output_type": "execute_result"
    }
   ],
   "source": [
    "url = f\"{XDD_GET_URL}?askem_class=Table&contentText=\" + urllib.parse.quote(\"γ\")\n",
    "# https://xdddev.chtc.io/askem/object?askem_class=Table&contentText=γ\n",
    "\n",
    "resp = requests.get(url)\n",
    "data = resp.json()\n",
    "result = data[\"success\"][\"data\"][2] # Grab the element we want\n",
    "# alternatively, direct URL: https://xdddev.chtc.io/askem/object/0842faf6-c659-4604-b553-55d8bfbe928d\"\n",
    "display.Image(b64decode(result['properties']['image']))"
   ]
  },
  {
   "cell_type": "markdown",
   "metadata": {},
   "source": [
    "Part of this response is a dataframe extraction of the discovered table, which may be useful for extraction (or ingestion into the workbench via the dataset cleanup/annotation process under development by Jataware:"
   ]
  },
  {
   "cell_type": "code",
   "execution_count": 51,
   "metadata": {},
   "outputs": [
    {
     "data": {
      "text/html": [
       "<div>\n",
       "<style scoped>\n",
       "    .dataframe tbody tr th:only-of-type {\n",
       "        vertical-align: middle;\n",
       "    }\n",
       "\n",
       "    .dataframe tbody tr th {\n",
       "        vertical-align: top;\n",
       "    }\n",
       "\n",
       "    .dataframe thead th {\n",
       "        text-align: right;\n",
       "    }\n",
       "</style>\n",
       "<table border=\"1\" class=\"dataframe\">\n",
       "  <thead>\n",
       "    <tr style=\"text-align: right;\">\n",
       "      <th></th>\n",
       "      <th>0</th>\n",
       "      <th>1</th>\n",
       "      <th>2</th>\n",
       "    </tr>\n",
       "  </thead>\n",
       "  <tbody>\n",
       "    <tr>\n",
       "      <th>0</th>\n",
       "      <td>Table 2</td>\n",
       "      <td></td>\n",
       "      <td></td>\n",
       "    </tr>\n",
       "    <tr>\n",
       "      <th>1</th>\n",
       "      <td></td>\n",
       "      <td>ePRCC values for the model (2.1) parameters using the total number of in-</td>\n",
       "      <td></td>\n",
       "    </tr>\n",
       "    <tr>\n",
       "      <th>2</th>\n",
       "      <td></td>\n",
       "      <td>fected individuals and the reproduction number, R c , as response functions.</td>\n",
       "      <td></td>\n",
       "    </tr>\n",
       "    <tr>\n",
       "      <th>3</th>\n",
       "      <td></td>\n",
       "      <td>Parameters which strongly inﬂuence the dynamics of the model with respect</td>\n",
       "      <td></td>\n",
       "    </tr>\n",
       "    <tr>\n",
       "      <th>4</th>\n",
       "      <td>to each of the response functions are shown in bold fonts.</td>\n",
       "      <td></td>\n",
       "      <td></td>\n",
       "    </tr>\n",
       "    <tr>\n",
       "      <th>5</th>\n",
       "      <td>Parameters \\nE \\nA</td>\n",
       "      <td>I \\nI d</td>\n",
       "      <td>R c</td>\n",
       "    </tr>\n",
       "    <tr>\n",
       "      <th>6</th>\n",
       "      <td>β c \\n0.9169 \\n0.5601</td>\n",
       "      <td>0.5426 \\n0.6205</td>\n",
       "      <td>0.9342</td>\n",
       "    </tr>\n",
       "    <tr>\n",
       "      <th>7</th>\n",
       "      <td>θ\\n−0.2273 \\n−0.8068</td>\n",
       "      <td>−0.1703 \\n0.6167</td>\n",
       "      <td>−0.5721</td>\n",
       "    </tr>\n",
       "    <tr>\n",
       "      <th>8</th>\n",
       "      <td>ψ \\n−0.6288 \\n−0.2266</td>\n",
       "      <td>−0.9497 \\n0.7729</td>\n",
       "      <td>−0.7656</td>\n",
       "    </tr>\n",
       "    <tr>\n",
       "      <th>9</th>\n",
       "      <td>α\\n0.3620 \\n0.1591</td>\n",
       "      <td>0.2000 \\n0.1728</td>\n",
       "      <td>0.6610</td>\n",
       "    </tr>\n",
       "    <tr>\n",
       "      <th>10</th>\n",
       "      <td>−0.0303 \\n−0.2526 \\nγ a</td>\n",
       "      <td>0.08597 \\n−0.2098</td>\n",
       "      <td>−0.0967</td>\n",
       "    </tr>\n",
       "    <tr>\n",
       "      <th>11</th>\n",
       "      <td>0.3231 \\n0.0822 \\nγ o</td>\n",
       "      <td>−0.0097 \\n−0.2854</td>\n",
       "      <td>−0.1698</td>\n",
       "    </tr>\n",
       "    <tr>\n",
       "      <th>12</th>\n",
       "      <td>0.1113 \\n−0.0512 \\nd 0</td>\n",
       "      <td>−0.1094 \\n−0.0785</td>\n",
       "      <td>−0.0784</td>\n",
       "    </tr>\n",
       "    <tr>\n",
       "      <th>13</th>\n",
       "      <td>ν\\n0.0364 \\n0.8994</td>\n",
       "      <td>−0.8442 \\n−0.0040</td>\n",
       "      <td>−0.3490</td>\n",
       "    </tr>\n",
       "    <tr>\n",
       "      <th>14</th>\n",
       "      <td>σ\\n−0.6068 \\n0.6903</td>\n",
       "      <td>0.6524 \\n0.5775</td>\n",
       "      <td>−</td>\n",
       "    </tr>\n",
       "    <tr>\n",
       "      <th>15</th>\n",
       "      <td>γ i</td>\n",
       "      <td></td>\n",
       "      <td>−</td>\n",
       "    </tr>\n",
       "    <tr>\n",
       "      <th>16</th>\n",
       "      <td>0.1448 \\n0.0781</td>\n",
       "      <td>0.0699 \\n−0.6961</td>\n",
       "      <td></td>\n",
       "    </tr>\n",
       "    <tr>\n",
       "      <th>17</th>\n",
       "      <td>0.1747 \\n0.1487</td>\n",
       "      <td>0.2146 \\n−0.3579</td>\n",
       "      <td>−</td>\n",
       "    </tr>\n",
       "    <tr>\n",
       "      <th>18</th>\n",
       "      <td>d D</td>\n",
       "      <td></td>\n",
       "      <td></td>\n",
       "    </tr>\n",
       "    <tr>\n",
       "      <th>19</th>\n",
       "      <td>Table 3</td>\n",
       "      <td></td>\n",
       "      <td></td>\n",
       "    </tr>\n",
       "    <tr>\n",
       "      <th>20</th>\n",
       "      <td>Values of parameters in the model (2.1) .</td>\n",
       "      <td></td>\n",
       "      <td></td>\n",
       "    </tr>\n",
       "    <tr>\n",
       "      <th>21</th>\n",
       "      <td>Parameter \\nBaseline value</td>\n",
       "      <td>Range \\nReference</td>\n",
       "      <td></td>\n",
       "    </tr>\n",
       "    <tr>\n",
       "      <th>22</th>\n",
       "      <td>Fitted \\nβ c</td>\n",
       "      <td>Estimated</td>\n",
       "      <td></td>\n",
       "    </tr>\n",
       "    <tr>\n",
       "      <th>23</th>\n",
       "      <td>α\\n0.5 /day</td>\n",
       "      <td>[0,1]/day \\n[8]</td>\n",
       "      <td></td>\n",
       "    </tr>\n",
       "    <tr>\n",
       "      <th>24</th>\n",
       "      <td>ν\\n0.5 /day</td>\n",
       "      <td>[0,1]/day \\n[8]</td>\n",
       "      <td></td>\n",
       "    </tr>\n",
       "    <tr>\n",
       "      <th>25</th>\n",
       "      <td>1 \\nσ</td>\n",
       "      <td>[ 1</td>\n",
       "      <td></td>\n",
       "    </tr>\n",
       "    <tr>\n",
       "      <th>26</th>\n",
       "      <td>5 . 2 /day</td>\n",
       "      <td>[32] \\n14 , 1 \\n3 ] /day</td>\n",
       "      <td></td>\n",
       "    </tr>\n",
       "    <tr>\n",
       "      <th>27</th>\n",
       "      <td>θ\\nFitted /day</td>\n",
       "      <td>Estimated</td>\n",
       "      <td></td>\n",
       "    </tr>\n",
       "    <tr>\n",
       "      <th>28</th>\n",
       "      <td>ψ \\nFitted /day</td>\n",
       "      <td>Estimated</td>\n",
       "      <td></td>\n",
       "    </tr>\n",
       "    <tr>\n",
       "      <th>29</th>\n",
       "      <td>1</td>\n",
       "      <td></td>\n",
       "      <td></td>\n",
       "    </tr>\n",
       "    <tr>\n",
       "      <th>30</th>\n",
       "      <td>γ i \\n15 /day</td>\n",
       "      <td>[ 1 \\n[7,8] \\n30 , 1 \\n3 ] /day</td>\n",
       "      <td></td>\n",
       "    </tr>\n",
       "    <tr>\n",
       "      <th>31</th>\n",
       "      <td>0.13978 /day \\nγa = γo</td>\n",
       "      <td>[37] \\n[ 1 \\n30 , 1 \\n3 ] /day</td>\n",
       "      <td></td>\n",
       "    </tr>\n",
       "    <tr>\n",
       "      <th>32</th>\n",
       "      <td>0.015 /day \\nd o = d D</td>\n",
       "      <td>[0.001 - 0.1] \\n[13]</td>\n",
       "      <td></td>\n",
       "    </tr>\n",
       "  </tbody>\n",
       "</table>\n",
       "</div>"
      ],
      "text/plain": [
       "                                                             0  \\\n",
       "0                                                      Table 2   \n",
       "1                                                                \n",
       "2                                                                \n",
       "3                                                                \n",
       "4   to each of the response functions are shown in bold fonts.   \n",
       "5                                           Parameters \\nE \\nA   \n",
       "6                                        β c \\n0.9169 \\n0.5601   \n",
       "7                                         θ\\n−0.2273 \\n−0.8068   \n",
       "8                                        ψ \\n−0.6288 \\n−0.2266   \n",
       "9                                           α\\n0.3620 \\n0.1591   \n",
       "10                                     −0.0303 \\n−0.2526 \\nγ a   \n",
       "11                                       0.3231 \\n0.0822 \\nγ o   \n",
       "12                                      0.1113 \\n−0.0512 \\nd 0   \n",
       "13                                          ν\\n0.0364 \\n0.8994   \n",
       "14                                         σ\\n−0.6068 \\n0.6903   \n",
       "15                                                         γ i   \n",
       "16                                             0.1448 \\n0.0781   \n",
       "17                                             0.1747 \\n0.1487   \n",
       "18                                                         d D   \n",
       "19                                                     Table 3   \n",
       "20                   Values of parameters in the model (2.1) .   \n",
       "21                                  Parameter \\nBaseline value   \n",
       "22                                                Fitted \\nβ c   \n",
       "23                                                 α\\n0.5 /day   \n",
       "24                                                 ν\\n0.5 /day   \n",
       "25                                                       1 \\nσ   \n",
       "26                                                  5 . 2 /day   \n",
       "27                                              θ\\nFitted /day   \n",
       "28                                             ψ \\nFitted /day   \n",
       "29                                                           1   \n",
       "30                                               γ i \\n15 /day   \n",
       "31                                      0.13978 /day \\nγa = γo   \n",
       "32                                      0.015 /day \\nd o = d D   \n",
       "\n",
       "                                                                               1  \\\n",
       "0                                                                                  \n",
       "1      ePRCC values for the model (2.1) parameters using the total number of in-   \n",
       "2   fected individuals and the reproduction number, R c , as response functions.   \n",
       "3      Parameters which strongly inﬂuence the dynamics of the model with respect   \n",
       "4                                                                                  \n",
       "5                                                                        I \\nI d   \n",
       "6                                                                0.5426 \\n0.6205   \n",
       "7                                                               −0.1703 \\n0.6167   \n",
       "8                                                               −0.9497 \\n0.7729   \n",
       "9                                                                0.2000 \\n0.1728   \n",
       "10                                                             0.08597 \\n−0.2098   \n",
       "11                                                             −0.0097 \\n−0.2854   \n",
       "12                                                             −0.1094 \\n−0.0785   \n",
       "13                                                             −0.8442 \\n−0.0040   \n",
       "14                                                               0.6524 \\n0.5775   \n",
       "15                                                                                 \n",
       "16                                                              0.0699 \\n−0.6961   \n",
       "17                                                              0.2146 \\n−0.3579   \n",
       "18                                                                                 \n",
       "19                                                                                 \n",
       "20                                                                                 \n",
       "21                                                             Range \\nReference   \n",
       "22                                                                     Estimated   \n",
       "23                                                               [0,1]/day \\n[8]   \n",
       "24                                                               [0,1]/day \\n[8]   \n",
       "25                                                                           [ 1   \n",
       "26                                                      [32] \\n14 , 1 \\n3 ] /day   \n",
       "27                                                                     Estimated   \n",
       "28                                                                     Estimated   \n",
       "29                                                                                 \n",
       "30                                               [ 1 \\n[7,8] \\n30 , 1 \\n3 ] /day   \n",
       "31                                                [37] \\n[ 1 \\n30 , 1 \\n3 ] /day   \n",
       "32                                                          [0.001 - 0.1] \\n[13]   \n",
       "\n",
       "          2  \n",
       "0            \n",
       "1            \n",
       "2            \n",
       "3            \n",
       "4            \n",
       "5       R c  \n",
       "6    0.9342  \n",
       "7   −0.5721  \n",
       "8   −0.7656  \n",
       "9    0.6610  \n",
       "10  −0.0967  \n",
       "11  −0.1698  \n",
       "12  −0.0784  \n",
       "13  −0.3490  \n",
       "14        −  \n",
       "15        −  \n",
       "16           \n",
       "17        −  \n",
       "18           \n",
       "19           \n",
       "20           \n",
       "21           \n",
       "22           \n",
       "23           \n",
       "24           \n",
       "25           \n",
       "26           \n",
       "27           \n",
       "28           \n",
       "29           \n",
       "30           \n",
       "31           \n",
       "32           "
      ]
     },
     "execution_count": 51,
     "metadata": {},
     "output_type": "execute_result"
    }
   ],
   "source": [
    "df = pd.read_json(json.dumps(result['properties']['contentJSON']))\n",
    "df"
   ]
  },
  {
   "cell_type": "markdown",
   "metadata": {},
   "source": [
    "## Step 6: [TODO] Possible Jataware table cleanup\n",
    "\n",
    "A table reading proof of concept has been integrated into the Dojo data annotation stack. This demo shows the capability to place an image of a table and an editable copy of the extracted table into the dojo data registration flow. The end user can make changes to the table and then export it back to xDD.\n",
    "\n",
    "Demo Video [TODO]"
   ]
  },
  {
   "cell_type": "markdown",
   "metadata": {},
   "source": [
    "## Step 7: Perform machine reading of target paper (SKEMA Text Reading Pipeline), Grounding to concepts in the MIRA Epidemiology DKG"
   ]
  },
  {
   "cell_type": "code",
   "execution_count": 52,
   "metadata": {},
   "outputs": [
    {
     "ename": "ConnectionError",
     "evalue": "HTTPConnectionPool(host='localhost', port=9000): Max retries exceeded with url: /cosmos_json_to_mentions (Caused by NewConnectionError('<urllib3.connection.HTTPConnection object at 0x7fccd613b940>: Failed to establish a new connection: [Errno 111] Connection refused'))",
     "output_type": "error",
     "traceback": [
      "\u001b[0;31m---------------------------------------------------------------------------\u001b[0m",
      "\u001b[0;31mConnectionRefusedError\u001b[0m                    Traceback (most recent call last)",
      "\u001b[0;32m/usr/local/lib/python3.8/dist-packages/urllib3/connection.py\u001b[0m in \u001b[0;36m_new_conn\u001b[0;34m(self)\u001b[0m\n\u001b[1;32m    173\u001b[0m         \u001b[0;32mtry\u001b[0m\u001b[0;34m:\u001b[0m\u001b[0;34m\u001b[0m\u001b[0;34m\u001b[0m\u001b[0m\n\u001b[0;32m--> 174\u001b[0;31m             conn = connection.create_connection(\n\u001b[0m\u001b[1;32m    175\u001b[0m                 \u001b[0;34m(\u001b[0m\u001b[0mself\u001b[0m\u001b[0;34m.\u001b[0m\u001b[0m_dns_host\u001b[0m\u001b[0;34m,\u001b[0m \u001b[0mself\u001b[0m\u001b[0;34m.\u001b[0m\u001b[0mport\u001b[0m\u001b[0;34m)\u001b[0m\u001b[0;34m,\u001b[0m \u001b[0mself\u001b[0m\u001b[0;34m.\u001b[0m\u001b[0mtimeout\u001b[0m\u001b[0;34m,\u001b[0m \u001b[0;34m**\u001b[0m\u001b[0mextra_kw\u001b[0m\u001b[0;34m\u001b[0m\u001b[0;34m\u001b[0m\u001b[0m\n",
      "\u001b[0;32m/usr/local/lib/python3.8/dist-packages/urllib3/util/connection.py\u001b[0m in \u001b[0;36mcreate_connection\u001b[0;34m(address, timeout, source_address, socket_options)\u001b[0m\n\u001b[1;32m     94\u001b[0m     \u001b[0;32mif\u001b[0m \u001b[0merr\u001b[0m \u001b[0;32mis\u001b[0m \u001b[0;32mnot\u001b[0m \u001b[0;32mNone\u001b[0m\u001b[0;34m:\u001b[0m\u001b[0;34m\u001b[0m\u001b[0;34m\u001b[0m\u001b[0m\n\u001b[0;32m---> 95\u001b[0;31m         \u001b[0;32mraise\u001b[0m \u001b[0merr\u001b[0m\u001b[0;34m\u001b[0m\u001b[0;34m\u001b[0m\u001b[0m\n\u001b[0m\u001b[1;32m     96\u001b[0m \u001b[0;34m\u001b[0m\u001b[0m\n",
      "\u001b[0;32m/usr/local/lib/python3.8/dist-packages/urllib3/util/connection.py\u001b[0m in \u001b[0;36mcreate_connection\u001b[0;34m(address, timeout, source_address, socket_options)\u001b[0m\n\u001b[1;32m     84\u001b[0m                 \u001b[0msock\u001b[0m\u001b[0;34m.\u001b[0m\u001b[0mbind\u001b[0m\u001b[0;34m(\u001b[0m\u001b[0msource_address\u001b[0m\u001b[0;34m)\u001b[0m\u001b[0;34m\u001b[0m\u001b[0;34m\u001b[0m\u001b[0m\n\u001b[0;32m---> 85\u001b[0;31m             \u001b[0msock\u001b[0m\u001b[0;34m.\u001b[0m\u001b[0mconnect\u001b[0m\u001b[0;34m(\u001b[0m\u001b[0msa\u001b[0m\u001b[0;34m)\u001b[0m\u001b[0;34m\u001b[0m\u001b[0;34m\u001b[0m\u001b[0m\n\u001b[0m\u001b[1;32m     86\u001b[0m             \u001b[0;32mreturn\u001b[0m \u001b[0msock\u001b[0m\u001b[0;34m\u001b[0m\u001b[0;34m\u001b[0m\u001b[0m\n",
      "\u001b[0;31mConnectionRefusedError\u001b[0m: [Errno 111] Connection refused",
      "\nDuring handling of the above exception, another exception occurred:\n",
      "\u001b[0;31mNewConnectionError\u001b[0m                        Traceback (most recent call last)",
      "\u001b[0;32m/usr/local/lib/python3.8/dist-packages/urllib3/connectionpool.py\u001b[0m in \u001b[0;36murlopen\u001b[0;34m(self, method, url, body, headers, retries, redirect, assert_same_host, timeout, pool_timeout, release_conn, chunked, body_pos, **response_kw)\u001b[0m\n\u001b[1;32m    702\u001b[0m             \u001b[0;31m# Make the request on the httplib connection object.\u001b[0m\u001b[0;34m\u001b[0m\u001b[0;34m\u001b[0m\u001b[0;34m\u001b[0m\u001b[0m\n\u001b[0;32m--> 703\u001b[0;31m             httplib_response = self._make_request(\n\u001b[0m\u001b[1;32m    704\u001b[0m                 \u001b[0mconn\u001b[0m\u001b[0;34m,\u001b[0m\u001b[0;34m\u001b[0m\u001b[0;34m\u001b[0m\u001b[0m\n",
      "\u001b[0;32m/usr/local/lib/python3.8/dist-packages/urllib3/connectionpool.py\u001b[0m in \u001b[0;36m_make_request\u001b[0;34m(self, conn, method, url, timeout, chunked, **httplib_request_kw)\u001b[0m\n\u001b[1;32m    397\u001b[0m             \u001b[0;32melse\u001b[0m\u001b[0;34m:\u001b[0m\u001b[0;34m\u001b[0m\u001b[0;34m\u001b[0m\u001b[0m\n\u001b[0;32m--> 398\u001b[0;31m                 \u001b[0mconn\u001b[0m\u001b[0;34m.\u001b[0m\u001b[0mrequest\u001b[0m\u001b[0;34m(\u001b[0m\u001b[0mmethod\u001b[0m\u001b[0;34m,\u001b[0m \u001b[0murl\u001b[0m\u001b[0;34m,\u001b[0m \u001b[0;34m**\u001b[0m\u001b[0mhttplib_request_kw\u001b[0m\u001b[0;34m)\u001b[0m\u001b[0;34m\u001b[0m\u001b[0;34m\u001b[0m\u001b[0m\n\u001b[0m\u001b[1;32m    399\u001b[0m \u001b[0;34m\u001b[0m\u001b[0m\n",
      "\u001b[0;32m/usr/local/lib/python3.8/dist-packages/urllib3/connection.py\u001b[0m in \u001b[0;36mrequest\u001b[0;34m(self, method, url, body, headers)\u001b[0m\n\u001b[1;32m    238\u001b[0m             \u001b[0mheaders\u001b[0m\u001b[0;34m[\u001b[0m\u001b[0;34m\"User-Agent\"\u001b[0m\u001b[0;34m]\u001b[0m \u001b[0;34m=\u001b[0m \u001b[0m_get_default_user_agent\u001b[0m\u001b[0;34m(\u001b[0m\u001b[0;34m)\u001b[0m\u001b[0;34m\u001b[0m\u001b[0;34m\u001b[0m\u001b[0m\n\u001b[0;32m--> 239\u001b[0;31m         \u001b[0msuper\u001b[0m\u001b[0;34m(\u001b[0m\u001b[0mHTTPConnection\u001b[0m\u001b[0;34m,\u001b[0m \u001b[0mself\u001b[0m\u001b[0;34m)\u001b[0m\u001b[0;34m.\u001b[0m\u001b[0mrequest\u001b[0m\u001b[0;34m(\u001b[0m\u001b[0mmethod\u001b[0m\u001b[0;34m,\u001b[0m \u001b[0murl\u001b[0m\u001b[0;34m,\u001b[0m \u001b[0mbody\u001b[0m\u001b[0;34m=\u001b[0m\u001b[0mbody\u001b[0m\u001b[0;34m,\u001b[0m \u001b[0mheaders\u001b[0m\u001b[0;34m=\u001b[0m\u001b[0mheaders\u001b[0m\u001b[0;34m)\u001b[0m\u001b[0;34m\u001b[0m\u001b[0;34m\u001b[0m\u001b[0m\n\u001b[0m\u001b[1;32m    240\u001b[0m \u001b[0;34m\u001b[0m\u001b[0m\n",
      "\u001b[0;32m/usr/lib/python3.8/http/client.py\u001b[0m in \u001b[0;36mrequest\u001b[0;34m(self, method, url, body, headers, encode_chunked)\u001b[0m\n\u001b[1;32m   1255\u001b[0m         \u001b[0;34m\"\"\"Send a complete request to the server.\"\"\"\u001b[0m\u001b[0;34m\u001b[0m\u001b[0;34m\u001b[0m\u001b[0m\n\u001b[0;32m-> 1256\u001b[0;31m         \u001b[0mself\u001b[0m\u001b[0;34m.\u001b[0m\u001b[0m_send_request\u001b[0m\u001b[0;34m(\u001b[0m\u001b[0mmethod\u001b[0m\u001b[0;34m,\u001b[0m \u001b[0murl\u001b[0m\u001b[0;34m,\u001b[0m \u001b[0mbody\u001b[0m\u001b[0;34m,\u001b[0m \u001b[0mheaders\u001b[0m\u001b[0;34m,\u001b[0m \u001b[0mencode_chunked\u001b[0m\u001b[0;34m)\u001b[0m\u001b[0;34m\u001b[0m\u001b[0;34m\u001b[0m\u001b[0m\n\u001b[0m\u001b[1;32m   1257\u001b[0m \u001b[0;34m\u001b[0m\u001b[0m\n",
      "\u001b[0;32m/usr/lib/python3.8/http/client.py\u001b[0m in \u001b[0;36m_send_request\u001b[0;34m(self, method, url, body, headers, encode_chunked)\u001b[0m\n\u001b[1;32m   1301\u001b[0m             \u001b[0mbody\u001b[0m \u001b[0;34m=\u001b[0m \u001b[0m_encode\u001b[0m\u001b[0;34m(\u001b[0m\u001b[0mbody\u001b[0m\u001b[0;34m,\u001b[0m \u001b[0;34m'body'\u001b[0m\u001b[0;34m)\u001b[0m\u001b[0;34m\u001b[0m\u001b[0;34m\u001b[0m\u001b[0m\n\u001b[0;32m-> 1302\u001b[0;31m         \u001b[0mself\u001b[0m\u001b[0;34m.\u001b[0m\u001b[0mendheaders\u001b[0m\u001b[0;34m(\u001b[0m\u001b[0mbody\u001b[0m\u001b[0;34m,\u001b[0m \u001b[0mencode_chunked\u001b[0m\u001b[0;34m=\u001b[0m\u001b[0mencode_chunked\u001b[0m\u001b[0;34m)\u001b[0m\u001b[0;34m\u001b[0m\u001b[0;34m\u001b[0m\u001b[0m\n\u001b[0m\u001b[1;32m   1303\u001b[0m \u001b[0;34m\u001b[0m\u001b[0m\n",
      "\u001b[0;32m/usr/lib/python3.8/http/client.py\u001b[0m in \u001b[0;36mendheaders\u001b[0;34m(self, message_body, encode_chunked)\u001b[0m\n\u001b[1;32m   1250\u001b[0m             \u001b[0;32mraise\u001b[0m \u001b[0mCannotSendHeader\u001b[0m\u001b[0;34m(\u001b[0m\u001b[0;34m)\u001b[0m\u001b[0;34m\u001b[0m\u001b[0;34m\u001b[0m\u001b[0m\n\u001b[0;32m-> 1251\u001b[0;31m         \u001b[0mself\u001b[0m\u001b[0;34m.\u001b[0m\u001b[0m_send_output\u001b[0m\u001b[0;34m(\u001b[0m\u001b[0mmessage_body\u001b[0m\u001b[0;34m,\u001b[0m \u001b[0mencode_chunked\u001b[0m\u001b[0;34m=\u001b[0m\u001b[0mencode_chunked\u001b[0m\u001b[0;34m)\u001b[0m\u001b[0;34m\u001b[0m\u001b[0;34m\u001b[0m\u001b[0m\n\u001b[0m\u001b[1;32m   1252\u001b[0m \u001b[0;34m\u001b[0m\u001b[0m\n",
      "\u001b[0;32m/usr/lib/python3.8/http/client.py\u001b[0m in \u001b[0;36m_send_output\u001b[0;34m(self, message_body, encode_chunked)\u001b[0m\n\u001b[1;32m   1010\u001b[0m         \u001b[0;32mdel\u001b[0m \u001b[0mself\u001b[0m\u001b[0;34m.\u001b[0m\u001b[0m_buffer\u001b[0m\u001b[0;34m[\u001b[0m\u001b[0;34m:\u001b[0m\u001b[0;34m]\u001b[0m\u001b[0;34m\u001b[0m\u001b[0;34m\u001b[0m\u001b[0m\n\u001b[0;32m-> 1011\u001b[0;31m         \u001b[0mself\u001b[0m\u001b[0;34m.\u001b[0m\u001b[0msend\u001b[0m\u001b[0;34m(\u001b[0m\u001b[0mmsg\u001b[0m\u001b[0;34m)\u001b[0m\u001b[0;34m\u001b[0m\u001b[0;34m\u001b[0m\u001b[0m\n\u001b[0m\u001b[1;32m   1012\u001b[0m \u001b[0;34m\u001b[0m\u001b[0m\n",
      "\u001b[0;32m/usr/lib/python3.8/http/client.py\u001b[0m in \u001b[0;36msend\u001b[0;34m(self, data)\u001b[0m\n\u001b[1;32m    950\u001b[0m             \u001b[0;32mif\u001b[0m \u001b[0mself\u001b[0m\u001b[0;34m.\u001b[0m\u001b[0mauto_open\u001b[0m\u001b[0;34m:\u001b[0m\u001b[0;34m\u001b[0m\u001b[0;34m\u001b[0m\u001b[0m\n\u001b[0;32m--> 951\u001b[0;31m                 \u001b[0mself\u001b[0m\u001b[0;34m.\u001b[0m\u001b[0mconnect\u001b[0m\u001b[0;34m(\u001b[0m\u001b[0;34m)\u001b[0m\u001b[0;34m\u001b[0m\u001b[0;34m\u001b[0m\u001b[0m\n\u001b[0m\u001b[1;32m    952\u001b[0m             \u001b[0;32melse\u001b[0m\u001b[0;34m:\u001b[0m\u001b[0;34m\u001b[0m\u001b[0;34m\u001b[0m\u001b[0m\n",
      "\u001b[0;32m/usr/local/lib/python3.8/dist-packages/urllib3/connection.py\u001b[0m in \u001b[0;36mconnect\u001b[0;34m(self)\u001b[0m\n\u001b[1;32m    204\u001b[0m     \u001b[0;32mdef\u001b[0m \u001b[0mconnect\u001b[0m\u001b[0;34m(\u001b[0m\u001b[0mself\u001b[0m\u001b[0;34m)\u001b[0m\u001b[0;34m:\u001b[0m\u001b[0;34m\u001b[0m\u001b[0;34m\u001b[0m\u001b[0m\n\u001b[0;32m--> 205\u001b[0;31m         \u001b[0mconn\u001b[0m \u001b[0;34m=\u001b[0m \u001b[0mself\u001b[0m\u001b[0;34m.\u001b[0m\u001b[0m_new_conn\u001b[0m\u001b[0;34m(\u001b[0m\u001b[0;34m)\u001b[0m\u001b[0;34m\u001b[0m\u001b[0;34m\u001b[0m\u001b[0m\n\u001b[0m\u001b[1;32m    206\u001b[0m         \u001b[0mself\u001b[0m\u001b[0;34m.\u001b[0m\u001b[0m_prepare_conn\u001b[0m\u001b[0;34m(\u001b[0m\u001b[0mconn\u001b[0m\u001b[0;34m)\u001b[0m\u001b[0;34m\u001b[0m\u001b[0;34m\u001b[0m\u001b[0m\n",
      "\u001b[0;32m/usr/local/lib/python3.8/dist-packages/urllib3/connection.py\u001b[0m in \u001b[0;36m_new_conn\u001b[0;34m(self)\u001b[0m\n\u001b[1;32m    185\u001b[0m         \u001b[0;32mexcept\u001b[0m \u001b[0mSocketError\u001b[0m \u001b[0;32mas\u001b[0m \u001b[0me\u001b[0m\u001b[0;34m:\u001b[0m\u001b[0;34m\u001b[0m\u001b[0;34m\u001b[0m\u001b[0m\n\u001b[0;32m--> 186\u001b[0;31m             raise NewConnectionError(\n\u001b[0m\u001b[1;32m    187\u001b[0m                 \u001b[0mself\u001b[0m\u001b[0;34m,\u001b[0m \u001b[0;34m\"Failed to establish a new connection: %s\"\u001b[0m \u001b[0;34m%\u001b[0m \u001b[0me\u001b[0m\u001b[0;34m\u001b[0m\u001b[0;34m\u001b[0m\u001b[0m\n",
      "\u001b[0;31mNewConnectionError\u001b[0m: <urllib3.connection.HTTPConnection object at 0x7fccd613b940>: Failed to establish a new connection: [Errno 111] Connection refused",
      "\nDuring handling of the above exception, another exception occurred:\n",
      "\u001b[0;31mMaxRetryError\u001b[0m                             Traceback (most recent call last)",
      "\u001b[0;32m/usr/local/lib/python3.8/dist-packages/requests/adapters.py\u001b[0m in \u001b[0;36msend\u001b[0;34m(self, request, stream, timeout, verify, cert, proxies)\u001b[0m\n\u001b[1;32m    439\u001b[0m             \u001b[0;32mif\u001b[0m \u001b[0;32mnot\u001b[0m \u001b[0mchunked\u001b[0m\u001b[0;34m:\u001b[0m\u001b[0;34m\u001b[0m\u001b[0;34m\u001b[0m\u001b[0m\n\u001b[0;32m--> 440\u001b[0;31m                 resp = conn.urlopen(\n\u001b[0m\u001b[1;32m    441\u001b[0m                     \u001b[0mmethod\u001b[0m\u001b[0;34m=\u001b[0m\u001b[0mrequest\u001b[0m\u001b[0;34m.\u001b[0m\u001b[0mmethod\u001b[0m\u001b[0;34m,\u001b[0m\u001b[0;34m\u001b[0m\u001b[0;34m\u001b[0m\u001b[0m\n",
      "\u001b[0;32m/usr/local/lib/python3.8/dist-packages/urllib3/connectionpool.py\u001b[0m in \u001b[0;36murlopen\u001b[0;34m(self, method, url, body, headers, retries, redirect, assert_same_host, timeout, pool_timeout, release_conn, chunked, body_pos, **response_kw)\u001b[0m\n\u001b[1;32m    784\u001b[0m \u001b[0;34m\u001b[0m\u001b[0m\n\u001b[0;32m--> 785\u001b[0;31m             retries = retries.increment(\n\u001b[0m\u001b[1;32m    786\u001b[0m                 \u001b[0mmethod\u001b[0m\u001b[0;34m,\u001b[0m \u001b[0murl\u001b[0m\u001b[0;34m,\u001b[0m \u001b[0merror\u001b[0m\u001b[0;34m=\u001b[0m\u001b[0me\u001b[0m\u001b[0;34m,\u001b[0m \u001b[0m_pool\u001b[0m\u001b[0;34m=\u001b[0m\u001b[0mself\u001b[0m\u001b[0;34m,\u001b[0m \u001b[0m_stacktrace\u001b[0m\u001b[0;34m=\u001b[0m\u001b[0msys\u001b[0m\u001b[0;34m.\u001b[0m\u001b[0mexc_info\u001b[0m\u001b[0;34m(\u001b[0m\u001b[0;34m)\u001b[0m\u001b[0;34m[\u001b[0m\u001b[0;36m2\u001b[0m\u001b[0;34m]\u001b[0m\u001b[0;34m\u001b[0m\u001b[0;34m\u001b[0m\u001b[0m\n",
      "\u001b[0;32m/usr/local/lib/python3.8/dist-packages/urllib3/util/retry.py\u001b[0m in \u001b[0;36mincrement\u001b[0;34m(self, method, url, response, error, _pool, _stacktrace)\u001b[0m\n\u001b[1;32m    591\u001b[0m         \u001b[0;32mif\u001b[0m \u001b[0mnew_retry\u001b[0m\u001b[0;34m.\u001b[0m\u001b[0mis_exhausted\u001b[0m\u001b[0;34m(\u001b[0m\u001b[0;34m)\u001b[0m\u001b[0;34m:\u001b[0m\u001b[0;34m\u001b[0m\u001b[0;34m\u001b[0m\u001b[0m\n\u001b[0;32m--> 592\u001b[0;31m             \u001b[0;32mraise\u001b[0m \u001b[0mMaxRetryError\u001b[0m\u001b[0;34m(\u001b[0m\u001b[0m_pool\u001b[0m\u001b[0;34m,\u001b[0m \u001b[0murl\u001b[0m\u001b[0;34m,\u001b[0m \u001b[0merror\u001b[0m \u001b[0;32mor\u001b[0m \u001b[0mResponseError\u001b[0m\u001b[0;34m(\u001b[0m\u001b[0mcause\u001b[0m\u001b[0;34m)\u001b[0m\u001b[0;34m)\u001b[0m\u001b[0;34m\u001b[0m\u001b[0;34m\u001b[0m\u001b[0m\n\u001b[0m\u001b[1;32m    593\u001b[0m \u001b[0;34m\u001b[0m\u001b[0m\n",
      "\u001b[0;31mMaxRetryError\u001b[0m: HTTPConnectionPool(host='localhost', port=9000): Max retries exceeded with url: /cosmos_json_to_mentions (Caused by NewConnectionError('<urllib3.connection.HTTPConnection object at 0x7fccd613b940>: Failed to establish a new connection: [Errno 111] Connection refused'))",
      "\nDuring handling of the above exception, another exception occurred:\n",
      "\u001b[0;31mConnectionError\u001b[0m                           Traceback (most recent call last)",
      "\u001b[0;32m<ipython-input-52-b00a55be6bf0>\u001b[0m in \u001b[0;36m<module>\u001b[0;34m\u001b[0m\n\u001b[1;32m      3\u001b[0m \u001b[0mpaper_path\u001b[0m \u001b[0;34m=\u001b[0m \u001b[0mget_paper_by_doi\u001b[0m\u001b[0;34m(\u001b[0m\u001b[0;34m\"10.1016/j.chaos.2021.110689\"\u001b[0m\u001b[0;34m)\u001b[0m\u001b[0;34m\u001b[0m\u001b[0;34m\u001b[0m\u001b[0m\n\u001b[1;32m      4\u001b[0m \u001b[0;34m\u001b[0m\u001b[0m\n\u001b[0;32m----> 5\u001b[0;31m \u001b[0mtext_reading_mentions\u001b[0m\u001b[0;34m(\u001b[0m\u001b[0mpaper_path\u001b[0m\u001b[0;34m)\u001b[0m\u001b[0;34m\u001b[0m\u001b[0;34m\u001b[0m\u001b[0m\n\u001b[0m",
      "\u001b[0;32m<ipython-input-39-ec47bb6e76ce>\u001b[0m in \u001b[0;36mtext_reading_mentions\u001b[0;34m(file_path)\u001b[0m\n\u001b[1;32m     26\u001b[0m \u001b[0;32mdef\u001b[0m \u001b[0mtext_reading_mentions\u001b[0m\u001b[0;34m(\u001b[0m\u001b[0mfile_path\u001b[0m\u001b[0;34m:\u001b[0m\u001b[0mstr\u001b[0m\u001b[0;34m)\u001b[0m \u001b[0;34m->\u001b[0m \u001b[0mDataFrame\u001b[0m\u001b[0;34m:\u001b[0m\u001b[0;34m\u001b[0m\u001b[0;34m\u001b[0m\u001b[0m\n\u001b[1;32m     27\u001b[0m     \u001b[0;34m\"\"\" Puts together annotation and creating the data frame\"\"\"\u001b[0m\u001b[0;34m\u001b[0m\u001b[0;34m\u001b[0m\u001b[0m\n\u001b[0;32m---> 28\u001b[0;31m     \u001b[0;32mreturn\u001b[0m \u001b[0mbuild_data_frame\u001b[0m\u001b[0;34m(\u001b[0m\u001b[0;34m**\u001b[0m\u001b[0mannotate_json\u001b[0m\u001b[0;34m(\u001b[0m\u001b[0mfile_path\u001b[0m\u001b[0;34m)\u001b[0m\u001b[0;34m)\u001b[0m\u001b[0;34m\u001b[0m\u001b[0;34m\u001b[0m\u001b[0m\n\u001b[0m",
      "\u001b[0;32m<ipython-input-39-ec47bb6e76ce>\u001b[0m in \u001b[0;36mannotate_json\u001b[0;34m(file_path, endpoint)\u001b[0m\n\u001b[1;32m      2\u001b[0m     \u001b[0;34m\"\"\" Annotates an existing json file on the server with the text reading pipeline \"\"\"\u001b[0m\u001b[0;34m\u001b[0m\u001b[0;34m\u001b[0m\u001b[0m\n\u001b[1;32m      3\u001b[0m \u001b[0;34m\u001b[0m\u001b[0m\n\u001b[0;32m----> 4\u001b[0;31m     \u001b[0mdata\u001b[0m \u001b[0;34m=\u001b[0m \u001b[0mrequests\u001b[0m\u001b[0;34m.\u001b[0m\u001b[0mpost\u001b[0m\u001b[0;34m(\u001b[0m\u001b[0mendpoint\u001b[0m\u001b[0;34m,\u001b[0m \u001b[0mjson\u001b[0m\u001b[0;34m=\u001b[0m\u001b[0;34m{\u001b[0m\u001b[0;34m'pathToCosmosJson'\u001b[0m\u001b[0;34m:\u001b[0m \u001b[0mfile_path\u001b[0m\u001b[0;34m}\u001b[0m\u001b[0;34m)\u001b[0m\u001b[0;34m.\u001b[0m\u001b[0mjson\u001b[0m\u001b[0;34m(\u001b[0m\u001b[0;34m)\u001b[0m\u001b[0;34m\u001b[0m\u001b[0;34m\u001b[0m\u001b[0m\n\u001b[0m\u001b[1;32m      5\u001b[0m \u001b[0;34m\u001b[0m\u001b[0m\n\u001b[1;32m      6\u001b[0m     \u001b[0;32mreturn\u001b[0m \u001b[0mdata\u001b[0m\u001b[0;34m\u001b[0m\u001b[0;34m\u001b[0m\u001b[0m\n",
      "\u001b[0;32m/usr/local/lib/python3.8/dist-packages/requests/api.py\u001b[0m in \u001b[0;36mpost\u001b[0;34m(url, data, json, **kwargs)\u001b[0m\n\u001b[1;32m    115\u001b[0m     \"\"\"\n\u001b[1;32m    116\u001b[0m \u001b[0;34m\u001b[0m\u001b[0m\n\u001b[0;32m--> 117\u001b[0;31m     \u001b[0;32mreturn\u001b[0m \u001b[0mrequest\u001b[0m\u001b[0;34m(\u001b[0m\u001b[0;34m'post'\u001b[0m\u001b[0;34m,\u001b[0m \u001b[0murl\u001b[0m\u001b[0;34m,\u001b[0m \u001b[0mdata\u001b[0m\u001b[0;34m=\u001b[0m\u001b[0mdata\u001b[0m\u001b[0;34m,\u001b[0m \u001b[0mjson\u001b[0m\u001b[0;34m=\u001b[0m\u001b[0mjson\u001b[0m\u001b[0;34m,\u001b[0m \u001b[0;34m**\u001b[0m\u001b[0mkwargs\u001b[0m\u001b[0;34m)\u001b[0m\u001b[0;34m\u001b[0m\u001b[0;34m\u001b[0m\u001b[0m\n\u001b[0m\u001b[1;32m    118\u001b[0m \u001b[0;34m\u001b[0m\u001b[0m\n\u001b[1;32m    119\u001b[0m \u001b[0;34m\u001b[0m\u001b[0m\n",
      "\u001b[0;32m/usr/local/lib/python3.8/dist-packages/requests/api.py\u001b[0m in \u001b[0;36mrequest\u001b[0;34m(method, url, **kwargs)\u001b[0m\n\u001b[1;32m     59\u001b[0m     \u001b[0;31m# cases, and look like a memory leak in others.\u001b[0m\u001b[0;34m\u001b[0m\u001b[0;34m\u001b[0m\u001b[0;34m\u001b[0m\u001b[0m\n\u001b[1;32m     60\u001b[0m     \u001b[0;32mwith\u001b[0m \u001b[0msessions\u001b[0m\u001b[0;34m.\u001b[0m\u001b[0mSession\u001b[0m\u001b[0;34m(\u001b[0m\u001b[0;34m)\u001b[0m \u001b[0;32mas\u001b[0m \u001b[0msession\u001b[0m\u001b[0;34m:\u001b[0m\u001b[0;34m\u001b[0m\u001b[0;34m\u001b[0m\u001b[0m\n\u001b[0;32m---> 61\u001b[0;31m         \u001b[0;32mreturn\u001b[0m \u001b[0msession\u001b[0m\u001b[0;34m.\u001b[0m\u001b[0mrequest\u001b[0m\u001b[0;34m(\u001b[0m\u001b[0mmethod\u001b[0m\u001b[0;34m=\u001b[0m\u001b[0mmethod\u001b[0m\u001b[0;34m,\u001b[0m \u001b[0murl\u001b[0m\u001b[0;34m=\u001b[0m\u001b[0murl\u001b[0m\u001b[0;34m,\u001b[0m \u001b[0;34m**\u001b[0m\u001b[0mkwargs\u001b[0m\u001b[0;34m)\u001b[0m\u001b[0;34m\u001b[0m\u001b[0;34m\u001b[0m\u001b[0m\n\u001b[0m\u001b[1;32m     62\u001b[0m \u001b[0;34m\u001b[0m\u001b[0m\n\u001b[1;32m     63\u001b[0m \u001b[0;34m\u001b[0m\u001b[0m\n",
      "\u001b[0;32m/usr/local/lib/python3.8/dist-packages/requests/sessions.py\u001b[0m in \u001b[0;36mrequest\u001b[0;34m(self, method, url, params, data, headers, cookies, files, auth, timeout, allow_redirects, proxies, hooks, stream, verify, cert, json)\u001b[0m\n\u001b[1;32m    527\u001b[0m         }\n\u001b[1;32m    528\u001b[0m         \u001b[0msend_kwargs\u001b[0m\u001b[0;34m.\u001b[0m\u001b[0mupdate\u001b[0m\u001b[0;34m(\u001b[0m\u001b[0msettings\u001b[0m\u001b[0;34m)\u001b[0m\u001b[0;34m\u001b[0m\u001b[0;34m\u001b[0m\u001b[0m\n\u001b[0;32m--> 529\u001b[0;31m         \u001b[0mresp\u001b[0m \u001b[0;34m=\u001b[0m \u001b[0mself\u001b[0m\u001b[0;34m.\u001b[0m\u001b[0msend\u001b[0m\u001b[0;34m(\u001b[0m\u001b[0mprep\u001b[0m\u001b[0;34m,\u001b[0m \u001b[0;34m**\u001b[0m\u001b[0msend_kwargs\u001b[0m\u001b[0;34m)\u001b[0m\u001b[0;34m\u001b[0m\u001b[0;34m\u001b[0m\u001b[0m\n\u001b[0m\u001b[1;32m    530\u001b[0m \u001b[0;34m\u001b[0m\u001b[0m\n\u001b[1;32m    531\u001b[0m         \u001b[0;32mreturn\u001b[0m \u001b[0mresp\u001b[0m\u001b[0;34m\u001b[0m\u001b[0;34m\u001b[0m\u001b[0m\n",
      "\u001b[0;32m/usr/local/lib/python3.8/dist-packages/requests/sessions.py\u001b[0m in \u001b[0;36msend\u001b[0;34m(self, request, **kwargs)\u001b[0m\n\u001b[1;32m    643\u001b[0m \u001b[0;34m\u001b[0m\u001b[0m\n\u001b[1;32m    644\u001b[0m         \u001b[0;31m# Send the request\u001b[0m\u001b[0;34m\u001b[0m\u001b[0;34m\u001b[0m\u001b[0;34m\u001b[0m\u001b[0m\n\u001b[0;32m--> 645\u001b[0;31m         \u001b[0mr\u001b[0m \u001b[0;34m=\u001b[0m \u001b[0madapter\u001b[0m\u001b[0;34m.\u001b[0m\u001b[0msend\u001b[0m\u001b[0;34m(\u001b[0m\u001b[0mrequest\u001b[0m\u001b[0;34m,\u001b[0m \u001b[0;34m**\u001b[0m\u001b[0mkwargs\u001b[0m\u001b[0;34m)\u001b[0m\u001b[0;34m\u001b[0m\u001b[0;34m\u001b[0m\u001b[0m\n\u001b[0m\u001b[1;32m    646\u001b[0m \u001b[0;34m\u001b[0m\u001b[0m\n\u001b[1;32m    647\u001b[0m         \u001b[0;31m# Total elapsed time of the request (approximately)\u001b[0m\u001b[0;34m\u001b[0m\u001b[0;34m\u001b[0m\u001b[0;34m\u001b[0m\u001b[0m\n",
      "\u001b[0;32m/usr/local/lib/python3.8/dist-packages/requests/adapters.py\u001b[0m in \u001b[0;36msend\u001b[0;34m(self, request, stream, timeout, verify, cert, proxies)\u001b[0m\n\u001b[1;32m    517\u001b[0m                 \u001b[0;32mraise\u001b[0m \u001b[0mSSLError\u001b[0m\u001b[0;34m(\u001b[0m\u001b[0me\u001b[0m\u001b[0;34m,\u001b[0m \u001b[0mrequest\u001b[0m\u001b[0;34m=\u001b[0m\u001b[0mrequest\u001b[0m\u001b[0;34m)\u001b[0m\u001b[0;34m\u001b[0m\u001b[0;34m\u001b[0m\u001b[0m\n\u001b[1;32m    518\u001b[0m \u001b[0;34m\u001b[0m\u001b[0m\n\u001b[0;32m--> 519\u001b[0;31m             \u001b[0;32mraise\u001b[0m \u001b[0mConnectionError\u001b[0m\u001b[0;34m(\u001b[0m\u001b[0me\u001b[0m\u001b[0;34m,\u001b[0m \u001b[0mrequest\u001b[0m\u001b[0;34m=\u001b[0m\u001b[0mrequest\u001b[0m\u001b[0;34m)\u001b[0m\u001b[0;34m\u001b[0m\u001b[0;34m\u001b[0m\u001b[0m\n\u001b[0m\u001b[1;32m    520\u001b[0m \u001b[0;34m\u001b[0m\u001b[0m\n\u001b[1;32m    521\u001b[0m         \u001b[0;32mexcept\u001b[0m \u001b[0mClosedPoolError\u001b[0m \u001b[0;32mas\u001b[0m \u001b[0me\u001b[0m\u001b[0;34m:\u001b[0m\u001b[0;34m\u001b[0m\u001b[0;34m\u001b[0m\u001b[0m\n",
      "\u001b[0;31mConnectionError\u001b[0m: HTTPConnectionPool(host='localhost', port=9000): Max retries exceeded with url: /cosmos_json_to_mentions (Caused by NewConnectionError('<urllib3.connection.HTTPConnection object at 0x7fccd613b940>: Failed to establish a new connection: [Errno 111] Connection refused'))"
     ]
    }
   ],
   "source": [
    "pd.set_option('display.max_colwidth', None)\n",
    "\n",
    "paper_path = get_paper_by_doi(\"10.1016/j.chaos.2021.110689\")\n",
    "\n",
    "text_reading_mentions(paper_path)"
   ]
  },
  {
   "cell_type": "markdown",
   "metadata": {},
   "source": [
    "## Step 8: Analyze Gromet FN model role analysis (SKEMA MORAE Module)\n",
    "\n",
    "[WIP]\n",
    "\n",
    "SKEMA Model Role Analysis and Extraction Module analyzes FN to identify modeling roles. Adapts the Data Science Ontology framework.\n",
    "\n",
    "![code_role](images/dso_goal_example.png)\n",
    "\n",
    "![core_dynamics](images/flat_CHIME_sir_label.png)"
   ]
  },
  {
   "cell_type": "markdown",
   "metadata": {},
   "source": [
    "## Step 9: Analyze alignment of documentation equations to Gromet FN (SKEMA ISA Module)\n",
    "\n",
    "[WIP]\n",
    "\n",
    "SKEMA Eqn2MathML module extracts MathML from documentation images of equations; represent MathML as graph structure; perform search to align structure equation and FN structure using \n",
    "\n",
    "![sgm_adj_marices](images/adjacent_matrices.png)"
   ]
  },
  {
   "cell_type": "markdown",
   "metadata": {},
   "source": [
    "## Step 10: Analyze Gromet FN to identify beta parameter ranges that satisfy constraint (SKEMA FUNMAN)"
   ]
  },
  {
   "cell_type": "markdown",
   "metadata": {
    "ExecuteTime": {
     "end_time": "2022-09-29T20:29:23.510267Z",
     "start_time": "2022-09-29T20:29:23.506484Z"
    }
   },
   "source": [
    "## Step 11: Analyze Gromet representation to find connections between Gromet code and Pandemic Ontology's parameters (\"knobs\") (MIT System)"
   ]
  },
  {
   "cell_type": "code",
   "execution_count": 53,
   "metadata": {
    "ExecuteTime": {
     "end_time": "2022-10-02T20:34:34.113531Z",
     "start_time": "2022-10-02T20:34:34.110320Z"
    }
   },
   "outputs": [
    {
     "data": {
      "text/plain": [
       "[('population', {'s_n': 'grometSubObject'}, 1000.0, 81),\n",
       " ('infectious time', {'infections_days': 'grometSubObject'}, 14.0, 68)]"
      ]
     },
     "execution_count": 53,
     "metadata": {},
     "output_type": "execute_result"
    }
   ],
   "source": [
    "#\n",
    "# Build Code/Ontology connections based on OpenAI GPT-3\n",
    "#\n",
    "# Hard coded version for connection\n",
    "\n",
    "# targets = ['population', 'doubling time', 'recovery time', 'infectious time']\n",
    "\n",
    "\n",
    "code = \"CHIME_SIR_default_model.py\"\n",
    "terms = ['population', 'doubling time', 'recovery time', 'infectious time']\n",
    "targets = ['population', 'infectious time']\n",
    "discoveredParameterConnections = []\n",
    "try:\n",
    "    discoveredParameterConnections = gpt.match_targets(targets, code, terms)\n",
    "except OpenAIError as err:\n",
    "    print(\"OpenAI connection error:\", err)\n",
    "    print(\"Using hard-coded connections\")\n",
    "    discoveredParameterConnections = [(\"infectious time\", {\"name\": \"grometSubObject\"}, 14.0, 67),(\"population\", {\"name\": \"grometSubObject\"}, 1000, 80)]\n",
    "\n",
    "discoveredParameterConnections"
   ]
  },
  {
   "cell_type": "markdown",
   "metadata": {
    "ExecuteTime": {
     "end_time": "2022-09-29T20:31:29.237903Z",
     "start_time": "2022-09-29T20:31:29.234682Z"
    }
   },
   "source": [
    "## Step 12: Show the user the knobs we found in the code. User can adjust them and recompute"
   ]
  },
  {
   "cell_type": "code",
   "execution_count": 54,
   "metadata": {
    "ExecuteTime": {
     "end_time": "2022-10-02T20:34:35.613934Z",
     "start_time": "2022-10-02T20:34:35.544233Z"
    }
   },
   "outputs": [
    {
     "ename": "TypeError",
     "evalue": "'module' object is not callable",
     "output_type": "error",
     "traceback": [
      "\u001b[0;31m---------------------------------------------------------------------------\u001b[0m",
      "\u001b[0;31mTypeError\u001b[0m                                 Traceback (most recent call last)",
      "\u001b[0;32m<ipython-input-54-d2288efde4f9>\u001b[0m in \u001b[0;36m<module>\u001b[0;34m\u001b[0m\n\u001b[1;32m     43\u001b[0m \u001b[0mrows\u001b[0m\u001b[0;34m.\u001b[0m\u001b[0mappend\u001b[0m\u001b[0;34m(\u001b[0m\u001b[0moutput\u001b[0m\u001b[0;34m)\u001b[0m\u001b[0;34m\u001b[0m\u001b[0;34m\u001b[0m\u001b[0m\n\u001b[1;32m     44\u001b[0m \u001b[0;32mfor\u001b[0m \u001b[0ms\u001b[0m \u001b[0;32min\u001b[0m \u001b[0mrows\u001b[0m\u001b[0;34m:\u001b[0m\u001b[0;34m\u001b[0m\u001b[0;34m\u001b[0m\u001b[0m\n\u001b[0;32m---> 45\u001b[0;31m     \u001b[0mdisplay\u001b[0m\u001b[0;34m(\u001b[0m\u001b[0ms\u001b[0m\u001b[0;34m)\u001b[0m\u001b[0;34m\u001b[0m\u001b[0;34m\u001b[0m\u001b[0m\n\u001b[0m",
      "\u001b[0;31mTypeError\u001b[0m: 'module' object is not callable"
     ]
    }
   ],
   "source": [
    "currentKnobs = {}\n",
    "sliders = {}\n",
    "rows = []\n",
    "rows.append(widgets.HTML(\"<b>Recovered parameters</b>\"))\n",
    "for dpc in discoveredParameterConnections:\n",
    "    parameterName, grometObj, curValue, lineOfCode = dpc\n",
    "    ontologyRecord = LOCAL_ONTOLOGY[parameterName]  # [\"parameters\"][parameterName]\n",
    "\n",
    "    currentKnobs[parameterName] = curValue\n",
    "    curSlider = widgets.IntSlider(min=ontologyRecord[\"typical_min\"], \n",
    "                                     max=ontologyRecord[\"typical_max\"], \n",
    "                                     value=curValue)\n",
    "\n",
    "    sliders[parameterName] = curSlider\n",
    "    \n",
    "    row = widgets.HBox([widgets.HTML(value=\"<b>\" + parameterName + \"</b>\"), curSlider])\n",
    "    tinyCell = widgets.VBox([row, widgets.Label(value=ontologyRecord[\"description\"] + \" (observed value: \" + str(curValue) + \")\")])\n",
    "    rows.append(tinyCell)\n",
    "\n",
    "button = widgets.Button(description=\"Alter Model\")\n",
    "output = widgets.Output()\n",
    "\n",
    "newModelModules = []\n",
    "\n",
    "def on_button_clicked(b):\n",
    "    # rebuild the model and get the result\n",
    "    edits = []\n",
    "    for dpc in discoveredParameterConnections:\n",
    "        parameterName, grometObj, curValue, lineOfCode = dpc\n",
    "        sliderValue = sliders[parameterName].value\n",
    "        edits.append((lineOfCode, sliderValue))\n",
    "\n",
    "    newModelModule = cloneAndMutateModel(loadedModelModule, edits)\n",
    "    with output:\n",
    "        output.clear_output()\n",
    "        newModelModules.clear()\n",
    "        newModelModules.append(newModelModule)\n",
    "        display(visualizeChimeTypeModelOutputs(newModelModule))\n",
    "            \n",
    "button.on_click(on_button_clicked)\n",
    "\n",
    "rows.append(button)\n",
    "rows.append(output)\n",
    "for s in rows:\n",
    "    display(s)"
   ]
  },
  {
   "cell_type": "markdown",
   "metadata": {},
   "source": [
    "## Step 13: Update beta analysis to show difference based on model reparameterization (SKEMA FUNMAN)\n",
    "\n",
    "Generated updated BiLayer"
   ]
  },
  {
   "cell_type": "markdown",
   "metadata": {},
   "source": [
    "## Step 14: When the user obtains an altered model she likes, she can choose to store it in XDD, along with metadata about how it was created\n",
    "\n",
    "xDD has been extended to include rudimentary registration, recall, and searching of JSON objects. This registration is backed by a shared metadata schema, which serves as a sort of a data contract -- as long as the registered objects match the agreed upon schema, they will be indexed and queryable.\n",
    "\n",
    "A primary benefit of xDD being the datastore is the potential benefit for synthesis and data integration within one system. The vision is to be able to bring back document, parameter, table, and structured datasets relevant to a query in one shot, rather than having to access multiple endpoints across the ecosystem.\n",
    "\n",
    "A secondary benefit is having a central place to assign stable object identities that can be used throughout the ASKEM ecosystem, with one place for recalling the object.\n",
    "\n",
    "The current status is that it is a viable proof of concept, with initial indexing on a handful of critical terms.\n",
    "\n",
    "Short term improvement targets are updates to the recall API (more search options, pagination) and schema adherence checking.\n",
    "\n",
    "Longer term development plans include a versioning system to track and return updates and annotations over time, while returning the latest version of an object by default."
   ]
  },
  {
   "cell_type": "code",
   "execution_count": null,
   "metadata": {
    "ExecuteTime": {
     "end_time": "2022-10-02T20:34:41.512130Z",
     "start_time": "2022-10-02T20:34:41.206182Z"
    }
   },
   "outputs": [],
   "source": [
    "if len(newModelModules) > 0:\n",
    "    print(\"XDD ID: \", storeAlteredModelInXDD(newModelModules[-1]))"
   ]
  }
 ],
 "metadata": {
  "kernelspec": {
   "display_name": "Python 3",
   "language": "python",
   "name": "python3"
  },
  "language_info": {
   "codemirror_mode": {
    "name": "ipython",
    "version": 3
   },
   "file_extension": ".py",
   "mimetype": "text/x-python",
   "name": "python",
   "nbconvert_exporter": "python",
   "pygments_lexer": "ipython3",
   "version": "3.8.10"
  },
  "varInspector": {
   "cols": {
    "lenName": 16,
    "lenType": 16,
    "lenVar": 40
   },
   "kernels_config": {
    "python": {
     "delete_cmd_postfix": "",
     "delete_cmd_prefix": "del ",
     "library": "var_list.py",
     "varRefreshCmd": "print(var_dic_list())"
    },
    "r": {
     "delete_cmd_postfix": ") ",
     "delete_cmd_prefix": "rm(",
     "library": "var_list.r",
     "varRefreshCmd": "cat(var_dic_list()) "
    }
   },
   "types_to_exclude": [
    "module",
    "function",
    "builtin_function_or_method",
    "instance",
    "_Feature"
   ],
   "window_display": false
  }
 },
 "nbformat": 4,
 "nbformat_minor": 5
}

{
 "cells": [
  {
   "cell_type": "markdown",
   "metadata": {
    "ExecuteTime": {
     "end_time": "2022-09-29T20:21:52.240018Z",
     "start_time": "2022-09-29T20:21:52.237482Z"
    }
   },
   "source": [
    "# Package Load"
   ]
  },
  {
   "cell_type": "code",
   "execution_count": 31,
   "metadata": {
    "ExecuteTime": {
     "end_time": "2022-10-02T20:34:01.110612Z",
     "start_time": "2022-10-02T20:33:59.523380Z"
    }
   },
   "outputs": [],
   "source": [
    "import ipywidgets as widgets\n",
    "import shutil\n",
    "from ipywidgets import interact\n",
    "from ipywidgets import interactive\n",
    "import json\n",
    "import gpt3 as gpt\n",
    "from openai import OpenAIError\n",
    "\n",
    "\n",
    "import gromet as gromet\n",
    "import requests\n",
    "from datetime import datetime\n",
    "import importlib\n",
    "import matplotlib.pyplot as plt\n",
    "import plotly.express as px\n",
    "plt.style.use(\"fivethirtyeight\")\n",
    "import pandas as pd\n",
    "import sys\n",
    "import uuid\n",
    "import os\n",
    "import requests\n"
   ]
  },
  {
   "cell_type": "markdown",
   "metadata": {
    "ExecuteTime": {
     "end_time": "2022-09-29T20:22:37.812137Z",
     "start_time": "2022-09-29T20:22:37.809670Z"
    },
    "code_folding": []
   },
   "source": [
    "# Demo Setup Parameters"
   ]
  },
  {
   "cell_type": "code",
   "execution_count": 32,
   "metadata": {
    "ExecuteTime": {
     "end_time": "2022-10-02T20:34:04.520143Z",
     "start_time": "2022-10-02T20:34:04.515845Z"
    }
   },
   "outputs": [],
   "source": [
    "XDD_GET_URL = \"https://xdddev.chtc.io/askem/object/\"\n",
    "XDD_CREATE_URL = \"https://xdddev.chtc.io/askem/create\"\n",
    "MIT_XDD_KEY = \"81622ba9-b82d-4128-8eb3-bec123d03979\"\n",
    "\n",
    "\n",
    "#MODEL_BASE = \"src.model\"\n",
    "DYNAMIC_MODEL_DIR = \"dynmodels\"\n",
    "if not os.path.exists(DYNAMIC_MODEL_DIR):\n",
    "    os.mkdir(DYNAMIC_MODEL_DIR)\n",
    "DYNAMIC_MODEL_BASE = DYNAMIC_MODEL_DIR.replace(\"/\", \".\")\n",
    "\n",
    "#originalModelModuleName = MODEL_BASE + \".\" + \"CHIME_SIR_default_model\"\n",
    "#originalModelFileName = MODEL_BASE.replace(\".\", \"/\") + \"/\" + \"CHIME_SIR_default_model\" + \".py\"\n"
   ]
  },
  {
   "cell_type": "markdown",
   "metadata": {},
   "source": [
    "# Demo Functions"
   ]
  },
  {
   "cell_type": "code",
   "execution_count": 33,
   "metadata": {
    "ExecuteTime": {
     "end_time": "2022-10-02T20:34:06.638391Z",
     "start_time": "2022-10-02T20:34:06.634769Z"
    },
    "code_folding": []
   },
   "outputs": [],
   "source": [
    "def storeModelSourceAndLoad(modelSrcTxt, askemMetadata):\n",
    "    newModelFilename = str(uuid.uuid4())\n",
    "    newModelFQFilename = DYNAMIC_MODEL_DIR + \"/\" + newModelFilename + \".py\"\n",
    "    newModelModuleName = DYNAMIC_MODEL_BASE + \".\" + newModelFilename\n",
    "\n",
    "    with open(newModelFQFilename, \"w\") as fout:\n",
    "        for line in modelSrcTxt:\n",
    "            fout.write(line)\n",
    "        fout.close()\n",
    "    \n",
    "    print(\"NEW MODULE NAME\", newModelModuleName)\n",
    "    newModule = importlib.import_module(newModelModuleName)\n",
    "    newModule.__ASKEMMETADATA__ = askemMetadata\n",
    "    return newModule\n",
    "\n",
    "\n",
    "    "
   ]
  },
  {
   "cell_type": "code",
   "execution_count": 34,
   "metadata": {
    "ExecuteTime": {
     "end_time": "2022-10-02T20:34:08.360665Z",
     "start_time": "2022-10-02T20:34:08.353296Z"
    }
   },
   "outputs": [],
   "source": [
    "#\n",
    "# This code will create a clone of the original model (called originalModelModuleName).\n",
    "# It will mutate the new model s.t. if \"constantLineNo\" is >=0, it will replace oldConstant with newConstant\n",
    "# Then it will return a newly-loaded module that reflects these changes, and which the code can invoke\n",
    "#\n",
    "def cloneAndMutateModel(inputModelModule, alterations):\n",
    "    newModelFilename = str(uuid.uuid4())\n",
    "    newModelFQFilename = DYNAMIC_MODEL_DIR + \"/\" + newModelFilename + \".py\"\n",
    "    newModelModuleName = DYNAMIC_MODEL_BASE + \".\" + newModelFilename\n",
    "    \n",
    "    alterationD = {}\n",
    "    for constantLineNo, newConstant in alterations:\n",
    "        alterationD[constantLineNo] = newConstant\n",
    "\n",
    "\n",
    "    with open(inputModelModule.__file__, \"r\") as src:\n",
    "        with open(newModelFQFilename, \"w\") as dst:\n",
    "            for lineno, line in enumerate(src):\n",
    "                if lineno in alterationD:\n",
    "                    newConstant = alterationD[lineno]\n",
    "                    lhs, rhs = line.split(\"=\")\n",
    "                    line = lhs + \" = \" + str(newConstant) + \"\\n\"\n",
    "                dst.write(line)\n",
    "\n",
    "    newModelModule = importlib.import_module(newModelModuleName)\n",
    "\n",
    "    #\n",
    "    # MAKE CHANGES TO METADATA\n",
    "    #\n",
    "    newAskemMetadata = {}\n",
    "    newAskemMetadata[\"ASKEM_ID\"] = uuid.uuid4().hex\n",
    "    newAskemMetadata[\"ASKEM_CLASS\"] = \"Thing\"\n",
    "    newAskemMetadata[\"PROPERTIES\"] = [(\"Name\", \"Altered Model\"),\n",
    "                                    (\"date\", datetime.now().strftime(\"%b %d, %Y %H:%M:%S\")),\n",
    "                                     (\"rawfile\", newModelModule.__file__)]\n",
    "    newAskemMetadata[\"EXTERNAL_URL\"] = \"\"\n",
    "    newAskemMetadata[\"DOMAIN_TAGS\"] = \"\"\n",
    "    newAskemMetadata[\"RAW_DATA\"] = {\"text\": open(newModelModule.__file__).read()}\n",
    "    \n",
    "    newModelModule.__ASKEMMETADATA__ = newAskemMetadata\n",
    "    return newModelModule\n"
   ]
  },
  {
   "cell_type": "code",
   "execution_count": 35,
   "metadata": {
    "ExecuteTime": {
     "end_time": "2022-10-02T20:34:13.948100Z",
     "start_time": "2022-10-02T20:34:13.942704Z"
    }
   },
   "outputs": [],
   "source": [
    "def visualizeChimeTypeModelOutputs(moduleToInvoke):\n",
    "    modelMetadata = moduleToInvoke.__ASKEMMETADATA__\n",
    "    askemId = modelMetadata[\"ASKEM_ID\"]\n",
    "    askemProperties = modelMetadata[\"PROPERTIES\"]\n",
    "    pDict = {}\n",
    "    for k, v in askemProperties:\n",
    "        pDict[k] = v\n",
    "    \n",
    "    d_a, s_a, i_a, r_a, e_a = moduleToInvoke.main()\n",
    "    modelResults = {\"susceptible\": s_a,\n",
    "             \"infected\": i_a,\n",
    "             \"recovered\": r_a,\n",
    "             \"day\": d_a,\n",
    "             \"ever_infected\": e_a}\n",
    "    df = pd.DataFrame(modelResults)\n",
    "    df['day'] = df.index\n",
    "\n",
    "    fig = px.line(df, \n",
    "                  x=\"day\", \n",
    "                  y=[\"susceptible\", \"infected\", \"recovered\"], \n",
    "                  color_discrete_sequence=[\"black\", \"red\", \"green\"],\n",
    "                  title=\"Model '\" + pDict[\"Name\"] + \"' (ASKEM_ID:\" + askemId + \", date:\" + pDict[\"date\"] + \")\")\n",
    "    fig.update_layout(yaxis_title=\"Population\")\n",
    "    fig.update_layout(xaxis_title=\"Day\")\n",
    "    return fig\n"
   ]
  },
  {
   "cell_type": "code",
   "execution_count": 36,
   "metadata": {
    "ExecuteTime": {
     "end_time": "2022-10-02T20:34:15.477153Z",
     "start_time": "2022-10-02T20:34:15.473166Z"
    }
   },
   "outputs": [],
   "source": [
    "def loadModelSourceFromXDD(xddid):\n",
    "    r = requests.get(XDD_GET_URL + xddid)\n",
    "    if r.status_code == 200:\n",
    "        robj = r.json()\n",
    "        if \"success\" in robj:\n",
    "            successObj = robj[\"success\"]\n",
    "            xddObj = successObj[\"data\"][0]\n",
    "\n",
    "            dataObj = xddObj[\"data\"]\n",
    "            metadataObj = xddObj[\"metadata\"]\n",
    "            return dataObj\n",
    "        else:\n",
    "            raise Exception(\"Field 'success' not found in XDD fetched object\" + robj)\n",
    "    else:\n",
    "        raise Exception(\"XDD GET failed\")\n"
   ]
  },
  {
   "cell_type": "code",
   "execution_count": 37,
   "metadata": {
    "ExecuteTime": {
     "end_time": "2022-10-02T20:34:17.137852Z",
     "start_time": "2022-10-02T20:34:17.134603Z"
    }
   },
   "outputs": [],
   "source": [
    "def computeGrometRepr(lmodule):\n",
    "    cast = gromet.run_python_to_cast(lmodule.__file__)\n",
    "    gromet_object = gromet.run_cast_to_gromet_pipeline(cast)\n",
    "    return gromet_object\n"
   ]
  },
  {
   "cell_type": "code",
   "execution_count": 38,
   "metadata": {
    "ExecuteTime": {
     "end_time": "2022-10-02T20:34:18.224322Z",
     "start_time": "2022-10-02T20:34:18.218256Z"
    }
   },
   "outputs": [],
   "source": [
    "def storeGrometInXDD(grometObj, srcModule):\n",
    "    gromet_collection_dict = grometObj.to_dict()\n",
    "    grometJsonRepr = gromet.dictionary_to_gromet_json(gromet.del_nulls(gromet_collection_dict))\n",
    "    \n",
    "    xddObj = {\n",
    "        \"metadata\": \"Blank Metadata Maybe Obsolete\",\n",
    "        \"data\": {\n",
    "            \"ASKEM_ID\": uuid.uuid4().hex,\n",
    "            \"ASKEM_CLASS\": \"Thing\",\n",
    "            \"PROPERTIES\": [(\"Name\", \"Gromet representation of \" + srcModule.__ASKEMMETADATA__[\"ASKEM_ID\"]),\n",
    "                         (\"date\", datetime.now().strftime(\"%b %d, %Y %H:%M:%S\"))],\n",
    "              \"DOMAIN_TAGS\": [],\n",
    "              \"RAW_DATA\": grometJsonRepr,\n",
    "              \"EXTERNAL_URL\": \"\"   \n",
    "        }\n",
    "    }\n",
    "    r = requests.post(XDD_CREATE_URL,\n",
    "                  headers={\"x-api-key\": MIT_XDD_KEY,\n",
    "                          \"Content-Type\": \"application/json\"},\n",
    "                      data=json.dumps(xddObj))  \n",
    "    if r.status_code == 200:\n",
    "        return r.json()[\"success\"][\"data\"][\"success\"][\"registered_ids\"][0]\n",
    "    else:\n",
    "        raise Exception(\"Cannot PUT Gromet Object\")\n",
    "\n"
   ]
  },
  {
   "cell_type": "code",
   "execution_count": 39,
   "metadata": {
    "ExecuteTime": {
     "end_time": "2022-10-02T20:34:20.089418Z",
     "start_time": "2022-10-02T20:34:20.085172Z"
    }
   },
   "outputs": [],
   "source": [
    "def storeAlteredModelInXDD(curModelModule):\n",
    "    askemObj = curModelModule.__ASKEMMETADATA__\n",
    "    xddObj = {\n",
    "        \"metadata\": \"Blank Metadata Maybe Obsolete\",\n",
    "        \"data\": askemObj\n",
    "    }\n",
    "    r = requests.post(XDD_CREATE_URL,\n",
    "                    headers={\"x-api-key\": MIT_XDD_KEY,\n",
    "                          \"Content-Type\": \"application/json\"},\n",
    "                      data=json.dumps(xddObj))  \n",
    "    if r.status_code == 200:\n",
    "        return r.json()[\"success\"][\"data\"][\"success\"][\"registered_ids\"][0]\n",
    "    else:\n",
    "        raise Exception(\"Cannot PUT altered model\")\n"
   ]
  },
  {
   "cell_type": "markdown",
   "metadata": {
    "ExecuteTime": {
     "end_time": "2022-09-29T20:25:21.317694Z",
     "start_time": "2022-09-29T20:25:21.315178Z"
    }
   },
   "source": [
    "# TA-1 Demo Starts Here!"
   ]
  },
  {
   "cell_type": "markdown",
   "metadata": {},
   "source": [
    "## Step 0: Indicate XDD identifier for input model source"
   ]
  },
  {
   "cell_type": "code",
   "execution_count": 40,
   "metadata": {
    "ExecuteTime": {
     "end_time": "2022-10-02T20:34:22.774005Z",
     "start_time": "2022-10-02T20:34:22.771500Z"
    }
   },
   "outputs": [],
   "source": [
    "modelSourceXDDId = \"761ff74a-b0e1-48bf-b79a-851e3da6b207\"\n"
   ]
  },
  {
   "cell_type": "markdown",
   "metadata": {
    "ExecuteTime": {
     "end_time": "2022-09-29T20:24:49.281645Z",
     "start_time": "2022-09-29T20:24:49.279162Z"
    }
   },
   "source": [
    "## Step 1: Import model source code from file, run it, and visualize results"
   ]
  },
  {
   "cell_type": "code",
   "execution_count": 41,
   "metadata": {
    "ExecuteTime": {
     "end_time": "2022-10-02T20:34:25.192128Z",
     "start_time": "2022-10-02T20:34:23.949370Z"
    }
   },
   "outputs": [
    {
     "name": "stdout",
     "output_type": "stream",
     "text": [
      "NEW MODULE NAME dynmodels.62ae5760-7d8b-f3b4-7941-40b19d6263a6\n"
     ]
    },
    {
     "data": {
      "application/vnd.plotly.v1+json": {
       "config": {
        "plotlyServerURL": "https://plot.ly"
       },
       "data": [
        {
         "hovertemplate": "variable=susceptible<br>day=%{x}<br>value=%{y}<extra></extra>",
         "legendgroup": "susceptible",
         "line": {
          "color": "black",
          "dash": "solid"
         },
         "marker": {
          "symbol": "circle"
         },
         "mode": "lines",
         "name": "susceptible",
         "orientation": "v",
         "showlegend": true,
         "type": "scatter",
         "x": [
          0,
          1,
          2,
          3,
          4,
          5,
          6,
          7,
          8,
          9,
          10,
          11,
          12,
          13,
          14,
          15,
          16,
          17,
          18,
          19,
          20,
          21,
          22,
          23,
          24,
          25,
          26,
          27,
          28,
          29,
          30,
          31,
          32,
          33,
          34,
          35,
          36,
          37,
          38,
          39,
          40,
          41,
          42,
          43,
          44,
          45,
          46,
          47,
          48,
          49,
          50,
          51,
          52,
          53,
          54,
          55,
          56,
          57,
          58,
          59,
          60,
          61,
          62,
          63,
          64,
          65,
          66,
          67,
          68,
          69,
          70,
          71,
          72,
          73,
          74,
          75,
          76,
          77,
          78,
          79,
          80,
          81,
          82,
          83,
          84,
          85,
          86,
          87,
          88,
          89,
          90,
          91,
          92,
          93,
          94,
          95,
          96,
          97,
          98,
          99,
          100,
          101,
          102,
          103,
          104,
          105,
          106,
          107,
          108,
          109,
          110,
          111,
          112,
          113,
          114,
          115,
          116,
          117,
          118,
          119,
          120
         ],
         "xaxis": "x",
         "y": [
          1000,
          999.9321428571428,
          999.8645326493713,
          999.7971687730479,
          999.7300506234902,
          999.6631775949995,
          999.5965490808849,
          999.5301644734906,
          999.4640231642218,
          999.3981245435701,
          999.3324680011398,
          999.2670529256725,
          999.2018787050729,
          999.1369447264339,
          999.072250376061,
          999.0077950394979,
          998.94357810155,
          998.8795989463102,
          998.8158569571812,
          998.7523515169014,
          998.6890820075678,
          998.4948246712163,
          998.2739158835572,
          998.0227148436019,
          997.7370879932414,
          997.4123436783303,
          997.0431585441902,
          996.6234947384288,
          996.1465069263913,
          995.6044380643941,
          994.98850282865,
          994.2887575708506,
          993.4939556744702,
          992.5913872317169,
          991.5667020660701,
          990.4037153103418,
          989.0841950414607,
          987.5876319032012,
          985.8909912567088,
          983.9684492337418,
          981.7911151854429,
          979.3267444848805,
          976.5394475265095,
          973.3894031462343,
          969.8325876372464,
          965.8205341246971,
          961.3001413288479,
          956.2135556909595,
          950.4981563880564,
          944.0866787451113,
          936.9075176389645,
          928.8852581482732,
          919.9414851532111,
          909.9959257408926,
          898.9679767159681,
          886.7786625377906,
          873.3530546936237,
          858.6231599744523,
          842.5312508250748,
          825.0335652696256,
          806.1042478004072,
          0,
          0,
          0,
          0,
          0,
          0,
          0,
          0,
          0,
          0,
          0,
          0,
          0,
          0,
          0,
          0,
          0,
          0,
          0,
          0,
          0,
          0,
          0,
          0,
          0,
          0,
          0,
          0,
          0,
          0,
          0,
          0,
          0,
          0,
          0,
          0,
          0,
          0,
          0,
          0,
          0,
          0,
          0,
          0,
          0,
          0,
          0,
          0,
          0,
          0,
          0,
          0,
          0,
          0,
          0,
          0,
          0,
          0,
          0,
          0
         ],
         "yaxis": "y"
        },
        {
         "hovertemplate": "variable=infected<br>day=%{x}<br>value=%{y}<extra></extra>",
         "legendgroup": "infected",
         "line": {
          "color": "red",
          "dash": "solid"
         },
         "marker": {
          "symbol": "circle"
         },
         "mode": "lines",
         "name": "infected",
         "orientation": "v",
         "showlegend": true,
         "type": "scatter",
         "x": [
          0,
          1,
          2,
          3,
          4,
          5,
          6,
          7,
          8,
          9,
          10,
          11,
          12,
          13,
          14,
          15,
          16,
          17,
          18,
          19,
          20,
          21,
          22,
          23,
          24,
          25,
          26,
          27,
          28,
          29,
          30,
          31,
          32,
          33,
          34,
          35,
          36,
          37,
          38,
          39,
          40,
          41,
          42,
          43,
          44,
          45,
          46,
          47,
          48,
          49,
          50,
          51,
          52,
          53,
          54,
          55,
          56,
          57,
          58,
          59,
          60,
          61,
          62,
          63,
          64,
          65,
          66,
          67,
          68,
          69,
          70,
          71,
          72,
          73,
          74,
          75,
          76,
          77,
          78,
          79,
          80,
          81,
          82,
          83,
          84,
          85,
          86,
          87,
          88,
          89,
          90,
          91,
          92,
          93,
          94,
          95,
          96,
          97,
          98,
          99,
          100,
          101,
          102,
          103,
          104,
          105,
          106,
          107,
          108,
          109,
          110,
          111,
          112,
          113,
          114,
          115,
          116,
          117,
          118,
          119,
          120
         ],
         "xaxis": "x",
         "y": [
          1,
          0.9964285714285714,
          0.9928653098123178,
          0.9893102354350313,
          0.9857633681757313,
          0.9822247275110827,
          0.9786943325178129,
          0.9751722018751359,
          0.9716583538671775,
          0.9681528063854044,
          0.9646555769310546,
          0.9611666826175719,
          0.95768614017304,
          0.9542139659426211,
          0.9507501758909941,
          0.9472947856047951,
          0.9438478102950587,
          0.9404092647996609,
          0.9369791635857604,
          0.9335575207522444,
          0.9301443500321708,
          1.0579628042385234,
          1.2033028201663016,
          1.3685536586810978,
          1.5564266762786525,
          1.7699976571698364,
          2.012754387226468,
          2.288650022471699,
          2.602162832904001,
          2.958362921122347,
          3.36298651964339,
          3.8225184546110667,
          4.344283318519515,
          4.9365458099498465,
          5.608620560600202,
          6.370991561999893,
          7.2354410050238265,
          8.215186928638749,
          9.325028508799997,
          10.581497066852483,
          12.003009896090752,
          13.61002274693225,
          15.425175223379448,
          17.473421373413306,
          19.78213535572879,
          22.3811792000117,
          25.302916338717313,
          28.58215080955442,
          32.25596791177502,
          36.36344784673642,
          40.94521982097335,
          46.04282075302363,
          51.69782083715552,
          57.95067876110572,
          64.83929358880864,
          72.3972296534996,
          80.65160680813091,
          89.62067246957861,
          99.31110501398611,
          109.71514021129352,
          120.8076619511338,
          0,
          0,
          0,
          0,
          0,
          0,
          0,
          0,
          0,
          0,
          0,
          0,
          0,
          0,
          0,
          0,
          0,
          0,
          0,
          0,
          0,
          0,
          0,
          0,
          0,
          0,
          0,
          0,
          0,
          0,
          0,
          0,
          0,
          0,
          0,
          0,
          0,
          0,
          0,
          0,
          0,
          0,
          0,
          0,
          0,
          0,
          0,
          0,
          0,
          0,
          0,
          0,
          0,
          0,
          0,
          0,
          0,
          0,
          0,
          0
         ],
         "yaxis": "y"
        },
        {
         "hovertemplate": "variable=recovered<br>day=%{x}<br>value=%{y}<extra></extra>",
         "legendgroup": "recovered",
         "line": {
          "color": "green",
          "dash": "solid"
         },
         "marker": {
          "symbol": "circle"
         },
         "mode": "lines",
         "name": "recovered",
         "orientation": "v",
         "showlegend": true,
         "type": "scatter",
         "x": [
          0,
          1,
          2,
          3,
          4,
          5,
          6,
          7,
          8,
          9,
          10,
          11,
          12,
          13,
          14,
          15,
          16,
          17,
          18,
          19,
          20,
          21,
          22,
          23,
          24,
          25,
          26,
          27,
          28,
          29,
          30,
          31,
          32,
          33,
          34,
          35,
          36,
          37,
          38,
          39,
          40,
          41,
          42,
          43,
          44,
          45,
          46,
          47,
          48,
          49,
          50,
          51,
          52,
          53,
          54,
          55,
          56,
          57,
          58,
          59,
          60,
          61,
          62,
          63,
          64,
          65,
          66,
          67,
          68,
          69,
          70,
          71,
          72,
          73,
          74,
          75,
          76,
          77,
          78,
          79,
          80,
          81,
          82,
          83,
          84,
          85,
          86,
          87,
          88,
          89,
          90,
          91,
          92,
          93,
          94,
          95,
          96,
          97,
          98,
          99,
          100,
          101,
          102,
          103,
          104,
          105,
          106,
          107,
          108,
          109,
          110,
          111,
          112,
          113,
          114,
          115,
          116,
          117,
          118,
          119,
          120
         ],
         "xaxis": "x",
         "y": [
          1,
          1.0714285714285714,
          1.1426020408163264,
          1.2135209915172065,
          1.2841860083339942,
          1.3545976774894035,
          1.424756586597338,
          1.4946633246343246,
          1.56431848191112,
          1.63372265004449,
          1.7028764219291617,
          1.7717803917099513,
          1.8404351547540636,
          1.9088413076235664,
          1.9769994480480393,
          2.044910174897396,
          2.1125740881548807,
          2.1799917888902423,
          2.247163879233075,
          2.3140909623463433,
          2.380773642400075,
          2.44721252454523,
          2.522781296276553,
          2.608731497717003,
          2.7064853304799383,
          2.817658664499842,
          2.9440870685834017,
          3.087855239099578,
          3.2513302407046996,
          3.4371990144835567,
          3.648510651706581,
          3.8887239745382516,
          4.161761007010472,
          4.4720669583332935,
          4.8246773733297115,
          5.225293127658297,
          5.680363953515432,
          6.19718116815999,
          6.783980234491331,
          7.450053699405615,
          8.205874918466508,
          9.063232768187275,
          10.035377250111008,
          11.137175480352397,
          12.385277007024776,
          13.798286675291118,
          15.396942332434811,
          17.20429349948605,
          19.245875700168504,
          21.54987340815244,
          24.14726254006218,
          27.071921098703132,
          30.36069400963339,
          34.053395498001635,
          38.19272969522348,
          42.824107808709805,
          47.99533849824549,
          53.75616755596912,
          60.15764416093902,
          67.25129451908089,
          75.088090248459,
          0,
          0,
          0,
          0,
          0,
          0,
          0,
          0,
          0,
          0,
          0,
          0,
          0,
          0,
          0,
          0,
          0,
          0,
          0,
          0,
          0,
          0,
          0,
          0,
          0,
          0,
          0,
          0,
          0,
          0,
          0,
          0,
          0,
          0,
          0,
          0,
          0,
          0,
          0,
          0,
          0,
          0,
          0,
          0,
          0,
          0,
          0,
          0,
          0,
          0,
          0,
          0,
          0,
          0,
          0,
          0,
          0,
          0,
          0,
          0
         ],
         "yaxis": "y"
        }
       ],
       "layout": {
        "legend": {
         "title": {
          "text": "variable"
         },
         "tracegroupgap": 0
        },
        "template": {
         "data": {
          "bar": [
           {
            "error_x": {
             "color": "#2a3f5f"
            },
            "error_y": {
             "color": "#2a3f5f"
            },
            "marker": {
             "line": {
              "color": "#E5ECF6",
              "width": 0.5
             },
             "pattern": {
              "fillmode": "overlay",
              "size": 10,
              "solidity": 0.2
             }
            },
            "type": "bar"
           }
          ],
          "barpolar": [
           {
            "marker": {
             "line": {
              "color": "#E5ECF6",
              "width": 0.5
             },
             "pattern": {
              "fillmode": "overlay",
              "size": 10,
              "solidity": 0.2
             }
            },
            "type": "barpolar"
           }
          ],
          "carpet": [
           {
            "aaxis": {
             "endlinecolor": "#2a3f5f",
             "gridcolor": "white",
             "linecolor": "white",
             "minorgridcolor": "white",
             "startlinecolor": "#2a3f5f"
            },
            "baxis": {
             "endlinecolor": "#2a3f5f",
             "gridcolor": "white",
             "linecolor": "white",
             "minorgridcolor": "white",
             "startlinecolor": "#2a3f5f"
            },
            "type": "carpet"
           }
          ],
          "choropleth": [
           {
            "colorbar": {
             "outlinewidth": 0,
             "ticks": ""
            },
            "type": "choropleth"
           }
          ],
          "contour": [
           {
            "colorbar": {
             "outlinewidth": 0,
             "ticks": ""
            },
            "colorscale": [
             [
              0,
              "#0d0887"
             ],
             [
              0.1111111111111111,
              "#46039f"
             ],
             [
              0.2222222222222222,
              "#7201a8"
             ],
             [
              0.3333333333333333,
              "#9c179e"
             ],
             [
              0.4444444444444444,
              "#bd3786"
             ],
             [
              0.5555555555555556,
              "#d8576b"
             ],
             [
              0.6666666666666666,
              "#ed7953"
             ],
             [
              0.7777777777777778,
              "#fb9f3a"
             ],
             [
              0.8888888888888888,
              "#fdca26"
             ],
             [
              1,
              "#f0f921"
             ]
            ],
            "type": "contour"
           }
          ],
          "contourcarpet": [
           {
            "colorbar": {
             "outlinewidth": 0,
             "ticks": ""
            },
            "type": "contourcarpet"
           }
          ],
          "heatmap": [
           {
            "colorbar": {
             "outlinewidth": 0,
             "ticks": ""
            },
            "colorscale": [
             [
              0,
              "#0d0887"
             ],
             [
              0.1111111111111111,
              "#46039f"
             ],
             [
              0.2222222222222222,
              "#7201a8"
             ],
             [
              0.3333333333333333,
              "#9c179e"
             ],
             [
              0.4444444444444444,
              "#bd3786"
             ],
             [
              0.5555555555555556,
              "#d8576b"
             ],
             [
              0.6666666666666666,
              "#ed7953"
             ],
             [
              0.7777777777777778,
              "#fb9f3a"
             ],
             [
              0.8888888888888888,
              "#fdca26"
             ],
             [
              1,
              "#f0f921"
             ]
            ],
            "type": "heatmap"
           }
          ],
          "heatmapgl": [
           {
            "colorbar": {
             "outlinewidth": 0,
             "ticks": ""
            },
            "colorscale": [
             [
              0,
              "#0d0887"
             ],
             [
              0.1111111111111111,
              "#46039f"
             ],
             [
              0.2222222222222222,
              "#7201a8"
             ],
             [
              0.3333333333333333,
              "#9c179e"
             ],
             [
              0.4444444444444444,
              "#bd3786"
             ],
             [
              0.5555555555555556,
              "#d8576b"
             ],
             [
              0.6666666666666666,
              "#ed7953"
             ],
             [
              0.7777777777777778,
              "#fb9f3a"
             ],
             [
              0.8888888888888888,
              "#fdca26"
             ],
             [
              1,
              "#f0f921"
             ]
            ],
            "type": "heatmapgl"
           }
          ],
          "histogram": [
           {
            "marker": {
             "pattern": {
              "fillmode": "overlay",
              "size": 10,
              "solidity": 0.2
             }
            },
            "type": "histogram"
           }
          ],
          "histogram2d": [
           {
            "colorbar": {
             "outlinewidth": 0,
             "ticks": ""
            },
            "colorscale": [
             [
              0,
              "#0d0887"
             ],
             [
              0.1111111111111111,
              "#46039f"
             ],
             [
              0.2222222222222222,
              "#7201a8"
             ],
             [
              0.3333333333333333,
              "#9c179e"
             ],
             [
              0.4444444444444444,
              "#bd3786"
             ],
             [
              0.5555555555555556,
              "#d8576b"
             ],
             [
              0.6666666666666666,
              "#ed7953"
             ],
             [
              0.7777777777777778,
              "#fb9f3a"
             ],
             [
              0.8888888888888888,
              "#fdca26"
             ],
             [
              1,
              "#f0f921"
             ]
            ],
            "type": "histogram2d"
           }
          ],
          "histogram2dcontour": [
           {
            "colorbar": {
             "outlinewidth": 0,
             "ticks": ""
            },
            "colorscale": [
             [
              0,
              "#0d0887"
             ],
             [
              0.1111111111111111,
              "#46039f"
             ],
             [
              0.2222222222222222,
              "#7201a8"
             ],
             [
              0.3333333333333333,
              "#9c179e"
             ],
             [
              0.4444444444444444,
              "#bd3786"
             ],
             [
              0.5555555555555556,
              "#d8576b"
             ],
             [
              0.6666666666666666,
              "#ed7953"
             ],
             [
              0.7777777777777778,
              "#fb9f3a"
             ],
             [
              0.8888888888888888,
              "#fdca26"
             ],
             [
              1,
              "#f0f921"
             ]
            ],
            "type": "histogram2dcontour"
           }
          ],
          "mesh3d": [
           {
            "colorbar": {
             "outlinewidth": 0,
             "ticks": ""
            },
            "type": "mesh3d"
           }
          ],
          "parcoords": [
           {
            "line": {
             "colorbar": {
              "outlinewidth": 0,
              "ticks": ""
             }
            },
            "type": "parcoords"
           }
          ],
          "pie": [
           {
            "automargin": true,
            "type": "pie"
           }
          ],
          "scatter": [
           {
            "fillpattern": {
             "fillmode": "overlay",
             "size": 10,
             "solidity": 0.2
            },
            "type": "scatter"
           }
          ],
          "scatter3d": [
           {
            "line": {
             "colorbar": {
              "outlinewidth": 0,
              "ticks": ""
             }
            },
            "marker": {
             "colorbar": {
              "outlinewidth": 0,
              "ticks": ""
             }
            },
            "type": "scatter3d"
           }
          ],
          "scattercarpet": [
           {
            "marker": {
             "colorbar": {
              "outlinewidth": 0,
              "ticks": ""
             }
            },
            "type": "scattercarpet"
           }
          ],
          "scattergeo": [
           {
            "marker": {
             "colorbar": {
              "outlinewidth": 0,
              "ticks": ""
             }
            },
            "type": "scattergeo"
           }
          ],
          "scattergl": [
           {
            "marker": {
             "colorbar": {
              "outlinewidth": 0,
              "ticks": ""
             }
            },
            "type": "scattergl"
           }
          ],
          "scattermapbox": [
           {
            "marker": {
             "colorbar": {
              "outlinewidth": 0,
              "ticks": ""
             }
            },
            "type": "scattermapbox"
           }
          ],
          "scatterpolar": [
           {
            "marker": {
             "colorbar": {
              "outlinewidth": 0,
              "ticks": ""
             }
            },
            "type": "scatterpolar"
           }
          ],
          "scatterpolargl": [
           {
            "marker": {
             "colorbar": {
              "outlinewidth": 0,
              "ticks": ""
             }
            },
            "type": "scatterpolargl"
           }
          ],
          "scatterternary": [
           {
            "marker": {
             "colorbar": {
              "outlinewidth": 0,
              "ticks": ""
             }
            },
            "type": "scatterternary"
           }
          ],
          "surface": [
           {
            "colorbar": {
             "outlinewidth": 0,
             "ticks": ""
            },
            "colorscale": [
             [
              0,
              "#0d0887"
             ],
             [
              0.1111111111111111,
              "#46039f"
             ],
             [
              0.2222222222222222,
              "#7201a8"
             ],
             [
              0.3333333333333333,
              "#9c179e"
             ],
             [
              0.4444444444444444,
              "#bd3786"
             ],
             [
              0.5555555555555556,
              "#d8576b"
             ],
             [
              0.6666666666666666,
              "#ed7953"
             ],
             [
              0.7777777777777778,
              "#fb9f3a"
             ],
             [
              0.8888888888888888,
              "#fdca26"
             ],
             [
              1,
              "#f0f921"
             ]
            ],
            "type": "surface"
           }
          ],
          "table": [
           {
            "cells": {
             "fill": {
              "color": "#EBF0F8"
             },
             "line": {
              "color": "white"
             }
            },
            "header": {
             "fill": {
              "color": "#C8D4E3"
             },
             "line": {
              "color": "white"
             }
            },
            "type": "table"
           }
          ]
         },
         "layout": {
          "annotationdefaults": {
           "arrowcolor": "#2a3f5f",
           "arrowhead": 0,
           "arrowwidth": 1
          },
          "autotypenumbers": "strict",
          "coloraxis": {
           "colorbar": {
            "outlinewidth": 0,
            "ticks": ""
           }
          },
          "colorscale": {
           "diverging": [
            [
             0,
             "#8e0152"
            ],
            [
             0.1,
             "#c51b7d"
            ],
            [
             0.2,
             "#de77ae"
            ],
            [
             0.3,
             "#f1b6da"
            ],
            [
             0.4,
             "#fde0ef"
            ],
            [
             0.5,
             "#f7f7f7"
            ],
            [
             0.6,
             "#e6f5d0"
            ],
            [
             0.7,
             "#b8e186"
            ],
            [
             0.8,
             "#7fbc41"
            ],
            [
             0.9,
             "#4d9221"
            ],
            [
             1,
             "#276419"
            ]
           ],
           "sequential": [
            [
             0,
             "#0d0887"
            ],
            [
             0.1111111111111111,
             "#46039f"
            ],
            [
             0.2222222222222222,
             "#7201a8"
            ],
            [
             0.3333333333333333,
             "#9c179e"
            ],
            [
             0.4444444444444444,
             "#bd3786"
            ],
            [
             0.5555555555555556,
             "#d8576b"
            ],
            [
             0.6666666666666666,
             "#ed7953"
            ],
            [
             0.7777777777777778,
             "#fb9f3a"
            ],
            [
             0.8888888888888888,
             "#fdca26"
            ],
            [
             1,
             "#f0f921"
            ]
           ],
           "sequentialminus": [
            [
             0,
             "#0d0887"
            ],
            [
             0.1111111111111111,
             "#46039f"
            ],
            [
             0.2222222222222222,
             "#7201a8"
            ],
            [
             0.3333333333333333,
             "#9c179e"
            ],
            [
             0.4444444444444444,
             "#bd3786"
            ],
            [
             0.5555555555555556,
             "#d8576b"
            ],
            [
             0.6666666666666666,
             "#ed7953"
            ],
            [
             0.7777777777777778,
             "#fb9f3a"
            ],
            [
             0.8888888888888888,
             "#fdca26"
            ],
            [
             1,
             "#f0f921"
            ]
           ]
          },
          "colorway": [
           "#636efa",
           "#EF553B",
           "#00cc96",
           "#ab63fa",
           "#FFA15A",
           "#19d3f3",
           "#FF6692",
           "#B6E880",
           "#FF97FF",
           "#FECB52"
          ],
          "font": {
           "color": "#2a3f5f"
          },
          "geo": {
           "bgcolor": "white",
           "lakecolor": "white",
           "landcolor": "#E5ECF6",
           "showlakes": true,
           "showland": true,
           "subunitcolor": "white"
          },
          "hoverlabel": {
           "align": "left"
          },
          "hovermode": "closest",
          "mapbox": {
           "style": "light"
          },
          "paper_bgcolor": "white",
          "plot_bgcolor": "#E5ECF6",
          "polar": {
           "angularaxis": {
            "gridcolor": "white",
            "linecolor": "white",
            "ticks": ""
           },
           "bgcolor": "#E5ECF6",
           "radialaxis": {
            "gridcolor": "white",
            "linecolor": "white",
            "ticks": ""
           }
          },
          "scene": {
           "xaxis": {
            "backgroundcolor": "#E5ECF6",
            "gridcolor": "white",
            "gridwidth": 2,
            "linecolor": "white",
            "showbackground": true,
            "ticks": "",
            "zerolinecolor": "white"
           },
           "yaxis": {
            "backgroundcolor": "#E5ECF6",
            "gridcolor": "white",
            "gridwidth": 2,
            "linecolor": "white",
            "showbackground": true,
            "ticks": "",
            "zerolinecolor": "white"
           },
           "zaxis": {
            "backgroundcolor": "#E5ECF6",
            "gridcolor": "white",
            "gridwidth": 2,
            "linecolor": "white",
            "showbackground": true,
            "ticks": "",
            "zerolinecolor": "white"
           }
          },
          "shapedefaults": {
           "line": {
            "color": "#2a3f5f"
           }
          },
          "ternary": {
           "aaxis": {
            "gridcolor": "white",
            "linecolor": "white",
            "ticks": ""
           },
           "baxis": {
            "gridcolor": "white",
            "linecolor": "white",
            "ticks": ""
           },
           "bgcolor": "#E5ECF6",
           "caxis": {
            "gridcolor": "white",
            "linecolor": "white",
            "ticks": ""
           }
          },
          "title": {
           "x": 0.05
          },
          "xaxis": {
           "automargin": true,
           "gridcolor": "white",
           "linecolor": "white",
           "ticks": "",
           "title": {
            "standoff": 15
           },
           "zerolinecolor": "white",
           "zerolinewidth": 2
          },
          "yaxis": {
           "automargin": true,
           "gridcolor": "white",
           "linecolor": "white",
           "ticks": "",
           "title": {
            "standoff": 15
           },
           "zerolinecolor": "white",
           "zerolinewidth": 2
          }
         }
        },
        "title": {
         "text": "Model 'Default-CHIME-SIR' (ASKEM_ID:8ace99a46a5340eaa96ac19b5d02526f, date:Sep 30, 2022 00:33:15)"
        },
        "xaxis": {
         "anchor": "y",
         "domain": [
          0,
          1
         ],
         "title": {
          "text": "Day"
         }
        },
        "yaxis": {
         "anchor": "x",
         "domain": [
          0,
          1
         ],
         "title": {
          "text": "Population"
         }
        }
       }
      },
      "text/html": [
       "<div>                            <div id=\"4261aea3-cf84-c915-66f5-1a56c892c870\" class=\"plotly-graph-div\" style=\"height:525px; width:100%;\"></div>            <script type=\"text/javascript\">                require([\"plotly\"], function(Plotly) {                    window.PLOTLYENV=window.PLOTLYENV || {};                                    if (document.getElementById(\"4261aea3-cf84-c915-66f5-1a56c892c870\")) {                    Plotly.newPlot(                        \"4261aea3-cf84-c915-66f5-1a56c892c870\",                        [{\"hovertemplate\":\"variable=susceptible<br>day=%{x}<br>value=%{y}<extra></extra>\",\"legendgroup\":\"susceptible\",\"line\":{\"color\":\"black\",\"dash\":\"solid\"},\"marker\":{\"symbol\":\"circle\"},\"mode\":\"lines\",\"name\":\"susceptible\",\"orientation\":\"v\",\"showlegend\":true,\"x\":[0,1,2,3,4,5,6,7,8,9,10,11,12,13,14,15,16,17,18,19,20,21,22,23,24,25,26,27,28,29,30,31,32,33,34,35,36,37,38,39,40,41,42,43,44,45,46,47,48,49,50,51,52,53,54,55,56,57,58,59,60,61,62,63,64,65,66,67,68,69,70,71,72,73,74,75,76,77,78,79,80,81,82,83,84,85,86,87,88,89,90,91,92,93,94,95,96,97,98,99,100,101,102,103,104,105,106,107,108,109,110,111,112,113,114,115,116,117,118,119,120],\"xaxis\":\"x\",\"y\":[1000.0,999.9321428571428,999.8645326493713,999.7971687730479,999.7300506234902,999.6631775949995,999.5965490808849,999.5301644734906,999.4640231642218,999.3981245435701,999.3324680011398,999.2670529256725,999.2018787050729,999.1369447264339,999.072250376061,999.0077950394979,998.94357810155,998.8795989463102,998.8158569571812,998.7523515169014,998.6890820075678,998.4948246712163,998.2739158835572,998.0227148436019,997.7370879932414,997.4123436783303,997.0431585441902,996.6234947384288,996.1465069263913,995.6044380643941,994.98850282865,994.2887575708506,993.4939556744702,992.5913872317169,991.5667020660701,990.4037153103418,989.0841950414607,987.5876319032012,985.8909912567088,983.9684492337418,981.7911151854429,979.3267444848805,976.5394475265095,973.3894031462343,969.8325876372464,965.8205341246971,961.3001413288479,956.2135556909595,950.4981563880564,944.0866787451113,936.9075176389645,928.8852581482732,919.9414851532111,909.9959257408926,898.9679767159681,886.7786625377906,873.3530546936237,858.6231599744523,842.5312508250748,825.0335652696256,806.1042478004072,0.0,0.0,0.0,0.0,0.0,0.0,0.0,0.0,0.0,0.0,0.0,0.0,0.0,0.0,0.0,0.0,0.0,0.0,0.0,0.0,0.0,0.0,0.0,0.0,0.0,0.0,0.0,0.0,0.0,0.0,0.0,0.0,0.0,0.0,0.0,0.0,0.0,0.0,0.0,0.0,0.0,0.0,0.0,0.0,0.0,0.0,0.0,0.0,0.0,0.0,0.0,0.0,0.0,0.0,0.0,0.0,0.0,0.0,0.0,0.0],\"yaxis\":\"y\",\"type\":\"scatter\"},{\"hovertemplate\":\"variable=infected<br>day=%{x}<br>value=%{y}<extra></extra>\",\"legendgroup\":\"infected\",\"line\":{\"color\":\"red\",\"dash\":\"solid\"},\"marker\":{\"symbol\":\"circle\"},\"mode\":\"lines\",\"name\":\"infected\",\"orientation\":\"v\",\"showlegend\":true,\"x\":[0,1,2,3,4,5,6,7,8,9,10,11,12,13,14,15,16,17,18,19,20,21,22,23,24,25,26,27,28,29,30,31,32,33,34,35,36,37,38,39,40,41,42,43,44,45,46,47,48,49,50,51,52,53,54,55,56,57,58,59,60,61,62,63,64,65,66,67,68,69,70,71,72,73,74,75,76,77,78,79,80,81,82,83,84,85,86,87,88,89,90,91,92,93,94,95,96,97,98,99,100,101,102,103,104,105,106,107,108,109,110,111,112,113,114,115,116,117,118,119,120],\"xaxis\":\"x\",\"y\":[1.0,0.9964285714285714,0.9928653098123178,0.9893102354350313,0.9857633681757313,0.9822247275110827,0.9786943325178129,0.9751722018751359,0.9716583538671775,0.9681528063854044,0.9646555769310546,0.9611666826175719,0.95768614017304,0.9542139659426211,0.9507501758909941,0.9472947856047951,0.9438478102950587,0.9404092647996609,0.9369791635857604,0.9335575207522444,0.9301443500321708,1.0579628042385234,1.2033028201663016,1.3685536586810978,1.5564266762786525,1.7699976571698364,2.012754387226468,2.288650022471699,2.602162832904001,2.958362921122347,3.36298651964339,3.8225184546110667,4.344283318519515,4.9365458099498465,5.608620560600202,6.370991561999893,7.2354410050238265,8.215186928638749,9.325028508799997,10.581497066852483,12.003009896090752,13.61002274693225,15.425175223379448,17.473421373413306,19.78213535572879,22.3811792000117,25.302916338717313,28.58215080955442,32.25596791177502,36.36344784673642,40.94521982097335,46.04282075302363,51.69782083715552,57.95067876110572,64.83929358880864,72.3972296534996,80.65160680813091,89.62067246957861,99.31110501398611,109.71514021129352,120.8076619511338,0.0,0.0,0.0,0.0,0.0,0.0,0.0,0.0,0.0,0.0,0.0,0.0,0.0,0.0,0.0,0.0,0.0,0.0,0.0,0.0,0.0,0.0,0.0,0.0,0.0,0.0,0.0,0.0,0.0,0.0,0.0,0.0,0.0,0.0,0.0,0.0,0.0,0.0,0.0,0.0,0.0,0.0,0.0,0.0,0.0,0.0,0.0,0.0,0.0,0.0,0.0,0.0,0.0,0.0,0.0,0.0,0.0,0.0,0.0,0.0],\"yaxis\":\"y\",\"type\":\"scatter\"},{\"hovertemplate\":\"variable=recovered<br>day=%{x}<br>value=%{y}<extra></extra>\",\"legendgroup\":\"recovered\",\"line\":{\"color\":\"green\",\"dash\":\"solid\"},\"marker\":{\"symbol\":\"circle\"},\"mode\":\"lines\",\"name\":\"recovered\",\"orientation\":\"v\",\"showlegend\":true,\"x\":[0,1,2,3,4,5,6,7,8,9,10,11,12,13,14,15,16,17,18,19,20,21,22,23,24,25,26,27,28,29,30,31,32,33,34,35,36,37,38,39,40,41,42,43,44,45,46,47,48,49,50,51,52,53,54,55,56,57,58,59,60,61,62,63,64,65,66,67,68,69,70,71,72,73,74,75,76,77,78,79,80,81,82,83,84,85,86,87,88,89,90,91,92,93,94,95,96,97,98,99,100,101,102,103,104,105,106,107,108,109,110,111,112,113,114,115,116,117,118,119,120],\"xaxis\":\"x\",\"y\":[1.0,1.0714285714285714,1.1426020408163264,1.2135209915172065,1.2841860083339942,1.3545976774894035,1.424756586597338,1.4946633246343246,1.56431848191112,1.63372265004449,1.7028764219291617,1.7717803917099513,1.8404351547540636,1.9088413076235664,1.9769994480480393,2.044910174897396,2.1125740881548807,2.1799917888902423,2.247163879233075,2.3140909623463433,2.380773642400075,2.44721252454523,2.522781296276553,2.608731497717003,2.7064853304799383,2.817658664499842,2.9440870685834017,3.087855239099578,3.2513302407046996,3.4371990144835567,3.648510651706581,3.8887239745382516,4.161761007010472,4.4720669583332935,4.8246773733297115,5.225293127658297,5.680363953515432,6.19718116815999,6.783980234491331,7.450053699405615,8.205874918466508,9.063232768187275,10.035377250111008,11.137175480352397,12.385277007024776,13.798286675291118,15.396942332434811,17.20429349948605,19.245875700168504,21.54987340815244,24.14726254006218,27.071921098703132,30.36069400963339,34.053395498001635,38.19272969522348,42.824107808709805,47.99533849824549,53.75616755596912,60.15764416093902,67.25129451908089,75.088090248459,0.0,0.0,0.0,0.0,0.0,0.0,0.0,0.0,0.0,0.0,0.0,0.0,0.0,0.0,0.0,0.0,0.0,0.0,0.0,0.0,0.0,0.0,0.0,0.0,0.0,0.0,0.0,0.0,0.0,0.0,0.0,0.0,0.0,0.0,0.0,0.0,0.0,0.0,0.0,0.0,0.0,0.0,0.0,0.0,0.0,0.0,0.0,0.0,0.0,0.0,0.0,0.0,0.0,0.0,0.0,0.0,0.0,0.0,0.0,0.0],\"yaxis\":\"y\",\"type\":\"scatter\"}],                        {\"template\":{\"data\":{\"histogram2dcontour\":[{\"type\":\"histogram2dcontour\",\"colorbar\":{\"outlinewidth\":0,\"ticks\":\"\"},\"colorscale\":[[0.0,\"#0d0887\"],[0.1111111111111111,\"#46039f\"],[0.2222222222222222,\"#7201a8\"],[0.3333333333333333,\"#9c179e\"],[0.4444444444444444,\"#bd3786\"],[0.5555555555555556,\"#d8576b\"],[0.6666666666666666,\"#ed7953\"],[0.7777777777777778,\"#fb9f3a\"],[0.8888888888888888,\"#fdca26\"],[1.0,\"#f0f921\"]]}],\"choropleth\":[{\"type\":\"choropleth\",\"colorbar\":{\"outlinewidth\":0,\"ticks\":\"\"}}],\"histogram2d\":[{\"type\":\"histogram2d\",\"colorbar\":{\"outlinewidth\":0,\"ticks\":\"\"},\"colorscale\":[[0.0,\"#0d0887\"],[0.1111111111111111,\"#46039f\"],[0.2222222222222222,\"#7201a8\"],[0.3333333333333333,\"#9c179e\"],[0.4444444444444444,\"#bd3786\"],[0.5555555555555556,\"#d8576b\"],[0.6666666666666666,\"#ed7953\"],[0.7777777777777778,\"#fb9f3a\"],[0.8888888888888888,\"#fdca26\"],[1.0,\"#f0f921\"]]}],\"heatmap\":[{\"type\":\"heatmap\",\"colorbar\":{\"outlinewidth\":0,\"ticks\":\"\"},\"colorscale\":[[0.0,\"#0d0887\"],[0.1111111111111111,\"#46039f\"],[0.2222222222222222,\"#7201a8\"],[0.3333333333333333,\"#9c179e\"],[0.4444444444444444,\"#bd3786\"],[0.5555555555555556,\"#d8576b\"],[0.6666666666666666,\"#ed7953\"],[0.7777777777777778,\"#fb9f3a\"],[0.8888888888888888,\"#fdca26\"],[1.0,\"#f0f921\"]]}],\"heatmapgl\":[{\"type\":\"heatmapgl\",\"colorbar\":{\"outlinewidth\":0,\"ticks\":\"\"},\"colorscale\":[[0.0,\"#0d0887\"],[0.1111111111111111,\"#46039f\"],[0.2222222222222222,\"#7201a8\"],[0.3333333333333333,\"#9c179e\"],[0.4444444444444444,\"#bd3786\"],[0.5555555555555556,\"#d8576b\"],[0.6666666666666666,\"#ed7953\"],[0.7777777777777778,\"#fb9f3a\"],[0.8888888888888888,\"#fdca26\"],[1.0,\"#f0f921\"]]}],\"contourcarpet\":[{\"type\":\"contourcarpet\",\"colorbar\":{\"outlinewidth\":0,\"ticks\":\"\"}}],\"contour\":[{\"type\":\"contour\",\"colorbar\":{\"outlinewidth\":0,\"ticks\":\"\"},\"colorscale\":[[0.0,\"#0d0887\"],[0.1111111111111111,\"#46039f\"],[0.2222222222222222,\"#7201a8\"],[0.3333333333333333,\"#9c179e\"],[0.4444444444444444,\"#bd3786\"],[0.5555555555555556,\"#d8576b\"],[0.6666666666666666,\"#ed7953\"],[0.7777777777777778,\"#fb9f3a\"],[0.8888888888888888,\"#fdca26\"],[1.0,\"#f0f921\"]]}],\"surface\":[{\"type\":\"surface\",\"colorbar\":{\"outlinewidth\":0,\"ticks\":\"\"},\"colorscale\":[[0.0,\"#0d0887\"],[0.1111111111111111,\"#46039f\"],[0.2222222222222222,\"#7201a8\"],[0.3333333333333333,\"#9c179e\"],[0.4444444444444444,\"#bd3786\"],[0.5555555555555556,\"#d8576b\"],[0.6666666666666666,\"#ed7953\"],[0.7777777777777778,\"#fb9f3a\"],[0.8888888888888888,\"#fdca26\"],[1.0,\"#f0f921\"]]}],\"mesh3d\":[{\"type\":\"mesh3d\",\"colorbar\":{\"outlinewidth\":0,\"ticks\":\"\"}}],\"scatter\":[{\"fillpattern\":{\"fillmode\":\"overlay\",\"size\":10,\"solidity\":0.2},\"type\":\"scatter\"}],\"parcoords\":[{\"type\":\"parcoords\",\"line\":{\"colorbar\":{\"outlinewidth\":0,\"ticks\":\"\"}}}],\"scatterpolargl\":[{\"type\":\"scatterpolargl\",\"marker\":{\"colorbar\":{\"outlinewidth\":0,\"ticks\":\"\"}}}],\"bar\":[{\"error_x\":{\"color\":\"#2a3f5f\"},\"error_y\":{\"color\":\"#2a3f5f\"},\"marker\":{\"line\":{\"color\":\"#E5ECF6\",\"width\":0.5},\"pattern\":{\"fillmode\":\"overlay\",\"size\":10,\"solidity\":0.2}},\"type\":\"bar\"}],\"scattergeo\":[{\"type\":\"scattergeo\",\"marker\":{\"colorbar\":{\"outlinewidth\":0,\"ticks\":\"\"}}}],\"scatterpolar\":[{\"type\":\"scatterpolar\",\"marker\":{\"colorbar\":{\"outlinewidth\":0,\"ticks\":\"\"}}}],\"histogram\":[{\"marker\":{\"pattern\":{\"fillmode\":\"overlay\",\"size\":10,\"solidity\":0.2}},\"type\":\"histogram\"}],\"scattergl\":[{\"type\":\"scattergl\",\"marker\":{\"colorbar\":{\"outlinewidth\":0,\"ticks\":\"\"}}}],\"scatter3d\":[{\"type\":\"scatter3d\",\"line\":{\"colorbar\":{\"outlinewidth\":0,\"ticks\":\"\"}},\"marker\":{\"colorbar\":{\"outlinewidth\":0,\"ticks\":\"\"}}}],\"scattermapbox\":[{\"type\":\"scattermapbox\",\"marker\":{\"colorbar\":{\"outlinewidth\":0,\"ticks\":\"\"}}}],\"scatterternary\":[{\"type\":\"scatterternary\",\"marker\":{\"colorbar\":{\"outlinewidth\":0,\"ticks\":\"\"}}}],\"scattercarpet\":[{\"type\":\"scattercarpet\",\"marker\":{\"colorbar\":{\"outlinewidth\":0,\"ticks\":\"\"}}}],\"carpet\":[{\"aaxis\":{\"endlinecolor\":\"#2a3f5f\",\"gridcolor\":\"white\",\"linecolor\":\"white\",\"minorgridcolor\":\"white\",\"startlinecolor\":\"#2a3f5f\"},\"baxis\":{\"endlinecolor\":\"#2a3f5f\",\"gridcolor\":\"white\",\"linecolor\":\"white\",\"minorgridcolor\":\"white\",\"startlinecolor\":\"#2a3f5f\"},\"type\":\"carpet\"}],\"table\":[{\"cells\":{\"fill\":{\"color\":\"#EBF0F8\"},\"line\":{\"color\":\"white\"}},\"header\":{\"fill\":{\"color\":\"#C8D4E3\"},\"line\":{\"color\":\"white\"}},\"type\":\"table\"}],\"barpolar\":[{\"marker\":{\"line\":{\"color\":\"#E5ECF6\",\"width\":0.5},\"pattern\":{\"fillmode\":\"overlay\",\"size\":10,\"solidity\":0.2}},\"type\":\"barpolar\"}],\"pie\":[{\"automargin\":true,\"type\":\"pie\"}]},\"layout\":{\"autotypenumbers\":\"strict\",\"colorway\":[\"#636efa\",\"#EF553B\",\"#00cc96\",\"#ab63fa\",\"#FFA15A\",\"#19d3f3\",\"#FF6692\",\"#B6E880\",\"#FF97FF\",\"#FECB52\"],\"font\":{\"color\":\"#2a3f5f\"},\"hovermode\":\"closest\",\"hoverlabel\":{\"align\":\"left\"},\"paper_bgcolor\":\"white\",\"plot_bgcolor\":\"#E5ECF6\",\"polar\":{\"bgcolor\":\"#E5ECF6\",\"angularaxis\":{\"gridcolor\":\"white\",\"linecolor\":\"white\",\"ticks\":\"\"},\"radialaxis\":{\"gridcolor\":\"white\",\"linecolor\":\"white\",\"ticks\":\"\"}},\"ternary\":{\"bgcolor\":\"#E5ECF6\",\"aaxis\":{\"gridcolor\":\"white\",\"linecolor\":\"white\",\"ticks\":\"\"},\"baxis\":{\"gridcolor\":\"white\",\"linecolor\":\"white\",\"ticks\":\"\"},\"caxis\":{\"gridcolor\":\"white\",\"linecolor\":\"white\",\"ticks\":\"\"}},\"coloraxis\":{\"colorbar\":{\"outlinewidth\":0,\"ticks\":\"\"}},\"colorscale\":{\"sequential\":[[0.0,\"#0d0887\"],[0.1111111111111111,\"#46039f\"],[0.2222222222222222,\"#7201a8\"],[0.3333333333333333,\"#9c179e\"],[0.4444444444444444,\"#bd3786\"],[0.5555555555555556,\"#d8576b\"],[0.6666666666666666,\"#ed7953\"],[0.7777777777777778,\"#fb9f3a\"],[0.8888888888888888,\"#fdca26\"],[1.0,\"#f0f921\"]],\"sequentialminus\":[[0.0,\"#0d0887\"],[0.1111111111111111,\"#46039f\"],[0.2222222222222222,\"#7201a8\"],[0.3333333333333333,\"#9c179e\"],[0.4444444444444444,\"#bd3786\"],[0.5555555555555556,\"#d8576b\"],[0.6666666666666666,\"#ed7953\"],[0.7777777777777778,\"#fb9f3a\"],[0.8888888888888888,\"#fdca26\"],[1.0,\"#f0f921\"]],\"diverging\":[[0,\"#8e0152\"],[0.1,\"#c51b7d\"],[0.2,\"#de77ae\"],[0.3,\"#f1b6da\"],[0.4,\"#fde0ef\"],[0.5,\"#f7f7f7\"],[0.6,\"#e6f5d0\"],[0.7,\"#b8e186\"],[0.8,\"#7fbc41\"],[0.9,\"#4d9221\"],[1,\"#276419\"]]},\"xaxis\":{\"gridcolor\":\"white\",\"linecolor\":\"white\",\"ticks\":\"\",\"title\":{\"standoff\":15},\"zerolinecolor\":\"white\",\"automargin\":true,\"zerolinewidth\":2},\"yaxis\":{\"gridcolor\":\"white\",\"linecolor\":\"white\",\"ticks\":\"\",\"title\":{\"standoff\":15},\"zerolinecolor\":\"white\",\"automargin\":true,\"zerolinewidth\":2},\"scene\":{\"xaxis\":{\"backgroundcolor\":\"#E5ECF6\",\"gridcolor\":\"white\",\"linecolor\":\"white\",\"showbackground\":true,\"ticks\":\"\",\"zerolinecolor\":\"white\",\"gridwidth\":2},\"yaxis\":{\"backgroundcolor\":\"#E5ECF6\",\"gridcolor\":\"white\",\"linecolor\":\"white\",\"showbackground\":true,\"ticks\":\"\",\"zerolinecolor\":\"white\",\"gridwidth\":2},\"zaxis\":{\"backgroundcolor\":\"#E5ECF6\",\"gridcolor\":\"white\",\"linecolor\":\"white\",\"showbackground\":true,\"ticks\":\"\",\"zerolinecolor\":\"white\",\"gridwidth\":2}},\"shapedefaults\":{\"line\":{\"color\":\"#2a3f5f\"}},\"annotationdefaults\":{\"arrowcolor\":\"#2a3f5f\",\"arrowhead\":0,\"arrowwidth\":1},\"geo\":{\"bgcolor\":\"white\",\"landcolor\":\"#E5ECF6\",\"subunitcolor\":\"white\",\"showland\":true,\"showlakes\":true,\"lakecolor\":\"white\"},\"title\":{\"x\":0.05},\"mapbox\":{\"style\":\"light\"}}},\"xaxis\":{\"anchor\":\"y\",\"domain\":[0.0,1.0],\"title\":{\"text\":\"Day\"}},\"yaxis\":{\"anchor\":\"x\",\"domain\":[0.0,1.0],\"title\":{\"text\":\"Population\"}},\"legend\":{\"title\":{\"text\":\"variable\"},\"tracegroupgap\":0},\"title\":{\"text\":\"Model 'Default-CHIME-SIR' (ASKEM_ID:8ace99a46a5340eaa96ac19b5d02526f, date:Sep 30, 2022 00:33:15)\"}},                        {\"responsive\": true}                    ).then(function(){\n",
       "                            \n",
       "var gd = document.getElementById('4261aea3-cf84-c915-66f5-1a56c892c870');\n",
       "var x = new MutationObserver(function (mutations, observer) {{\n",
       "        var display = window.getComputedStyle(gd).display;\n",
       "        if (!display || display === 'none') {{\n",
       "            console.log([gd, 'removed!']);\n",
       "            Plotly.purge(gd);\n",
       "            observer.disconnect();\n",
       "        }}\n",
       "}});\n",
       "\n",
       "// Listen for the removal of the full notebook cells\n",
       "var notebookContainer = gd.closest('#notebook-container');\n",
       "if (notebookContainer) {{\n",
       "    x.observe(notebookContainer, {childList: true});\n",
       "}}\n",
       "\n",
       "// Listen for the clearing of the current output cell\n",
       "var outputEl = gd.closest('.output');\n",
       "if (outputEl) {{\n",
       "    x.observe(outputEl, {childList: true});\n",
       "}}\n",
       "\n",
       "                        })                };                });            </script>        </div>"
      ]
     },
     "metadata": {},
     "output_type": "display_data"
    }
   ],
   "source": [
    "askemObj = loadModelSourceFromXDD(modelSourceXDDId)\n",
    "loadedModelModule = storeModelSourceAndLoad(askemObj[\"RAW_DATA\"][\"text\"], askemObj)\n",
    "visualizeChimeTypeModelOutputs(loadedModelModule)\n"
   ]
  },
  {
   "cell_type": "markdown",
   "metadata": {
    "ExecuteTime": {
     "end_time": "2022-09-29T20:27:02.450824Z",
     "start_time": "2022-09-29T20:27:02.446342Z"
    }
   },
   "source": [
    "## Step 2: Analyze model source code with Gromet, then insert Gromet result into XDD"
   ]
  },
  {
   "cell_type": "code",
   "execution_count": 42,
   "metadata": {
    "ExecuteTime": {
     "end_time": "2022-10-02T20:34:28.385940Z",
     "start_time": "2022-10-02T20:34:27.648280Z"
    }
   },
   "outputs": [
    {
     "data": {
      "text/plain": [
       "'e0b7f536-d081-4aaf-be21-2adfe0e26666'"
      ]
     },
     "execution_count": 42,
     "metadata": {},
     "output_type": "execute_result"
    }
   ],
   "source": [
    "\n",
    "grometObject = computeGrometRepr(loadedModelModule)\n",
    "grometXDDId = storeGrometInXDD(grometObject, loadedModelModule)\n",
    "grometXDDId\n",
    "\n"
   ]
  },
  {
   "cell_type": "markdown",
   "metadata": {
    "ExecuteTime": {
     "end_time": "2022-09-29T20:27:56.308675Z",
     "start_time": "2022-09-29T20:27:56.305008Z"
    }
   },
   "source": [
    "## Step 3: Load Pandemic Ontology\n",
    "\n",
    "We first set up access to the MIRA Epidemiology Domain Knowledge Graph (DKG) web service."
   ]
  },
  {
   "cell_type": "code",
   "execution_count": 43,
   "metadata": {
    "ExecuteTime": {
     "end_time": "2022-10-02T20:34:29.658742Z",
     "start_time": "2022-10-02T20:34:29.653855Z"
    }
   },
   "outputs": [],
   "source": [
    "MIRA_DKG_URL = 'http://34.230.33.149:8771'\n",
    "\n",
    "def get_mira_dkg_term(term, attribs):\n",
    "    res = requests.get(MIRA_DKG_URL + '/api/search', params={'q': term})\n",
    "    term = [entity for entity in res.json() if entity['id'].startswith('askemo')][0]\n",
    "    res = {}\n",
    "    for attrib, attrib_expand in attribs.items():\n",
    "        if attrib_expand:\n",
    "            for expand in attrib_expand:\n",
    "                res[expand] = term.get(attrib, {}).get(expand, [None])[0]\n",
    "        else:\n",
    "            res[attrib] = term.get(attrib)\n",
    "    return res"
   ]
  },
  {
   "cell_type": "markdown",
   "metadata": {},
   "source": [
    "Next, we choose a set of terms and attributes to pull into a local ontology that we can use to connect to the model. In addition, for some of the terms, we define custom ranges in which their values for this model can be adjusted."
   ]
  },
  {
   "cell_type": "code",
   "execution_count": 44,
   "metadata": {},
   "outputs": [
    {
     "data": {
      "text/plain": [
       "{'population': {'description': 'The number of people who live in an area being modeled.',\n",
       "  'synonyms': [],\n",
       "  'xrefs': [{'id': 'ido:0000509', 'type': 'skos:exactMatch'}],\n",
       "  'suggested_unit': 'person',\n",
       "  'suggested_data_type': 'int',\n",
       "  'min': 1000,\n",
       "  'max': 40000000},\n",
       " 'doubling time': {'description': 'The length of time that an infectious disease requires to double in incidence.',\n",
       "  'synonyms': [{'value': 'doubling rate', 'type': 'skos:relatedMatch'}],\n",
       "  'xrefs': [{'id': 'cemo:epidemic_doubling_time', 'type': 'skos:exactMatch'}],\n",
       "  'suggested_unit': 'day',\n",
       "  'suggested_data_type': 'float'},\n",
       " 'recovery time': {'description': 'The length of time an infected individual needs to recover after being infected.',\n",
       "  'synonyms': [{'value': 'mean recovery time', 'type': 'skos:exactMatch'},\n",
       "   {'value': 'recovery rate', 'type': 'skos:relatedMatch'}],\n",
       "  'xrefs': [],\n",
       "  'suggested_unit': 'day',\n",
       "  'suggested_data_type': 'float'},\n",
       " 'infectious time': {'description': 'The length of time an infected individual is infectious after being infected.',\n",
       "  'synonyms': [{'value': 'contagious time', 'type': 'skos:exactMatch'},\n",
       "   {'value': 'infectious days', 'type': 'skos:narrowMatch'},\n",
       "   {'value': 'infectious period', 'type': 'skos:exactMatch'}],\n",
       "  'xrefs': [{'id': 'apollosv:00000140', 'type': 'skos:exactMatch'}],\n",
       "  'suggested_unit': 'day',\n",
       "  'suggested_data_type': 'float',\n",
       "  'min': 1,\n",
       "  'max': 30}}"
      ]
     },
     "execution_count": 44,
     "metadata": {},
     "output_type": "execute_result"
    }
   ],
   "source": [
    "# Terms we want to find in MIRA and specific attributes we want to add to our local ontology\n",
    "terms = ['population', 'doubling time', 'recovery time', 'infectious time']\n",
    "attribs = {'description': [], 'synonyms': [], 'xrefs': [], 'properties': ['suggested_unit', 'suggested_data_type']}\n",
    "\n",
    "PANDEMIC_ONTOLOGY = {\n",
    "    term: get_mira_dkg_term(term, attribs) for term in terms\n",
    "    }\n",
    "\n",
    "PANDEMIC_ONTOLOGY['population']['min'] = 1000\n",
    "PANDEMIC_ONTOLOGY['population']['max'] = 40 * 1000 * 1000\n",
    "PANDEMIC_ONTOLOGY['infectious time']['min'] = 1\n",
    "PANDEMIC_ONTOLOGY['infectious time']['max'] = 30\n",
    "\n",
    "PANDEMIC_ONTOLOGY"
   ]
  },
  {
   "cell_type": "markdown",
   "metadata": {
    "ExecuteTime": {
     "end_time": "2022-09-29T20:29:23.510267Z",
     "start_time": "2022-09-29T20:29:23.506484Z"
    }
   },
   "source": [
    "## Step 4: Analyze Gromet representation to find connections between Gromet code and Pandemic Ontology's parameters (\"knobs\")"
   ]
  },
  {
   "cell_type": "code",
   "execution_count": 45,
   "metadata": {
    "ExecuteTime": {
     "end_time": "2022-10-02T20:34:34.113531Z",
     "start_time": "2022-10-02T20:34:34.110320Z"
    }
   },
   "outputs": [
    {
     "name": "stdout",
     "output_type": "stream",
     "text": [
      "OpenAI connection error: Incorrect API key provided: ASDFEFD. You can find your API key at https://beta.openai.com.\n",
      "Using hard-coded connections\n"
     ]
    },
    {
     "data": {
      "text/plain": [
       "[('infectious time', {'name': 'grometSubObject'}, 14.0, 67),\n",
       " ('population', {'name': 'grometSubObject'}, 1000, 80)]"
      ]
     },
     "execution_count": 45,
     "metadata": {},
     "output_type": "execute_result"
    }
   ],
   "source": [
    "#\n",
    "# Build Code/Ontology connections based on OpenAI GPT-3\n",
    "#\n",
    "# Hard coded version for connection\n",
    "\n",
    "# targets = ['population', 'doubling time', 'recovery time', 'infectious time']\n",
    "\n",
    "code = \"CHIME_SIR_default_model.py\"\n",
    "targets = ['population', 'infectious time']\n",
    "discoveredParameterConnections = []\n",
    "try:\n",
    "    discoveredParameterConnections = gpt.match_targets(targets, code, terms)\n",
    "except OpenAIError as err:\n",
    "    print(\"OpenAI connection error:\", err)\n",
    "    print(\"Using hard-coded connections\")\n",
    "    discoveredParameterConnections = [(\"infectious time\", {\"name\": \"grometSubObject\"}, 14.0, 67),(\"population\", {\"name\": \"grometSubObject\"}, 1000, 80)]\n",
    "\n",
    "discoveredParameterConnections"
   ]
  },
  {
   "cell_type": "markdown",
   "metadata": {
    "ExecuteTime": {
     "end_time": "2022-09-29T20:31:29.237903Z",
     "start_time": "2022-09-29T20:31:29.234682Z"
    }
   },
   "source": [
    "## Step 5: Show the user the knobs we found in the code. User can adjust them and recompute"
   ]
  },
  {
   "cell_type": "code",
   "execution_count": 16,
   "metadata": {
    "ExecuteTime": {
     "end_time": "2022-10-02T20:34:35.613934Z",
     "start_time": "2022-10-02T20:34:35.544233Z"
    }
   },
   "outputs": [
    {
     "data": {
      "application/vnd.jupyter.widget-view+json": {
       "model_id": "7dfc749da57a4b11ab69d403c7ba4ebe",
       "version_major": 2,
       "version_minor": 0
      },
      "text/plain": [
       "HTML(value='<b>Recovered parameters</b>')"
      ]
     },
     "metadata": {},
     "output_type": "display_data"
    },
    {
     "data": {
      "application/vnd.jupyter.widget-view+json": {
       "model_id": "ed13453a352848a6ba7d7d7a145a4cb7",
       "version_major": 2,
       "version_minor": 0
      },
      "text/plain": [
       "Button(description='Alter Model', style=ButtonStyle())"
      ]
     },
     "metadata": {},
     "output_type": "display_data"
    },
    {
     "data": {
      "application/vnd.jupyter.widget-view+json": {
       "model_id": "ea47cbfecf0b4cffbe64c6dd00c566d5",
       "version_major": 2,
       "version_minor": 0
      },
      "text/plain": [
       "Output()"
      ]
     },
     "metadata": {},
     "output_type": "display_data"
    }
   ],
   "source": [
    "currentKnobs = {}\n",
    "sliders = {}\n",
    "rows = []\n",
    "rows.append(widgets.HTML(\"<b>Recovered parameters</b>\"))\n",
    "for dpc in discoveredParameterConnections:\n",
    "    parameterName, grometObj, curValue, lineOfCode = dpc\n",
    "    ontologyRecord = PANDEMIC_ONTOLOGY[parameterName]  # [\"parameters\"][parameterName]\n",
    "\n",
    "    currentKnobs[parameterName] = curValue\n",
    "    curSlider = widgets.IntSlider(min=ontologyRecord[\"min\"], \n",
    "                                     max=ontologyRecord[\"max\"], \n",
    "                                     value=curValue)\n",
    "\n",
    "    sliders[parameterName] = curSlider\n",
    "    \n",
    "    row = widgets.HBox([widgets.HTML(value=\"<b>\" + parameterName + \"</b>\"), curSlider])\n",
    "    tinyCell = widgets.VBox([row, widgets.Label(value=ontologyRecord[\"description\"] + \" (observed value: \" + str(curValue) + \")\")])\n",
    "    rows.append(tinyCell)\n",
    "\n",
    "button = widgets.Button(description=\"Alter Model\")\n",
    "output = widgets.Output()\n",
    "\n",
    "newModelModules = []\n",
    "\n",
    "def on_button_clicked(b):\n",
    "    # rebuild the model and get the result\n",
    "    edits = []\n",
    "    for dpc in discoveredParameterConnections:\n",
    "        parameterName, grometObj, curValue, lineOfCode = dpc\n",
    "        sliderValue = sliders[parameterName].value\n",
    "        edits.append((lineOfCode, sliderValue))\n",
    "\n",
    "    newModelModule = cloneAndMutateModel(loadedModelModule, edits)\n",
    "    with output:\n",
    "        output.clear_output()\n",
    "        newModelModules.clear()\n",
    "        newModelModules.append(newModelModule)\n",
    "        display(visualizeChimeTypeModelOutputs(newModelModule))\n",
    "            \n",
    "button.on_click(on_button_clicked)\n",
    "\n",
    "rows.append(button)\n",
    "rows.append(output)\n",
    "for s in rows:\n",
    "    display(s)"
   ]
  },
  {
   "cell_type": "markdown",
   "metadata": {},
   "source": [
    "## Step 6: When the user obtains an altered model she likes, she can choose to store it in XDD, along with metadata about how it was created"
   ]
  },
  {
   "cell_type": "code",
   "execution_count": 17,
   "metadata": {
    "ExecuteTime": {
     "end_time": "2022-10-02T20:34:41.512130Z",
     "start_time": "2022-10-02T20:34:41.206182Z"
    }
   },
   "outputs": [],
   "source": [
    "if len(newModelModules) > 0:\n",
    "    print(\"XDD ID: \", storeAlteredModelInXDD(newModelModules[-1]))"
   ]
  },
  {
   "cell_type": "code",
   "execution_count": null,
   "metadata": {},
   "outputs": [],
   "source": []
  }
 ],
 "metadata": {
  "kernelspec": {
   "display_name": "Python 3",
   "language": "python",
   "name": "python3"
  },
  "language_info": {
   "codemirror_mode": {
    "name": "ipython",
    "version": 3
   },
   "file_extension": ".py",
   "mimetype": "text/x-python",
   "name": "python",
   "nbconvert_exporter": "python",
   "pygments_lexer": "ipython3",
   "version": "3.8.10"
  },
  "varInspector": {
   "cols": {
    "lenName": 16,
    "lenType": 16,
    "lenVar": 40
   },
   "kernels_config": {
    "python": {
     "delete_cmd_postfix": "",
     "delete_cmd_prefix": "del ",
     "library": "var_list.py",
     "varRefreshCmd": "print(var_dic_list())"
    },
    "r": {
     "delete_cmd_postfix": ") ",
     "delete_cmd_prefix": "rm(",
     "library": "var_list.r",
     "varRefreshCmd": "cat(var_dic_list()) "
    }
   },
   "types_to_exclude": [
    "module",
    "function",
    "builtin_function_or_method",
    "instance",
    "_Feature"
   ],
   "window_display": false
  }
 },
 "nbformat": 4,
 "nbformat_minor": 5
}

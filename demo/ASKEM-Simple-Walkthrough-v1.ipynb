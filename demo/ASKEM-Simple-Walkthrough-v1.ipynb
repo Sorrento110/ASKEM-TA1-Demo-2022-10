{
 "cells": [
  {
   "cell_type": "markdown",
   "id": "452527b7",
   "metadata": {
    "ExecuteTime": {
     "end_time": "2022-09-29T20:21:52.240018Z",
     "start_time": "2022-09-29T20:21:52.237482Z"
    }
   },
   "source": [
    "# Package Load"
   ]
  },
  {
   "cell_type": "code",
   "execution_count": null,
   "id": "ce4bcaa6",
   "metadata": {
    "ExecuteTime": {
     "end_time": "2022-10-02T20:34:01.110612Z",
     "start_time": "2022-10-02T20:33:59.523380Z"
    }
   },
   "outputs": [],
   "source": [
    "import ipywidgets as widgets\n",
    "import shutil\n",
    "from ipywidgets import interact\n",
    "from ipywidgets import interactive\n",
    "import json\n",
    "import gpt3 as gpt\n",
    "from openai import OpenAIError\n",
    "from IPython import display\n",
    "from base64 import b64decode\n",
    "from pprint import PrettyPrinter\n",
    "import urllib.parse\n",
    "import gromet as gromet\n",
    "import requests\n",
    "from datetime import datetime\n",
    "import importlib\n",
    "import matplotlib.pyplot as plt\n",
    "import plotly.express as px\n",
    "plt.style.use(\"fivethirtyeight\")\n",
    "import pandas as pd\n",
    "import sys\n",
    "import uuid\n",
    "import os\n",
    "import requests\n",
    "\n",
    "# SKEMA TR pipeline\n",
    "from typing import Any, List, Mapping, Optional\n",
    "from pandas import DataFrame\n"
   ]
  },
  {
   "cell_type": "markdown",
   "id": "9360d759",
   "metadata": {
    "ExecuteTime": {
     "end_time": "2022-09-29T20:22:37.812137Z",
     "start_time": "2022-09-29T20:22:37.809670Z"
    },
    "code_folding": []
   },
   "source": [
    "# Demo Setup Parameters"
   ]
  },
  {
   "cell_type": "code",
   "execution_count": null,
   "id": "a3da8d12",
   "metadata": {
    "ExecuteTime": {
     "end_time": "2022-10-02T20:34:04.520143Z",
     "start_time": "2022-10-02T20:34:04.515845Z"
    }
   },
   "outputs": [],
   "source": [
    "XDD_GET_URL = \"https://xdddev.chtc.io/askem/object/\"\n",
    "XDD_CREATE_URL = \"https://xdddev.chtc.io/askem/create\"\n",
    "XDD_ARTICLES_URL = \"https://xdd.wisc.edu/api/\"\n",
    "MIT_XDD_KEY = \"81622ba9-b82d-4128-8eb3-bec123d03979\"\n",
    "\n",
    "ppr=PrettyPrinter()\n",
    "\n",
    "\n",
    "#MODEL_BASE = \"src.model\"\n",
    "DYNAMIC_MODEL_DIR = \"dynmodels\"\n",
    "if not os.path.exists(DYNAMIC_MODEL_DIR):\n",
    "    os.mkdir(DYNAMIC_MODEL_DIR)\n",
    "DYNAMIC_MODEL_BASE = DYNAMIC_MODEL_DIR.replace(\"/\", \".\")\n",
    "\n",
    "#originalModelModuleName = MODEL_BASE + \".\" + \"CHIME_SIR_default_model\"\n",
    "#originalModelFileName = MODEL_BASE.replace(\".\", \"/\") + \"/\" + \"CHIME_SIR_default_model\" + \".py\"\n"
   ]
  },
  {
   "cell_type": "markdown",
   "id": "8eaccf24",
   "metadata": {},
   "source": [
    "# Demo Functions"
   ]
  },
  {
   "cell_type": "code",
   "execution_count": null,
   "id": "38f5ce20",
   "metadata": {
    "ExecuteTime": {
     "end_time": "2022-10-02T20:34:06.638391Z",
     "start_time": "2022-10-02T20:34:06.634769Z"
    },
    "code_folding": []
   },
   "outputs": [],
   "source": [
    "def storeModelSourceAndLoad(modelSrcTxt, askemMetadata):\n",
    "    newModelFilename = str(uuid.uuid4())\n",
    "    newModelFQFilename = DYNAMIC_MODEL_DIR + \"/\" + newModelFilename + \".py\"\n",
    "    newModelModuleName = DYNAMIC_MODEL_BASE + \".\" + newModelFilename\n",
    "\n",
    "    with open(newModelFQFilename, \"w\") as fout:\n",
    "        for line in modelSrcTxt:\n",
    "            fout.write(line)\n",
    "        fout.close()\n",
    "    \n",
    "    print(\"NEW MODULE NAME\", newModelModuleName)\n",
    "    newModule = importlib.import_module(newModelModuleName)\n",
    "    newModule.__ASKEMMETADATA__ = askemMetadata\n",
    "    return newModule\n",
    "\n",
    "\n",
    "    "
   ]
  },
  {
   "cell_type": "code",
   "execution_count": null,
   "id": "8a515701",
   "metadata": {
    "ExecuteTime": {
     "end_time": "2022-10-02T20:34:08.360665Z",
     "start_time": "2022-10-02T20:34:08.353296Z"
    }
   },
   "outputs": [],
   "source": [
    "#\n",
    "# This code will create a clone of the original model (called originalModelModuleName).\n",
    "# It will mutate the new model s.t. if \"constantLineNo\" is >=0, it will replace oldConstant with newConstant\n",
    "# Then it will return a newly-loaded module that reflects these changes, and which the code can invoke\n",
    "#\n",
    "def cloneAndMutateModel(inputModelModule, alterations):\n",
    "    newModelFilename = str(uuid.uuid4())\n",
    "    newModelFQFilename = DYNAMIC_MODEL_DIR + \"/\" + newModelFilename + \".py\"\n",
    "    newModelModuleName = DYNAMIC_MODEL_BASE + \".\" + newModelFilename\n",
    "    \n",
    "    alterationD = {}\n",
    "    for constantLineNo, newConstant in alterations:\n",
    "        alterationD[constantLineNo] = newConstant\n",
    "\n",
    "\n",
    "    with open(inputModelModule.__file__, \"r\") as src:\n",
    "        with open(newModelFQFilename, \"w\") as dst:\n",
    "            for lineno, line in enumerate(src):\n",
    "                if lineno in alterationD:\n",
    "                    newConstant = alterationD[lineno]\n",
    "                    lhs, rhs = line.split(\"=\")\n",
    "                    line = lhs + \" = \" + str(newConstant) + \"\\n\"\n",
    "                dst.write(line)\n",
    "\n",
    "    newModelModule = importlib.import_module(newModelModuleName)\n",
    "\n",
    "    #\n",
    "    # MAKE CHANGES TO METADATA\n",
    "    #\n",
    "    newAskemMetadata = {}\n",
    "    newAskemMetadata[\"ASKEM_ID\"] = uuid.uuid4().hex\n",
    "    newAskemMetadata[\"ASKEM_CLASS\"] = \"Thing\"\n",
    "    newAskemMetadata[\"PROPERTIES\"] = [(\"Name\", \"Altered Model\"),\n",
    "                                    (\"date\", datetime.now().strftime(\"%b %d, %Y %H:%M:%S\")),\n",
    "                                     (\"rawfile\", newModelModule.__file__)]\n",
    "    newAskemMetadata[\"EXTERNAL_URL\"] = \"\"\n",
    "    newAskemMetadata[\"DOMAIN_TAGS\"] = \"\"\n",
    "    newAskemMetadata[\"RAW_DATA\"] = {\"text\": open(newModelModule.__file__).read()}\n",
    "    \n",
    "    newModelModule.__ASKEMMETADATA__ = newAskemMetadata\n",
    "    return newModelModule\n"
   ]
  },
  {
   "cell_type": "code",
   "execution_count": null,
   "id": "5d92f536",
   "metadata": {
    "ExecuteTime": {
     "end_time": "2022-10-02T20:34:13.948100Z",
     "start_time": "2022-10-02T20:34:13.942704Z"
    }
   },
   "outputs": [],
   "source": [
    "def visualizeChimeTypeModelOutputs(moduleToInvoke):\n",
    "    modelMetadata = moduleToInvoke.__ASKEMMETADATA__\n",
    "    askemId = modelMetadata[\"ASKEM_ID\"]\n",
    "    askemProperties = modelMetadata[\"PROPERTIES\"]\n",
    "    pDict = {}\n",
    "    for k, v in askemProperties:\n",
    "        pDict[k] = v\n",
    "    \n",
    "    d_a, s_a, i_a, r_a, e_a = moduleToInvoke.main()\n",
    "    modelResults = {\"susceptible\": s_a,\n",
    "             \"infected\": i_a,\n",
    "             \"recovered\": r_a,\n",
    "             \"day\": d_a,\n",
    "             \"ever_infected\": e_a}\n",
    "    df = pd.DataFrame(modelResults)\n",
    "    df['day'] = df.index\n",
    "\n",
    "    fig = px.line(df, \n",
    "                  x=\"day\", \n",
    "                  y=[\"susceptible\", \"infected\", \"recovered\"], \n",
    "                  color_discrete_sequence=[\"black\", \"red\", \"green\"],\n",
    "                  title=\"Model '\" + pDict[\"Name\"] + \"' (ASKEM_ID:\" + askemId + \", date:\" + pDict[\"date\"] + \")\")\n",
    "    fig.update_layout(yaxis_title=\"Population\")\n",
    "    fig.update_layout(xaxis_title=\"Day\")\n",
    "    return fig\n"
   ]
  },
  {
   "cell_type": "code",
   "execution_count": null,
   "id": "75efe584",
   "metadata": {
    "ExecuteTime": {
     "end_time": "2022-10-02T20:34:15.477153Z",
     "start_time": "2022-10-02T20:34:15.473166Z"
    }
   },
   "outputs": [],
   "source": [
    "def loadModelSourceFromXDD(xddid):\n",
    "    r = requests.get(XDD_GET_URL + xddid)\n",
    "    if r.status_code == 200:\n",
    "        robj = r.json()\n",
    "        if \"success\" in robj:\n",
    "            successObj = robj[\"success\"]\n",
    "            xddObj = successObj[\"data\"][0]\n",
    "\n",
    "            dataObj = xddObj[\"data\"]\n",
    "            metadataObj = xddObj[\"metadata\"]\n",
    "            return dataObj\n",
    "        else:\n",
    "            raise Exception(\"Field 'success' not found in XDD fetched object\" + robj)\n",
    "    else:\n",
    "        raise Exception(\"XDD GET failed\")\n"
   ]
  },
  {
   "cell_type": "code",
   "execution_count": null,
   "id": "2629afff",
   "metadata": {
    "ExecuteTime": {
     "end_time": "2022-10-02T20:34:17.137852Z",
     "start_time": "2022-10-02T20:34:17.134603Z"
    }
   },
   "outputs": [],
   "source": [
    "def computeGrometRepr(lmodule):\n",
    "    cast = gromet.run_python_to_cast(lmodule.__file__)\n",
    "    gromet_object = gromet.run_cast_to_gromet_pipeline(cast)\n",
    "    return gromet_object\n"
   ]
  },
  {
   "cell_type": "code",
   "execution_count": null,
   "id": "fe8c16c3",
   "metadata": {
    "ExecuteTime": {
     "end_time": "2022-10-02T20:34:18.224322Z",
     "start_time": "2022-10-02T20:34:18.218256Z"
    }
   },
   "outputs": [],
   "source": [
    "def storeGrometInXDD(grometObj, srcModule):\n",
    "    gromet_collection_dict = grometObj.to_dict()\n",
    "    grometJsonRepr = gromet.dictionary_to_gromet_json(gromet.del_nulls(gromet_collection_dict))\n",
    "    \n",
    "    xddObj = {\n",
    "        \"metadata\": \"Blank Metadata Maybe Obsolete\",\n",
    "        \"data\": {\n",
    "            \"ASKEM_ID\": uuid.uuid4().hex,\n",
    "            \"ASKEM_CLASS\": \"Thing\",\n",
    "            \"PROPERTIES\": [(\"Name\", \"Gromet representation of \" + srcModule.__ASKEMMETADATA__[\"ASKEM_ID\"]),\n",
    "                         (\"date\", datetime.now().strftime(\"%b %d, %Y %H:%M:%S\"))],\n",
    "              \"DOMAIN_TAGS\": [],\n",
    "              \"RAW_DATA\": grometJsonRepr,\n",
    "              \"EXTERNAL_URL\": \"\"   \n",
    "        }\n",
    "    }\n",
    "    r = requests.post(XDD_CREATE_URL,\n",
    "                  headers={\"x-api-key\": MIT_XDD_KEY,\n",
    "                          \"Content-Type\": \"application/json\"},\n",
    "                      data=json.dumps(xddObj))  \n",
    "    if r.status_code == 200:\n",
    "        return r.json()[\"success\"][\"data\"][\"success\"][\"registered_ids\"][0]\n",
    "    else:\n",
    "        raise Exception(\"Cannot PUT Gromet Object\")\n",
    "\n"
   ]
  },
  {
   "cell_type": "code",
   "execution_count": null,
   "id": "e24e5794",
   "metadata": {
    "ExecuteTime": {
     "end_time": "2022-10-02T20:34:20.089418Z",
     "start_time": "2022-10-02T20:34:20.085172Z"
    }
   },
   "outputs": [],
   "source": [
    "def storeAlteredModelInXDD(curModelModule):\n",
    "    askemObj = curModelModule.__ASKEMMETADATA__\n",
    "    xddObj = {\n",
    "        \"metadata\": \"Blank Metadata Maybe Obsolete\",\n",
    "        \"data\": askemObj\n",
    "    }\n",
    "    r = requests.post(XDD_CREATE_URL,\n",
    "                    headers={\"x-api-key\": MIT_XDD_KEY,\n",
    "                          \"Content-Type\": \"application/json\"},\n",
    "                      data=json.dumps(xddObj))  \n",
    "    if r.status_code == 200:\n",
    "        return r.json()[\"success\"][\"data\"][\"success\"][\"registered_ids\"][0]\n",
    "    else:\n",
    "        raise Exception(\"Cannot PUT altered model\")\n"
   ]
  },
  {
   "cell_type": "markdown",
   "id": "9863ea8d",
   "metadata": {},
   "source": [
    "## SKEMA Text Reading Functions"
   ]
  },
  {
   "cell_type": "code",
   "execution_count": null,
   "id": "91e4b6ed",
   "metadata": {},
   "outputs": [],
   "source": [
    "def get_sentence(mention:Mapping[str, Any], documents:Mapping[str, Any]):\n",
    "    \"\"\" Returns the text containing the mention \"\"\"\n",
    "    doc_id = mention['document']\n",
    "    sentence_ix = mention['sentence']\n",
    "    sentence = documents[doc_id]['sentences'][sentence_ix]\n",
    "    return ' '.join(sentence['words'])\n",
    "\n",
    "\n",
    "def build_groundings(mention:Mapping[str, Any]) -> Optional[str]:\n",
    "    \"\"\" Extracts the grounding ID of the grounding associated to \n",
    "    the current mention \"\"\"\n",
    "    if mention['type'] == \"TextBoundMention\":\n",
    "        groundings = list()\n",
    "        for a in mention['attachments']:\n",
    "            # If score is a field in the attachment, then this is a grounding\n",
    "            if type(a) == list:\n",
    "                for g in a[0]:\n",
    "                    score = \"{:.2f}\".format(g['score'])\n",
    "                    groundings.append(f\"({g['name']}, {g['id']}, {score})\")\n",
    "        if len(groundings) > 0:\n",
    "            return ', '.join(groundings)"
   ]
  },
  {
   "cell_type": "code",
   "execution_count": null,
   "id": "f86f6677",
   "metadata": {},
   "outputs": [],
   "source": [
    "def annotate_json(file_path:str, endpoint:str = \"http://localhost:9000/cosmos_json_to_mentions\") -> List[Mapping[str, Any]]:\n",
    "    \"\"\" Annotates an existing json file on the server with the text reading pipeline \"\"\"\n",
    "\n",
    "    data = requests.post(endpoint, json={'pathToCosmosJson': file_path}).json()\n",
    "\n",
    "    return data\n",
    "\n",
    "\n",
    "def build_data_frame(mentions:List[Mapping[str, Any]], documents:Mapping[str, Any]) -> DataFrame:\n",
    "    \"\"\" Builds a data frame from the output of text reading \"\"\"\n",
    "\n",
    "    return DataFrame(\n",
    "        {\n",
    "            'text': mention['text'],\n",
    "            'sentence': get_sentence(mention, documents),\n",
    "            'start_token': mention['tokenInterval']['start'],\n",
    "            'end_token': mention['tokenInterval']['end'],\n",
    "            'mention_type': mention['type'],\n",
    "            'label': mention['labels'][0],\n",
    "            'grounding_id': build_groundings(mention),\n",
    "            # 'sentence_ix': mention['sentence'],\n",
    "        }\n",
    "        for mention in mentions\n",
    "    )\n",
    "\n",
    "def text_reading_mentions(file_path:str) -> DataFrame:\n",
    "    \"\"\" Puts together annotation and creating the data frame\"\"\"\n",
    "    return build_data_frame(**annotate_json(file_path))"
   ]
  },
  {
   "cell_type": "code",
   "execution_count": null,
   "id": "1423f307",
   "metadata": {},
   "outputs": [],
   "source": [
    "def get_paper_by_doi(doi:str) -> Optional[str]:\n",
    "    \"\"\" Mocks getting the Cosmos output by the paper's DOI \"\"\"\n",
    "    papers = {\n",
    "        \"10.1016/j.chaos.2021.110689\": \"/home/enoriega/documents_5Febcovid19--COSMOS-data.json\"\n",
    "    }\n",
    "    return papers.get(doi)"
   ]
  },
  {
   "cell_type": "markdown",
   "id": "647be8ba",
   "metadata": {
    "ExecuteTime": {
     "end_time": "2022-09-29T20:25:21.317694Z",
     "start_time": "2022-09-29T20:25:21.315178Z"
    }
   },
   "source": [
    "# TA-1 Demo Starts Here!"
   ]
  },
  {
   "cell_type": "markdown",
   "id": "c88c9a02",
   "metadata": {},
   "source": [
    "## Step 0: Indicate XDD identifier for input model source"
   ]
  },
  {
   "cell_type": "code",
   "execution_count": null,
   "id": "306460d0",
   "metadata": {
    "ExecuteTime": {
     "end_time": "2022-10-02T20:34:22.774005Z",
     "start_time": "2022-10-02T20:34:22.771500Z"
    }
   },
   "outputs": [],
   "source": [
    "modelSourceXDDId = \"761ff74a-b0e1-48bf-b79a-851e3da6b207\"\n"
   ]
  },
  {
   "cell_type": "markdown",
   "id": "e8a62470",
   "metadata": {
    "ExecuteTime": {
     "end_time": "2022-09-29T20:24:49.281645Z",
     "start_time": "2022-09-29T20:24:49.279162Z"
    }
   },
   "source": [
    "## Step 1: Import model source code from file, run it, and visualize results"
   ]
  },
  {
   "cell_type": "code",
   "execution_count": null,
   "id": "c67e284f",
   "metadata": {
    "ExecuteTime": {
     "end_time": "2022-10-02T20:34:25.192128Z",
     "start_time": "2022-10-02T20:34:23.949370Z"
    }
   },
   "outputs": [],
   "source": [
    "askemObj = loadModelSourceFromXDD(modelSourceXDDId)\n",
    "loadedModelModule = storeModelSourceAndLoad(askemObj[\"RAW_DATA\"][\"text\"], askemObj)\n",
    "visualizeChimeTypeModelOutputs(loadedModelModule)\n"
   ]
  },
  {
   "cell_type": "markdown",
   "id": "731120ec",
   "metadata": {
    "ExecuteTime": {
     "end_time": "2022-09-29T20:27:02.450824Z",
     "start_time": "2022-09-29T20:27:02.446342Z"
    }
   },
   "source": [
    "## Step 2: Analyze model source code to extract Gromet Function Network (SKEMA Code2FN), then insert Gromet result into XDD\n",
    "\n",
    "A proof of concept has been created to show an in-application IDE in TERArium. This IDE is capable of running the custom VS code extension that we created to annotate code. In addtion, this extension enables the IDE in TERArium to send an entire source-code file to GROMET, receive the resulting GROMET, and highlight code syntax with relevant metadata so the end-user can confirm the GROMET extraction proceeded correctly.\n",
    "\n",
    "Demo Video [TODO]"
   ]
  },
  {
   "cell_type": "code",
   "execution_count": null,
   "id": "fe6c6865",
   "metadata": {
    "ExecuteTime": {
     "end_time": "2022-10-02T20:34:28.385940Z",
     "start_time": "2022-10-02T20:34:27.648280Z"
    }
   },
   "outputs": [],
   "source": [
    "\n",
    "grometObject = computeGrometRepr(loadedModelModule)\n",
    "grometXDDId = storeGrometInXDD(grometObject, loadedModelModule)\n",
    "grometXDDId\n",
    "\n"
   ]
  },
  {
   "cell_type": "markdown",
   "id": "4bab19f4",
   "metadata": {
    "ExecuteTime": {
     "end_time": "2022-09-29T20:27:56.308675Z",
     "start_time": "2022-09-29T20:27:56.305008Z"
    }
   },
   "source": [
    "## Step 3: Load MIRA Epidemiology Domain Ontology Graph\n",
    "\n",
    "We first set up access to the MIRA Epidemiology Domain Knowledge Graph (DKG) web service."
   ]
  },
  {
   "cell_type": "code",
   "execution_count": null,
   "id": "a65565ec",
   "metadata": {
    "ExecuteTime": {
     "end_time": "2022-10-02T20:34:29.658742Z",
     "start_time": "2022-10-02T20:34:29.653855Z"
    }
   },
   "outputs": [],
   "source": [
    "MIRA_DKG_URL = 'http://34.230.33.149:8771'\n",
    "\n",
    "def get_mira_dkg_term(term, attribs):\n",
    "    res = requests.get(MIRA_DKG_URL + '/api/search', params={'q': term})\n",
    "    term = [entity for entity in res.json() if entity['id'].startswith('askemo')][0]\n",
    "    res = {attrib: term.get(attrib) for attrib in attribs if term.get(attrib) is not None}\n",
    "    return res"
   ]
  },
  {
   "cell_type": "markdown",
   "id": "cf8d5ac5",
   "metadata": {},
   "source": [
    "Next, we choose a set of terms and attributes to pull into a local ontology that we can use to connect to the model. In addition, for some of the terms, we define custom ranges in which their values for this model can be adjusted."
   ]
  },
  {
   "cell_type": "code",
   "execution_count": null,
   "id": "ece21245",
   "metadata": {},
   "outputs": [],
   "source": [
    "# Terms we want to find in MIRA and specific attributes we want to add to our local ontology\n",
    "terms = ['population', 'doubling time', 'recovery time', 'infectious time']\n",
    "attribs = ['description', 'synonyms', 'xrefs', 'suggested_unit', 'suggested_data_type',\n",
    "           'physical_min', 'physical_max', 'typical_min', 'typical_max']\n",
    "\n",
    "# The local ontology if filled up from the MIRA DKG\n",
    "LOCAL_ONTOLOGY = {\n",
    "    term: get_mira_dkg_term(term, attribs) for term in terms\n",
    "    }\n",
    "\n",
    "# We can also set further local / use-case specific constraints as needed\n",
    "LOCAL_ONTOLOGY['population']['typical_min'] = 1000\n",
    "LOCAL_ONTOLOGY['population']['typical_max'] = 40_000_000\n",
    "\n",
    "LOCAL_ONTOLOGY"
   ]
  },
  {
   "cell_type": "markdown",
   "id": "7554712c",
   "metadata": {},
   "source": [
    "## Step 4: Domain knowledge graph registration and indexing\n",
    "\n",
    "xDD now has a framework to support ingestion of domain knowledge graphs stored in RDF format. Entities (nodes) from the MIRA knowledge graph have been stored as ASKEM objects (with class=Term), enabling recall within the xDD system:"
   ]
  },
  {
   "cell_type": "code",
   "execution_count": null,
   "id": "97df3396",
   "metadata": {},
   "outputs": [],
   "source": [
    "url = f\"{XDD_GET_URL}?askem_class=Term&description=incidence rate\"\n",
    "resp = requests.get(url)\n",
    "data = resp.json()\n",
    "result = data[\"success\"][\"data\"][:3]\n",
    "ppr.pprint(result)"
   ]
  },
  {
   "cell_type": "markdown",
   "id": "95a7bafd",
   "metadata": {},
   "source": [
    "This knowledge graph is then indexed and projected into the literature -- currently via a naive term-based matching. This enables summarization of label volume across the xDD corpus (or subsets therein). The example below looks at the hyper-focused modeling-specific subset (more info in the next step), accumulating the number of mentions within the literature of each node label within the ingested DKG."
   ]
  },
  {
   "cell_type": "code",
   "execution_count": null,
   "id": "c5ea1f24",
   "metadata": {},
   "outputs": [],
   "source": [
    "url = f\"{XDD_ARTICLES_URL}articles?dataset=askem_covid_demo&known_terms=mira_rdf_terms&term_format=full&n_hits=5\"\n",
    "resp = requests.get(url)\n",
    "data = resp.json()\n",
    "from collections import defaultdict\n",
    "term_stats = defaultdict(int)\n",
    "for document in data[\"success\"][\"data\"]:\n",
    "  for dictionary in document['known_terms']:\n",
    "    for _, terms in dictionary.items():\n",
    "      for term in terms:\n",
    "        term_stats[term['term']] += term['n_hits']\n",
    "ppr.pprint(sorted(term_stats.items(), key=lambda i: -i[1]))"
   ]
  },
  {
   "cell_type": "markdown",
   "id": "844a40d9",
   "metadata": {},
   "source": [
    "## Step 5: Literature queries and Relevant Corpus Definitions\n",
    "\n",
    "xDD provides the ability to define _sets_ of documents to process and investigate as a small, targeted corpus. This enables users to reach into the relevant literature to extract text, tables, figures relevant to a query. Embedding models can be trained to enable phrase and document similarity lookups within this targeted set.\n",
    "\n",
    "Two xDD sets have been defined for this demonstration: One very small, hyper-targeted set (33 documents), compiled through collaboration with Ben Gyori and the MITRE starter kit. The second casts a wider net (~9,000 documents), requiring occurrence of both \"covid-19\" (or a synonym) and one of a handful of modeling-related terms [\"infection rate\", \"susceptible population\", \"recovery rate\", ...]\n",
    "\n",
    "### Similar documents\n",
    "Given a DOI of a document (\"Projections and fractional dynamics of COVID-19 with optimal control strategies\" by Nabi et. al), we can quicky recovery semantically similar documents within the covid-19 modeling set:\n"
   ]
  },
  {
   "cell_type": "code",
   "execution_count": null,
   "id": "2c102a70",
   "metadata": {},
   "outputs": [],
   "source": [
    "url = f\"https://xdd.wisc.edu/sets/xdd-covid-19-modeling/doc2vec/similar?doi=10.1016/j.chaos.2021.110689\"\n",
    "resp = requests.get(url)\n",
    "ppr.pprint([f'{i[\"bibjson\"][\"title\"]} ({i[\"bibjson\"][\"identifier\"][0][\"id\"]})'  for i in resp.json()['data']])"
   ]
  },
  {
   "cell_type": "markdown",
   "id": "1e79a224",
   "metadata": {},
   "source": [
    "### Parameter exploration\n",
    "\n",
    "xDD allows the ability to search for text mentions of entities and parameters and, via COSMOS extractions, mentions within tables, figures, captions, and linked mentions within body text.\n",
    "\n",
    "If a modeler is interested in finding more information about γ (recovery rate). They could look up usage of this parameter within related literature. For example, by explicitly looking it up within the SEIRS publication (\"The SEIRS model for infectious disease dynamics\"):\n"
   ]
  },
  {
   "cell_type": "code",
   "execution_count": null,
   "id": "bae9a6c0",
   "metadata": {},
   "outputs": [],
   "source": [
    "url = \"https://xdd.wisc.edu/api/articles?title=\" + urllib.parse.quote(\"The SEIRS model for infectious disease dynamics\")\n",
    "# https://xdd.wisc.edu/api/articles?title=The SEIRS model for infectious disease dynamics\n",
    "resp = requests.get(url)\n",
    "docid = resp.json()['success']['data'][0][\"_gddid\"]\n",
    "url = \"https://xdd.wisc.edu/api/snippets?term=\" + urllib.parse.quote(\"γ\") + f\"&docid={docid}&clean\"\n",
    "# https://xdd.wisc.edu/api/snippets?term=γ&docid=616aca9567467f7269c432ba&clean\n",
    "resp = requests.get(url)\n",
    "ppr.pprint(resp.json())"
   ]
  },
  {
   "cell_type": "markdown",
   "id": "948a4598",
   "metadata": {},
   "source": [
    "Indicating that a recovery time of 1/γ = 14 days may be a reasonable starting point. However, the user can cast a wider net, and seek tables of relevant values from the very-focused modeling literature:"
   ]
  },
  {
   "cell_type": "code",
   "execution_count": null,
   "id": "7fb07a2a",
   "metadata": {},
   "outputs": [],
   "source": [
    "url = f\"{XDD_GET_URL}?askem_class=Table&contentText=\" + urllib.parse.quote(\"γ\")\n",
    "# https://xdddev.chtc.io/askem/object?askem_class=Table&contentText=γ\n",
    "\n",
    "resp = requests.get(url)\n",
    "data = resp.json()\n",
    "result = data[\"success\"][\"data\"][2] # Grab the element we want\n",
    "# alternatively, direct URL: https://xdddev.chtc.io/askem/object/0842faf6-c659-4604-b553-55d8bfbe928d\"\n",
    "display.Image(b64decode(result['properties']['image']))"
   ]
  },
  {
   "cell_type": "markdown",
   "id": "3ce767af",
   "metadata": {},
   "source": [
    "Part of this response is a dataframe extraction of the discovered table, which may be useful for extraction (or ingestion into the workbench via the dataset cleanup/annotation process under development by Jataware:"
   ]
  },
  {
   "cell_type": "code",
   "execution_count": null,
   "id": "db256406",
   "metadata": {},
   "outputs": [],
   "source": [
    "df = pd.read_json(json.dumps(result['properties']['contentJSON']))\n",
    "df"
   ]
  },
  {
   "cell_type": "markdown",
   "id": "ed9b5615",
   "metadata": {},
   "source": [
    "## Step 6: [TODO] Possible Jataware table cleanup\n",
    "\n",
    "A table reading proof of concept has been integrated into the Dojo data annotation stack. This demo shows the capability to place an image of a table and an editable copy of the extracted table into the dojo data registration flow. The end user can make changes to the table and then export it back to xDD.\n",
    "\n",
    "Demo Video [TODO]"
   ]
  },
  {
   "cell_type": "markdown",
   "id": "99980d82",
   "metadata": {},
   "source": [
    "## Step 7: Perform machine reading of target paper (SKEMA Text Reading Pipeline), Grounding to concepts in the MIRA Epidemiology DKG"
   ]
  },
  {
   "cell_type": "markdown",
   "id": "12334144",
   "metadata": {},
   "source": [
    "### Test Paper Bibliography\n",
    "\n",
    "__Projections and fractional dynamics of COVID-19 with optimal control strategies__\n",
    "_Chaos, Solitons & Fractals, Volume 145, April 2021, 110689_\n",
    "\n",
    "Khondoker Nazmoon Nabi, Pushpendra Kumar, Vedat Suat Erturk\n",
    "\n",
    "Received 30 November 2020, Revised 9 January 2021, Accepted 12 January 2021, Available online 28 January 2021, Version of Record 2 March 2021."
   ]
  },
  {
   "cell_type": "code",
   "execution_count": null,
   "id": "d30f0960",
   "metadata": {},
   "outputs": [],
   "source": [
    "pd.set_option('display.max_colwidth', None)\n",
    "\n",
    "paper_path = get_paper_by_doi(\"10.1016/j.chaos.2021.110689\")\n",
    "\n",
    "text_reading_mentions(paper_path)"
   ]
  },
  {
   "cell_type": "markdown",
   "id": "3265b96b",
   "metadata": {},
   "source": [
    "## Step 8: Analyze Gromet FN model role analysis (SKEMA MORAE Module)\n",
    "\n",
    "[WIP]\n",
    "\n",
    "SKEMA Model Role Analysis and Extraction Module analyzes FN to identify modeling roles. Adapts the Data Science Ontology framework.\n",
    "\n",
    "![code_role](images/dso_goal_example.png)\n",
    "\n",
    "![core_dynamics](images/flat_CHIME_sir_label.png)"
   ]
  },
  {
   "cell_type": "markdown",
   "id": "273d7458",
   "metadata": {},
   "source": [
    "## Step 9: Analyze alignment of documentation equations to Gromet FN (SKEMA ISA Module)\n",
    "\n",
    "[WIP]\n",
    "\n",
    "SKEMA Eqn2MathML module extracts MathML from documentation images of equations; represent MathML as graph structure; perform search to align structure equation and FN structure using \n",
    "\n",
    "![sgm_adj_marices](images/adjacent_matrices.png)"
   ]
  },
  {
   "cell_type": "markdown",
   "id": "0ddc14d9",
   "metadata": {},
   "source": [
    "## Step 10: Analyze Gromet FN to identify beta parameter ranges that satisfy constraint (SKEMA FUNMAN)"
   ]
  },
  {
   "cell_type": "markdown",
   "id": "5e1032b2",
   "metadata": {
    "ExecuteTime": {
     "end_time": "2022-09-29T20:29:23.510267Z",
     "start_time": "2022-09-29T20:29:23.506484Z"
    }
   },
   "source": [
    "## Step 11: Analyze Gromet representation to find connections between Gromet code and Pandemic Ontology's parameters (\"knobs\") (MIT System)"
   ]
  },
  {
   "cell_type": "code",
   "execution_count": null,
   "id": "f6573fca",
   "metadata": {
    "ExecuteTime": {
     "end_time": "2022-10-02T20:34:34.113531Z",
     "start_time": "2022-10-02T20:34:34.110320Z"
    }
   },
   "outputs": [],
   "source": [
    "#\n",
    "# Build Code/Ontology connections based on OpenAI GPT-3\n",
    "#\n",
    "# Hard coded version for connection\n",
    "\n",
    "# targets = ['population', 'doubling time', 'recovery time', 'infectious time']\n",
    "\n",
    "\n",
    "code = \"CHIME_SIR_default_model.py\"\n",
    "terms = ['population', 'doubling time', 'recovery time', 'infectious time']\n",
    "targets = ['population', 'infectious time']\n",
    "discoveredParameterConnections = []\n",
    "try:\n",
    "    discoveredParameterConnections = gpt.match_targets(targets, code, terms)\n",
    "except OpenAIError as err:\n",
    "    print(\"OpenAI connection error:\", err)\n",
    "    print(\"Using hard-coded connections\")\n",
    "    discoveredParameterConnections = [(\"infectious time\", {\"name\": \"grometSubObject\"}, 14.0, 67),(\"population\", {\"name\": \"grometSubObject\"}, 1000, 80)]\n",
    "\n",
    "discoveredParameterConnections"
   ]
  },
  {
   "cell_type": "markdown",
   "id": "5a887338",
   "metadata": {
    "ExecuteTime": {
     "end_time": "2022-09-29T20:31:29.237903Z",
     "start_time": "2022-09-29T20:31:29.234682Z"
    }
   },
   "source": [
    "## Step 12: Show the user the knobs we found in the code. User can adjust them and recompute"
   ]
  },
  {
   "cell_type": "code",
   "execution_count": null,
   "id": "6eda0f64",
   "metadata": {
    "ExecuteTime": {
     "end_time": "2022-10-02T20:34:35.613934Z",
     "start_time": "2022-10-02T20:34:35.544233Z"
    }
   },
   "outputs": [],
   "source": [
    "currentKnobs = {}\n",
    "sliders = {}\n",
    "rows = []\n",
    "rows.append(widgets.HTML(\"<b>Recovered parameters</b>\"))\n",
    "for dpc in discoveredParameterConnections:\n",
    "    parameterName, grometObj, curValue, lineOfCode = dpc\n",
    "    ontologyRecord = LOCAL_ONTOLOGY[parameterName]  # [\"parameters\"][parameterName]\n",
    "\n",
    "    currentKnobs[parameterName] = curValue\n",
    "    curSlider = widgets.IntSlider(min=ontologyRecord[\"typical_min\"], \n",
    "                                     max=ontologyRecord[\"typical_max\"], \n",
    "                                     value=curValue)\n",
    "\n",
    "    sliders[parameterName] = curSlider\n",
    "    \n",
    "    row = widgets.HBox([widgets.HTML(value=\"<b>\" + parameterName + \"</b>\"), curSlider])\n",
    "    tinyCell = widgets.VBox([row, widgets.Label(value=ontologyRecord[\"description\"] + \" (observed value: \" + str(curValue) + \")\")])\n",
    "    rows.append(tinyCell)\n",
    "\n",
    "button = widgets.Button(description=\"Alter Model\")\n",
    "output = widgets.Output()\n",
    "\n",
    "newModelModules = []\n",
    "\n",
    "def on_button_clicked(b):\n",
    "    # rebuild the model and get the result\n",
    "    edits = []\n",
    "    for dpc in discoveredParameterConnections:\n",
    "        parameterName, grometObj, curValue, lineOfCode = dpc\n",
    "        sliderValue = sliders[parameterName].value\n",
    "        edits.append((lineOfCode, sliderValue))\n",
    "\n",
    "    newModelModule = cloneAndMutateModel(loadedModelModule, edits)\n",
    "    with output:\n",
    "        output.clear_output()\n",
    "        newModelModules.clear()\n",
    "        newModelModules.append(newModelModule)\n",
    "        display(visualizeChimeTypeModelOutputs(newModelModule))\n",
    "            \n",
    "button.on_click(on_button_clicked)\n",
    "\n",
    "rows.append(button)\n",
    "rows.append(output)\n",
    "for s in rows:\n",
    "    display(s)"
   ]
  },
  {
   "cell_type": "markdown",
   "id": "ac9a4436",
   "metadata": {},
   "source": [
    "## Step 13: Update beta analysis to show difference based on model reparameterization (SKEMA FUNMAN)\n",
    "\n",
    "Generated updated BiLayer"
   ]
  },
  {
   "cell_type": "markdown",
   "id": "f39402fe",
   "metadata": {},
   "source": [
    "## Step 14: When the user obtains an altered model she likes, she can choose to store it in XDD, along with metadata about how it was created\n",
    "\n",
    "xDD has been extended to include rudimentary registration, recall, and searching of JSON objects. This registration is backed by a shared metadata schema, which serves as a sort of a data contract -- as long as the registered objects match the agreed upon schema, they will be indexed and queryable.\n",
    "\n",
    "A primary benefit of xDD being the datastore is the potential benefit for synthesis and data integration within one system. The vision is to be able to bring back document, parameter, table, and structured datasets relevant to a query in one shot, rather than having to access multiple endpoints across the ecosystem.\n",
    "\n",
    "A secondary benefit is having a central place to assign stable object identities that can be used throughout the ASKEM ecosystem, with one place for recalling the object.\n",
    "\n",
    "The current status is that it is a viable proof of concept, with initial indexing on a handful of critical terms.\n",
    "\n",
    "Short term improvement targets are updates to the recall API (more search options, pagination) and schema adherence checking.\n",
    "\n",
    "Longer term development plans include a versioning system to track and return updates and annotations over time, while returning the latest version of an object by default."
   ]
  },
  {
   "cell_type": "code",
   "execution_count": null,
   "id": "362927bd",
   "metadata": {
    "ExecuteTime": {
     "end_time": "2022-10-02T20:34:41.512130Z",
     "start_time": "2022-10-02T20:34:41.206182Z"
    }
   },
   "outputs": [],
   "source": [
    "if len(newModelModules) > 0:\n",
    "    print(\"XDD ID: \", storeAlteredModelInXDD(newModelModules[-1]))"
   ]
  }
 ],
 "metadata": {
  "kernelspec": {
   "display_name": "Python 3 (ipykernel)",
   "language": "python",
   "name": "python3"
  },
  "language_info": {
   "codemirror_mode": {
    "name": "ipython",
    "version": 3
   },
   "file_extension": ".py",
   "mimetype": "text/x-python",
   "name": "python",
   "nbconvert_exporter": "python",
   "pygments_lexer": "ipython3",
   "version": "3.9.7"
  },
  "varInspector": {
   "cols": {
    "lenName": 16,
    "lenType": 16,
    "lenVar": 40
   },
   "kernels_config": {
    "python": {
     "delete_cmd_postfix": "",
     "delete_cmd_prefix": "del ",
     "library": "var_list.py",
     "varRefreshCmd": "print(var_dic_list())"
    },
    "r": {
     "delete_cmd_postfix": ") ",
     "delete_cmd_prefix": "rm(",
     "library": "var_list.r",
     "varRefreshCmd": "cat(var_dic_list()) "
    }
   },
   "types_to_exclude": [
    "module",
    "function",
    "builtin_function_or_method",
    "instance",
    "_Feature"
   ],
   "window_display": false
  }
 },
 "nbformat": 4,
 "nbformat_minor": 5
}
